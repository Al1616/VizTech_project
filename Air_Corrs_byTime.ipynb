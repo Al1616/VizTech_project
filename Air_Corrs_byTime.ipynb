{
 "cells": [
  {
   "cell_type": "code",
   "execution_count": 1,
   "metadata": {},
   "outputs": [],
   "source": [
    "import os\n",
    "from os import environ\n",
    "import pandas as pd\n",
    "import numpy as np\n",
    "import geopandas as gpd\n",
    "from sodapy import Socrata\n",
    "from scipy.stats import pearsonr\n",
    "import matplotlib.pyplot as plt"
   ]
  },
  {
   "cell_type": "code",
   "execution_count": 2,
   "metadata": {},
   "outputs": [],
   "source": [
    "from sklearn.decomposition import PCA as sklearnPCA\n",
    "from sklearn.preprocessing import StandardScaler\n",
    "from sklearn import preprocessing\n",
    "from sklearn.model_selection import train_test_split, KFold, GridSearchCV\n",
    "from sklearn.linear_model import Lasso\n",
    "from sklearn.metrics import r2_score, mean_squared_error\n",
    "from sklearn.kernel_ridge import KernelRidge"
   ]
  },
  {
   "cell_type": "code",
   "execution_count": 3,
   "metadata": {},
   "outputs": [],
   "source": [
    "import warnings\n",
    "warnings.filterwarnings(\"ignore\")"
   ]
  },
  {
   "cell_type": "markdown",
   "metadata": {},
   "source": [
    "MorningAir"
   ]
  },
  {
   "cell_type": "code",
   "execution_count": 4,
   "metadata": {},
   "outputs": [],
   "source": [
    "census_tract_path = '/Users/Albert/Jupyter/us_tracts/us_tract.shp'\n",
    "tracts = gpd.read_file(census_tract_path)"
   ]
  },
  {
   "cell_type": "code",
   "execution_count": 5,
   "metadata": {},
   "outputs": [],
   "source": [
    "morn_30 = pd.read_csv('/Users/Albert/Jupyter/ManhattanAirMorning6.csv')"
   ]
  },
  {
   "cell_type": "code",
   "execution_count": 6,
   "metadata": {},
   "outputs": [],
   "source": [
    "morn_31 = pd.read_csv('/Users/Albert/Jupyter/ManhattanAir31Morning.csv')"
   ]
  },
  {
   "cell_type": "code",
   "execution_count": 7,
   "metadata": {},
   "outputs": [],
   "source": [
    "morn_01 = pd.read_csv('/Users/Albert/Jupyter/ManhattanAir01Morn.csv')"
   ]
  },
  {
   "cell_type": "code",
   "execution_count": 8,
   "metadata": {},
   "outputs": [],
   "source": [
    "morn = pd.DataFrame()"
   ]
  },
  {
   "cell_type": "code",
   "execution_count": 9,
   "metadata": {},
   "outputs": [],
   "source": [
    "morn_30['aqi'] = morn_30.rename(columns = {'aqi':'aqi30'}, inplace=True)"
   ]
  },
  {
   "cell_type": "code",
   "execution_count": 10,
   "metadata": {},
   "outputs": [],
   "source": [
    "morn_31['aqi'] = morn_31.rename(columns = {'aqi':'aqi31'}, inplace=True)"
   ]
  },
  {
   "cell_type": "code",
   "execution_count": 11,
   "metadata": {},
   "outputs": [],
   "source": [
    "morn_01['aqi'] = morn_01.rename(columns = {'aqi':'aqi01'}, inplace=True)"
   ]
  },
  {
   "cell_type": "code",
   "execution_count": 12,
   "metadata": {},
   "outputs": [],
   "source": [
    "morn = morn_30.merge(morn_31, on='region_id')"
   ]
  },
  {
   "cell_type": "code",
   "execution_count": 13,
   "metadata": {},
   "outputs": [],
   "source": [
    "morn = morn.merge(morn_01, on='region_id')"
   ]
  },
  {
   "cell_type": "code",
   "execution_count": 14,
   "metadata": {},
   "outputs": [],
   "source": [
    "cols = ['region_id','aqi30','aqi31','aqi01']"
   ]
  },
  {
   "cell_type": "code",
   "execution_count": 15,
   "metadata": {},
   "outputs": [],
   "source": [
    "morn = morn[cols]"
   ]
  },
  {
   "cell_type": "code",
   "execution_count": 16,
   "metadata": {},
   "outputs": [],
   "source": [
    "morn_aqi = pd.DataFrame()"
   ]
  },
  {
   "cell_type": "code",
   "execution_count": 17,
   "metadata": {},
   "outputs": [],
   "source": [
    "morn_aqi = morn.set_index('region_id').mean(axis=1).rename('aqi_morn').reset_index()"
   ]
  },
  {
   "cell_type": "code",
   "execution_count": 18,
   "metadata": {},
   "outputs": [],
   "source": [
    "morn_aqi['region_id'] = morn_aqi['region_id'].astype(str)"
   ]
  },
  {
   "cell_type": "code",
   "execution_count": 19,
   "metadata": {},
   "outputs": [
    {
     "data": {
      "text/html": [
       "<div>\n",
       "<style scoped>\n",
       "    .dataframe tbody tr th:only-of-type {\n",
       "        vertical-align: middle;\n",
       "    }\n",
       "\n",
       "    .dataframe tbody tr th {\n",
       "        vertical-align: top;\n",
       "    }\n",
       "\n",
       "    .dataframe thead th {\n",
       "        text-align: right;\n",
       "    }\n",
       "</style>\n",
       "<table border=\"1\" class=\"dataframe\">\n",
       "  <thead>\n",
       "    <tr style=\"text-align: right;\">\n",
       "      <th></th>\n",
       "      <th>region_id</th>\n",
       "      <th>aqi_morn</th>\n",
       "    </tr>\n",
       "  </thead>\n",
       "  <tbody>\n",
       "    <tr>\n",
       "      <th>0</th>\n",
       "      <td>36061002400</td>\n",
       "      <td>83.000000</td>\n",
       "    </tr>\n",
       "    <tr>\n",
       "      <th>1</th>\n",
       "      <td>36061011202</td>\n",
       "      <td>75.000000</td>\n",
       "    </tr>\n",
       "    <tr>\n",
       "      <th>2</th>\n",
       "      <td>36061004400</td>\n",
       "      <td>75.000000</td>\n",
       "    </tr>\n",
       "    <tr>\n",
       "      <th>3</th>\n",
       "      <td>36061003900</td>\n",
       "      <td>73.333333</td>\n",
       "    </tr>\n",
       "    <tr>\n",
       "      <th>4</th>\n",
       "      <td>36061006000</td>\n",
       "      <td>83.333333</td>\n",
       "    </tr>\n",
       "    <tr>\n",
       "      <th>5</th>\n",
       "      <td>36061009200</td>\n",
       "      <td>73.666667</td>\n",
       "    </tr>\n",
       "    <tr>\n",
       "      <th>6</th>\n",
       "      <td>36061027300</td>\n",
       "      <td>81.000000</td>\n",
       "    </tr>\n",
       "    <tr>\n",
       "      <th>7</th>\n",
       "      <td>36061031100</td>\n",
       "      <td>75.666667</td>\n",
       "    </tr>\n",
       "    <tr>\n",
       "      <th>8</th>\n",
       "      <td>36061003200</td>\n",
       "      <td>77.666667</td>\n",
       "    </tr>\n",
       "    <tr>\n",
       "      <th>9</th>\n",
       "      <td>36061001502</td>\n",
       "      <td>72.333333</td>\n",
       "    </tr>\n",
       "  </tbody>\n",
       "</table>\n",
       "</div>"
      ],
      "text/plain": [
       "     region_id   aqi_morn\n",
       "0  36061002400  83.000000\n",
       "1  36061011202  75.000000\n",
       "2  36061004400  75.000000\n",
       "3  36061003900  73.333333\n",
       "4  36061006000  83.333333\n",
       "5  36061009200  73.666667\n",
       "6  36061027300  81.000000\n",
       "7  36061031100  75.666667\n",
       "8  36061003200  77.666667\n",
       "9  36061001502  72.333333"
      ]
     },
     "execution_count": 19,
     "metadata": {},
     "output_type": "execute_result"
    }
   ],
   "source": [
    "morn_aqi.head(10)"
   ]
  },
  {
   "cell_type": "code",
   "execution_count": null,
   "metadata": {},
   "outputs": [],
   "source": []
  },
  {
   "cell_type": "code",
   "execution_count": null,
   "metadata": {},
   "outputs": [],
   "source": []
  },
  {
   "cell_type": "code",
   "execution_count": null,
   "metadata": {},
   "outputs": [],
   "source": []
  },
  {
   "cell_type": "markdown",
   "metadata": {},
   "source": [
    "NoonAir"
   ]
  },
  {
   "cell_type": "code",
   "execution_count": 92,
   "metadata": {},
   "outputs": [],
   "source": [
    "noon_30 = pd.read_csv('/Users/Albert/Jupyter/ManhattanAirNoon13.csv')\n",
    "noon_31 = pd.read_csv('/Users/Albert/Jupyter/ManhattanAir31Noon.csv')\n",
    "noon_01 = pd.read_csv('/Users/Albert/Jupyter/ManhattanAir01Noon.csv')"
   ]
  },
  {
   "cell_type": "code",
   "execution_count": 93,
   "metadata": {},
   "outputs": [],
   "source": [
    "noon = pd.DataFrame()"
   ]
  },
  {
   "cell_type": "code",
   "execution_count": 94,
   "metadata": {},
   "outputs": [],
   "source": [
    "noon_30['aqi'] = noon_30.rename(columns = {'aqi':'aqi30'}, inplace=True)\n",
    "noon_31['aqi'] = noon_31.rename(columns = {'aqi':'aqi31'}, inplace=True)\n",
    "noon_01['aqi'] = noon_01.rename(columns = {'aqi':'aqi01'}, inplace=True)"
   ]
  },
  {
   "cell_type": "code",
   "execution_count": 95,
   "metadata": {},
   "outputs": [],
   "source": [
    "noon = noon_30.merge(noon_31, on='region_id')\n",
    "noon = noon.merge(noon_01, on='region_id')"
   ]
  },
  {
   "cell_type": "code",
   "execution_count": 96,
   "metadata": {},
   "outputs": [],
   "source": [
    "cols = ['region_id','aqi30','aqi31','aqi01']"
   ]
  },
  {
   "cell_type": "code",
   "execution_count": 97,
   "metadata": {},
   "outputs": [],
   "source": [
    "noon = noon[cols]"
   ]
  },
  {
   "cell_type": "code",
   "execution_count": 98,
   "metadata": {},
   "outputs": [],
   "source": [
    "noon_aqi = pd.DataFrame()"
   ]
  },
  {
   "cell_type": "code",
   "execution_count": 99,
   "metadata": {},
   "outputs": [],
   "source": [
    "noon_aqi = noon.set_index('region_id').mean(axis=1).rename('aqi_noon').reset_index()"
   ]
  },
  {
   "cell_type": "code",
   "execution_count": 100,
   "metadata": {},
   "outputs": [],
   "source": [
    "noon_aqi['region_id'] = noon_aqi['region_id'].astype(str)"
   ]
  },
  {
   "cell_type": "code",
   "execution_count": 101,
   "metadata": {},
   "outputs": [
    {
     "data": {
      "text/html": [
       "<div>\n",
       "<style scoped>\n",
       "    .dataframe tbody tr th:only-of-type {\n",
       "        vertical-align: middle;\n",
       "    }\n",
       "\n",
       "    .dataframe tbody tr th {\n",
       "        vertical-align: top;\n",
       "    }\n",
       "\n",
       "    .dataframe thead th {\n",
       "        text-align: right;\n",
       "    }\n",
       "</style>\n",
       "<table border=\"1\" class=\"dataframe\">\n",
       "  <thead>\n",
       "    <tr style=\"text-align: right;\">\n",
       "      <th></th>\n",
       "      <th>region_id</th>\n",
       "      <th>aqi_noon</th>\n",
       "    </tr>\n",
       "  </thead>\n",
       "  <tbody>\n",
       "    <tr>\n",
       "      <th>0</th>\n",
       "      <td>36061002400</td>\n",
       "      <td>78.000000</td>\n",
       "    </tr>\n",
       "    <tr>\n",
       "      <th>1</th>\n",
       "      <td>36061011202</td>\n",
       "      <td>63.000000</td>\n",
       "    </tr>\n",
       "    <tr>\n",
       "      <th>2</th>\n",
       "      <td>36061004400</td>\n",
       "      <td>66.666667</td>\n",
       "    </tr>\n",
       "    <tr>\n",
       "      <th>3</th>\n",
       "      <td>36061003900</td>\n",
       "      <td>65.000000</td>\n",
       "    </tr>\n",
       "    <tr>\n",
       "      <th>4</th>\n",
       "      <td>36061006000</td>\n",
       "      <td>78.000000</td>\n",
       "    </tr>\n",
       "    <tr>\n",
       "      <th>5</th>\n",
       "      <td>36061009200</td>\n",
       "      <td>64.666667</td>\n",
       "    </tr>\n",
       "    <tr>\n",
       "      <th>6</th>\n",
       "      <td>36061027300</td>\n",
       "      <td>78.333333</td>\n",
       "    </tr>\n",
       "    <tr>\n",
       "      <th>7</th>\n",
       "      <td>36061031100</td>\n",
       "      <td>59.666667</td>\n",
       "    </tr>\n",
       "    <tr>\n",
       "      <th>8</th>\n",
       "      <td>36061003200</td>\n",
       "      <td>70.000000</td>\n",
       "    </tr>\n",
       "    <tr>\n",
       "      <th>9</th>\n",
       "      <td>36061001502</td>\n",
       "      <td>62.333333</td>\n",
       "    </tr>\n",
       "  </tbody>\n",
       "</table>\n",
       "</div>"
      ],
      "text/plain": [
       "     region_id   aqi_noon\n",
       "0  36061002400  78.000000\n",
       "1  36061011202  63.000000\n",
       "2  36061004400  66.666667\n",
       "3  36061003900  65.000000\n",
       "4  36061006000  78.000000\n",
       "5  36061009200  64.666667\n",
       "6  36061027300  78.333333\n",
       "7  36061031100  59.666667\n",
       "8  36061003200  70.000000\n",
       "9  36061001502  62.333333"
      ]
     },
     "execution_count": 101,
     "metadata": {},
     "output_type": "execute_result"
    }
   ],
   "source": [
    "noon_aqi.head(10)"
   ]
  },
  {
   "cell_type": "markdown",
   "metadata": {},
   "source": [
    "EvenAir"
   ]
  },
  {
   "cell_type": "code",
   "execution_count": 102,
   "metadata": {},
   "outputs": [],
   "source": [
    "even_30 = pd.read_csv('/Users/Albert/Jupyter/ManhattanAirEven18.csv')\n",
    "even_31 = pd.read_csv('/Users/Albert/Jupyter/ManhattanAir31Even.csv')\n",
    "even_01 = pd.read_csv('/Users/Albert/Jupyter/ManhattanAir01Even.csv')"
   ]
  },
  {
   "cell_type": "code",
   "execution_count": 103,
   "metadata": {},
   "outputs": [],
   "source": [
    "even_30['aqi'] = even_30.rename(columns = {'aqi':'aqi30'}, inplace=True)\n",
    "even_31['aqi'] = even_31.rename(columns = {'aqi':'aqi31'}, inplace=True)\n",
    "even_01['aqi'] = even_01.rename(columns = {'aqi':'aqi01'}, inplace=True)"
   ]
  },
  {
   "cell_type": "code",
   "execution_count": 104,
   "metadata": {},
   "outputs": [],
   "source": [
    "even = pd.DataFrame()"
   ]
  },
  {
   "cell_type": "code",
   "execution_count": 105,
   "metadata": {},
   "outputs": [],
   "source": [
    "even = even_30.merge(even_31, on='region_id')\n",
    "even = even.merge(even_01, on='region_id')"
   ]
  },
  {
   "cell_type": "code",
   "execution_count": 106,
   "metadata": {},
   "outputs": [],
   "source": [
    "cols = ['region_id','aqi30','aqi31','aqi01']"
   ]
  },
  {
   "cell_type": "code",
   "execution_count": 107,
   "metadata": {},
   "outputs": [],
   "source": [
    "even = even[cols]"
   ]
  },
  {
   "cell_type": "code",
   "execution_count": 108,
   "metadata": {},
   "outputs": [],
   "source": [
    "even_aqi = pd.DataFrame()"
   ]
  },
  {
   "cell_type": "code",
   "execution_count": 109,
   "metadata": {},
   "outputs": [],
   "source": [
    "even_aqi = even.set_index('region_id').mean(axis=1).rename('aqi_even').reset_index()"
   ]
  },
  {
   "cell_type": "code",
   "execution_count": 110,
   "metadata": {},
   "outputs": [],
   "source": [
    "even_aqi['region_id'] = even_aqi['region_id'].astype(str)"
   ]
  },
  {
   "cell_type": "code",
   "execution_count": 111,
   "metadata": {},
   "outputs": [
    {
     "data": {
      "text/html": [
       "<div>\n",
       "<style scoped>\n",
       "    .dataframe tbody tr th:only-of-type {\n",
       "        vertical-align: middle;\n",
       "    }\n",
       "\n",
       "    .dataframe tbody tr th {\n",
       "        vertical-align: top;\n",
       "    }\n",
       "\n",
       "    .dataframe thead th {\n",
       "        text-align: right;\n",
       "    }\n",
       "</style>\n",
       "<table border=\"1\" class=\"dataframe\">\n",
       "  <thead>\n",
       "    <tr style=\"text-align: right;\">\n",
       "      <th></th>\n",
       "      <th>region_id</th>\n",
       "      <th>aqi_even</th>\n",
       "    </tr>\n",
       "  </thead>\n",
       "  <tbody>\n",
       "    <tr>\n",
       "      <th>0</th>\n",
       "      <td>36061002400</td>\n",
       "      <td>71.666667</td>\n",
       "    </tr>\n",
       "    <tr>\n",
       "      <th>1</th>\n",
       "      <td>36061011202</td>\n",
       "      <td>66.333333</td>\n",
       "    </tr>\n",
       "    <tr>\n",
       "      <th>2</th>\n",
       "      <td>36061004400</td>\n",
       "      <td>66.000000</td>\n",
       "    </tr>\n",
       "    <tr>\n",
       "      <th>3</th>\n",
       "      <td>36061003900</td>\n",
       "      <td>67.000000</td>\n",
       "    </tr>\n",
       "    <tr>\n",
       "      <th>4</th>\n",
       "      <td>36061006000</td>\n",
       "      <td>71.666667</td>\n",
       "    </tr>\n",
       "    <tr>\n",
       "      <th>5</th>\n",
       "      <td>36061009200</td>\n",
       "      <td>65.333333</td>\n",
       "    </tr>\n",
       "    <tr>\n",
       "      <th>6</th>\n",
       "      <td>36061027300</td>\n",
       "      <td>69.333333</td>\n",
       "    </tr>\n",
       "    <tr>\n",
       "      <th>7</th>\n",
       "      <td>36061031100</td>\n",
       "      <td>59.000000</td>\n",
       "    </tr>\n",
       "    <tr>\n",
       "      <th>8</th>\n",
       "      <td>36061003200</td>\n",
       "      <td>70.000000</td>\n",
       "    </tr>\n",
       "    <tr>\n",
       "      <th>9</th>\n",
       "      <td>36061001502</td>\n",
       "      <td>67.333333</td>\n",
       "    </tr>\n",
       "  </tbody>\n",
       "</table>\n",
       "</div>"
      ],
      "text/plain": [
       "     region_id   aqi_even\n",
       "0  36061002400  71.666667\n",
       "1  36061011202  66.333333\n",
       "2  36061004400  66.000000\n",
       "3  36061003900  67.000000\n",
       "4  36061006000  71.666667\n",
       "5  36061009200  65.333333\n",
       "6  36061027300  69.333333\n",
       "7  36061031100  59.000000\n",
       "8  36061003200  70.000000\n",
       "9  36061001502  67.333333"
      ]
     },
     "execution_count": 111,
     "metadata": {},
     "output_type": "execute_result"
    }
   ],
   "source": [
    "even_aqi.head(10)"
   ]
  },
  {
   "cell_type": "markdown",
   "metadata": {},
   "source": [
    "NightAir"
   ]
  },
  {
   "cell_type": "code",
   "execution_count": 112,
   "metadata": {},
   "outputs": [],
   "source": [
    "night_30 = pd.read_csv('/Users/Albert/Jupyter/ManhattanAirNight23.csv')\n",
    "night_31 = pd.read_csv('/Users/Albert/Jupyter/ManhattanAir31Night.csv')\n",
    "night_01 = pd.read_csv('/Users/Albert/Jupyter/ManhattanAir01Night.csv')"
   ]
  },
  {
   "cell_type": "code",
   "execution_count": 113,
   "metadata": {},
   "outputs": [],
   "source": [
    "night_30['aqi'] = night_30.rename(columns = {'aqi':'aqi30'}, inplace=True)\n",
    "night_31['aqi'] = night_31.rename(columns = {'aqi':'aqi31'}, inplace=True)\n",
    "night_01['aqi'] = night_01.rename(columns = {'aqi':'aqi01'}, inplace=True)"
   ]
  },
  {
   "cell_type": "code",
   "execution_count": 114,
   "metadata": {},
   "outputs": [],
   "source": [
    "night = pd.DataFrame()"
   ]
  },
  {
   "cell_type": "code",
   "execution_count": 115,
   "metadata": {},
   "outputs": [],
   "source": [
    "night = night_30.merge(night_31, on='region_id')\n",
    "night = night.merge(night_01, on='region_id')"
   ]
  },
  {
   "cell_type": "code",
   "execution_count": 116,
   "metadata": {},
   "outputs": [],
   "source": [
    "cols = ['region_id','aqi30','aqi31','aqi01']"
   ]
  },
  {
   "cell_type": "code",
   "execution_count": 117,
   "metadata": {},
   "outputs": [],
   "source": [
    "night = night[cols]"
   ]
  },
  {
   "cell_type": "code",
   "execution_count": 118,
   "metadata": {},
   "outputs": [],
   "source": [
    "night_aqi = pd.DataFrame()"
   ]
  },
  {
   "cell_type": "code",
   "execution_count": 119,
   "metadata": {},
   "outputs": [],
   "source": [
    "night_aqi = night.set_index('region_id').mean(axis=1).rename('aqi_night').reset_index()"
   ]
  },
  {
   "cell_type": "code",
   "execution_count": 120,
   "metadata": {},
   "outputs": [],
   "source": [
    "night_aqi['region_id'] = night_aqi['region_id'].astype(str)"
   ]
  },
  {
   "cell_type": "code",
   "execution_count": 121,
   "metadata": {},
   "outputs": [
    {
     "data": {
      "text/html": [
       "<div>\n",
       "<style scoped>\n",
       "    .dataframe tbody tr th:only-of-type {\n",
       "        vertical-align: middle;\n",
       "    }\n",
       "\n",
       "    .dataframe tbody tr th {\n",
       "        vertical-align: top;\n",
       "    }\n",
       "\n",
       "    .dataframe thead th {\n",
       "        text-align: right;\n",
       "    }\n",
       "</style>\n",
       "<table border=\"1\" class=\"dataframe\">\n",
       "  <thead>\n",
       "    <tr style=\"text-align: right;\">\n",
       "      <th></th>\n",
       "      <th>region_id</th>\n",
       "      <th>aqi_night</th>\n",
       "    </tr>\n",
       "  </thead>\n",
       "  <tbody>\n",
       "    <tr>\n",
       "      <th>0</th>\n",
       "      <td>36061002400</td>\n",
       "      <td>71.333333</td>\n",
       "    </tr>\n",
       "    <tr>\n",
       "      <th>1</th>\n",
       "      <td>36061011202</td>\n",
       "      <td>68.000000</td>\n",
       "    </tr>\n",
       "    <tr>\n",
       "      <th>2</th>\n",
       "      <td>36061004400</td>\n",
       "      <td>65.666667</td>\n",
       "    </tr>\n",
       "    <tr>\n",
       "      <th>3</th>\n",
       "      <td>36061003900</td>\n",
       "      <td>60.333333</td>\n",
       "    </tr>\n",
       "    <tr>\n",
       "      <th>4</th>\n",
       "      <td>36061006000</td>\n",
       "      <td>71.333333</td>\n",
       "    </tr>\n",
       "    <tr>\n",
       "      <th>5</th>\n",
       "      <td>36061009200</td>\n",
       "      <td>59.333333</td>\n",
       "    </tr>\n",
       "    <tr>\n",
       "      <th>6</th>\n",
       "      <td>36061027300</td>\n",
       "      <td>71.333333</td>\n",
       "    </tr>\n",
       "    <tr>\n",
       "      <th>7</th>\n",
       "      <td>36061031100</td>\n",
       "      <td>57.000000</td>\n",
       "    </tr>\n",
       "    <tr>\n",
       "      <th>8</th>\n",
       "      <td>36061003200</td>\n",
       "      <td>63.000000</td>\n",
       "    </tr>\n",
       "    <tr>\n",
       "      <th>9</th>\n",
       "      <td>36061001502</td>\n",
       "      <td>64.666667</td>\n",
       "    </tr>\n",
       "  </tbody>\n",
       "</table>\n",
       "</div>"
      ],
      "text/plain": [
       "     region_id  aqi_night\n",
       "0  36061002400  71.333333\n",
       "1  36061011202  68.000000\n",
       "2  36061004400  65.666667\n",
       "3  36061003900  60.333333\n",
       "4  36061006000  71.333333\n",
       "5  36061009200  59.333333\n",
       "6  36061027300  71.333333\n",
       "7  36061031100  57.000000\n",
       "8  36061003200  63.000000\n",
       "9  36061001502  64.666667"
      ]
     },
     "execution_count": 121,
     "metadata": {},
     "output_type": "execute_result"
    }
   ],
   "source": [
    "night_aqi.head(10)"
   ]
  },
  {
   "cell_type": "code",
   "execution_count": null,
   "metadata": {},
   "outputs": [],
   "source": []
  },
  {
   "cell_type": "code",
   "execution_count": 134,
   "metadata": {},
   "outputs": [],
   "source": [
    "morn.to_csv('morn.csv')\n",
    "morn_aqi.to_csv('morn_aqi.csv')"
   ]
  },
  {
   "cell_type": "code",
   "execution_count": 135,
   "metadata": {},
   "outputs": [],
   "source": [
    "noon.to_csv('noon.csv')\n",
    "noon_aqi.to_csv('noon_aqi.csv')"
   ]
  },
  {
   "cell_type": "code",
   "execution_count": 136,
   "metadata": {},
   "outputs": [],
   "source": [
    "even.to_csv('even.csv')\n",
    "even_aqi.to_csv('even_aqi.csv')"
   ]
  },
  {
   "cell_type": "code",
   "execution_count": 137,
   "metadata": {},
   "outputs": [],
   "source": [
    "night.to_csv('night.csv')\n",
    "night_aqi.to_csv('night_aqi.csv')"
   ]
  },
  {
   "cell_type": "code",
   "execution_count": null,
   "metadata": {},
   "outputs": [],
   "source": []
  },
  {
   "cell_type": "markdown",
   "metadata": {},
   "source": [
    "Correlation"
   ]
  },
  {
   "cell_type": "code",
   "execution_count": null,
   "metadata": {},
   "outputs": [],
   "source": []
  },
  {
   "cell_type": "code",
   "execution_count": 154,
   "metadata": {},
   "outputs": [],
   "source": [
    "temp = pd.read_csv('merged0419.csv')"
   ]
  },
  {
   "cell_type": "code",
   "execution_count": 155,
   "metadata": {},
   "outputs": [],
   "source": [
    "temp['region_id'] = temp['region_id'].astype(str)"
   ]
  },
  {
   "cell_type": "markdown",
   "metadata": {},
   "source": [
    "Morning Correlation"
   ]
  },
  {
   "cell_type": "code",
   "execution_count": 156,
   "metadata": {},
   "outputs": [],
   "source": [
    "tempm = morn_aqi.merge(temp, on='region_id')"
   ]
  },
  {
   "cell_type": "code",
   "execution_count": 157,
   "metadata": {},
   "outputs": [
    {
     "data": {
      "text/html": [
       "<div>\n",
       "<style scoped>\n",
       "    .dataframe tbody tr th:only-of-type {\n",
       "        vertical-align: middle;\n",
       "    }\n",
       "\n",
       "    .dataframe tbody tr th {\n",
       "        vertical-align: top;\n",
       "    }\n",
       "\n",
       "    .dataframe thead th {\n",
       "        text-align: right;\n",
       "    }\n",
       "</style>\n",
       "<table border=\"1\" class=\"dataframe\">\n",
       "  <thead>\n",
       "    <tr style=\"text-align: right;\">\n",
       "      <th></th>\n",
       "      <th>region_id</th>\n",
       "      <th>aqi_morn</th>\n",
       "      <th>heightroof</th>\n",
       "      <th>groundelev</th>\n",
       "      <th>ld01</th>\n",
       "      <th>ld02</th>\n",
       "      <th>ld03</th>\n",
       "      <th>ld04</th>\n",
       "      <th>ld05</th>\n",
       "      <th>ld06</th>\n",
       "      <th>...</th>\n",
       "      <th>volume</th>\n",
       "      <th>assessland</th>\n",
       "      <th>assesstot</th>\n",
       "      <th>respct</th>\n",
       "      <th>offpct</th>\n",
       "      <th>retpct</th>\n",
       "      <th>facpct</th>\n",
       "      <th>strpct</th>\n",
       "      <th>totalemission</th>\n",
       "      <th>directemission</th>\n",
       "    </tr>\n",
       "  </thead>\n",
       "  <tbody>\n",
       "    <tr>\n",
       "      <th>0</th>\n",
       "      <td>36061011202</td>\n",
       "      <td>75.000000</td>\n",
       "      <td>295.038846</td>\n",
       "      <td>47.961538</td>\n",
       "      <td>0.0</td>\n",
       "      <td>0.0</td>\n",
       "      <td>35171.0</td>\n",
       "      <td>32535.0</td>\n",
       "      <td>342262.0</td>\n",
       "      <td>0.0</td>\n",
       "      <td>...</td>\n",
       "      <td>1.421244e+08</td>\n",
       "      <td>1001.239221</td>\n",
       "      <td>4947.380983</td>\n",
       "      <td>0.083092</td>\n",
       "      <td>0.756442</td>\n",
       "      <td>0.079605</td>\n",
       "      <td>0.0</td>\n",
       "      <td>0.001150</td>\n",
       "      <td>58787.0</td>\n",
       "      <td>2196.0</td>\n",
       "    </tr>\n",
       "    <tr>\n",
       "      <th>1</th>\n",
       "      <td>36061004400</td>\n",
       "      <td>75.000000</td>\n",
       "      <td>58.000000</td>\n",
       "      <td>9.000000</td>\n",
       "      <td>0.0</td>\n",
       "      <td>0.0</td>\n",
       "      <td>0.0</td>\n",
       "      <td>0.0</td>\n",
       "      <td>0.0</td>\n",
       "      <td>0.0</td>\n",
       "      <td>...</td>\n",
       "      <td>2.238177e+06</td>\n",
       "      <td>0.000000</td>\n",
       "      <td>0.000000</td>\n",
       "      <td>0.000000</td>\n",
       "      <td>0.000000</td>\n",
       "      <td>0.000000</td>\n",
       "      <td>0.0</td>\n",
       "      <td>0.000000</td>\n",
       "      <td>1234.7</td>\n",
       "      <td>86.3</td>\n",
       "    </tr>\n",
       "    <tr>\n",
       "      <th>2</th>\n",
       "      <td>36061003900</td>\n",
       "      <td>73.333333</td>\n",
       "      <td>118.596244</td>\n",
       "      <td>12.000000</td>\n",
       "      <td>0.0</td>\n",
       "      <td>16004.0</td>\n",
       "      <td>232931.0</td>\n",
       "      <td>487120.0</td>\n",
       "      <td>242669.0</td>\n",
       "      <td>0.0</td>\n",
       "      <td>...</td>\n",
       "      <td>9.170093e+07</td>\n",
       "      <td>102.095235</td>\n",
       "      <td>1062.013714</td>\n",
       "      <td>0.624222</td>\n",
       "      <td>0.281913</td>\n",
       "      <td>0.032668</td>\n",
       "      <td>0.0</td>\n",
       "      <td>0.005671</td>\n",
       "      <td>32562.6</td>\n",
       "      <td>12887.6</td>\n",
       "    </tr>\n",
       "  </tbody>\n",
       "</table>\n",
       "<p>3 rows × 27 columns</p>\n",
       "</div>"
      ],
      "text/plain": [
       "     region_id   aqi_morn  heightroof  groundelev  ld01     ld02      ld03  \\\n",
       "0  36061011202  75.000000  295.038846   47.961538   0.0      0.0   35171.0   \n",
       "1  36061004400  75.000000   58.000000    9.000000   0.0      0.0       0.0   \n",
       "2  36061003900  73.333333  118.596244   12.000000   0.0  16004.0  232931.0   \n",
       "\n",
       "       ld04      ld05  ld06  ...        volume   assessland    assesstot  \\\n",
       "0   32535.0  342262.0   0.0  ...  1.421244e+08  1001.239221  4947.380983   \n",
       "1       0.0       0.0   0.0  ...  2.238177e+06     0.000000     0.000000   \n",
       "2  487120.0  242669.0   0.0  ...  9.170093e+07   102.095235  1062.013714   \n",
       "\n",
       "     respct    offpct    retpct  facpct    strpct  totalemission  \\\n",
       "0  0.083092  0.756442  0.079605     0.0  0.001150        58787.0   \n",
       "1  0.000000  0.000000  0.000000     0.0  0.000000         1234.7   \n",
       "2  0.624222  0.281913  0.032668     0.0  0.005671        32562.6   \n",
       "\n",
       "   directemission  \n",
       "0          2196.0  \n",
       "1            86.3  \n",
       "2         12887.6  \n",
       "\n",
       "[3 rows x 27 columns]"
      ]
     },
     "execution_count": 157,
     "metadata": {},
     "output_type": "execute_result"
    }
   ],
   "source": [
    "tempm.head(3)"
   ]
  },
  {
   "cell_type": "code",
   "execution_count": 158,
   "metadata": {},
   "outputs": [],
   "source": [
    "#tracts.merge(temp, on='region_id').plot(column='alonepct', figsize=(12, 12), legend=True)"
   ]
  },
  {
   "cell_type": "code",
   "execution_count": 159,
   "metadata": {},
   "outputs": [],
   "source": [
    "corrs = tempm.drop(['region_id'], axis=1).apply(lambda x: pearsonr(x, tempm['aqi_morn']))\n",
    "corrs = corrs.reset_index()\n",
    "corrs[['r', 'p']] = pd.DataFrame(corrs[0].tolist(), \n",
    "                                 index=corrs.index)\n",
    "corrs.drop([0], axis=1, inplace=True)"
   ]
  },
  {
   "cell_type": "code",
   "execution_count": 160,
   "metadata": {},
   "outputs": [
    {
     "data": {
      "text/html": [
       "<div>\n",
       "<style scoped>\n",
       "    .dataframe tbody tr th:only-of-type {\n",
       "        vertical-align: middle;\n",
       "    }\n",
       "\n",
       "    .dataframe tbody tr th {\n",
       "        vertical-align: top;\n",
       "    }\n",
       "\n",
       "    .dataframe thead th {\n",
       "        text-align: right;\n",
       "    }\n",
       "</style>\n",
       "<table border=\"1\" class=\"dataframe\">\n",
       "  <thead>\n",
       "    <tr style=\"text-align: right;\">\n",
       "      <th></th>\n",
       "      <th>index</th>\n",
       "      <th>r</th>\n",
       "      <th>p</th>\n",
       "    </tr>\n",
       "  </thead>\n",
       "  <tbody>\n",
       "    <tr>\n",
       "      <th>4</th>\n",
       "      <td>ld02</td>\n",
       "      <td>0.215207</td>\n",
       "      <td>0.000279</td>\n",
       "    </tr>\n",
       "    <tr>\n",
       "      <th>2</th>\n",
       "      <td>groundelev</td>\n",
       "      <td>0.179451</td>\n",
       "      <td>0.002534</td>\n",
       "    </tr>\n",
       "    <tr>\n",
       "      <th>19</th>\n",
       "      <td>respct</td>\n",
       "      <td>0.177087</td>\n",
       "      <td>0.002893</td>\n",
       "    </tr>\n",
       "    <tr>\n",
       "      <th>14</th>\n",
       "      <td>alonepct</td>\n",
       "      <td>0.139411</td>\n",
       "      <td>0.019389</td>\n",
       "    </tr>\n",
       "    <tr>\n",
       "      <th>16</th>\n",
       "      <td>volume</td>\n",
       "      <td>-0.144506</td>\n",
       "      <td>0.015338</td>\n",
       "    </tr>\n",
       "    <tr>\n",
       "      <th>7</th>\n",
       "      <td>ld05</td>\n",
       "      <td>-0.169262</td>\n",
       "      <td>0.004438</td>\n",
       "    </tr>\n",
       "    <tr>\n",
       "      <th>1</th>\n",
       "      <td>heightroof</td>\n",
       "      <td>-0.177138</td>\n",
       "      <td>0.002885</td>\n",
       "    </tr>\n",
       "    <tr>\n",
       "      <th>20</th>\n",
       "      <td>offpct</td>\n",
       "      <td>-0.183479</td>\n",
       "      <td>0.002014</td>\n",
       "    </tr>\n",
       "    <tr>\n",
       "      <th>21</th>\n",
       "      <td>retpct</td>\n",
       "      <td>-0.195805</td>\n",
       "      <td>0.000968</td>\n",
       "    </tr>\n",
       "    <tr>\n",
       "      <th>15</th>\n",
       "      <td>far</td>\n",
       "      <td>-0.202543</td>\n",
       "      <td>0.000636</td>\n",
       "    </tr>\n",
       "    <tr>\n",
       "      <th>17</th>\n",
       "      <td>assessland</td>\n",
       "      <td>-0.209040</td>\n",
       "      <td>0.000419</td>\n",
       "    </tr>\n",
       "    <tr>\n",
       "      <th>18</th>\n",
       "      <td>assesstot</td>\n",
       "      <td>-0.241548</td>\n",
       "      <td>0.000043</td>\n",
       "    </tr>\n",
       "  </tbody>\n",
       "</table>\n",
       "</div>"
      ],
      "text/plain": [
       "         index         r         p\n",
       "4         ld02  0.215207  0.000279\n",
       "2   groundelev  0.179451  0.002534\n",
       "19      respct  0.177087  0.002893\n",
       "14    alonepct  0.139411  0.019389\n",
       "16      volume -0.144506  0.015338\n",
       "7         ld05 -0.169262  0.004438\n",
       "1   heightroof -0.177138  0.002885\n",
       "20      offpct -0.183479  0.002014\n",
       "21      retpct -0.195805  0.000968\n",
       "15         far -0.202543  0.000636\n",
       "17  assessland -0.209040  0.000419\n",
       "18   assesstot -0.241548  0.000043"
      ]
     },
     "execution_count": 160,
     "metadata": {},
     "output_type": "execute_result"
    }
   ],
   "source": [
    "corrs.loc[corrs['p'] < .05].sort_values(by='r', ascending=False)[1:20]"
   ]
  },
  {
   "cell_type": "code",
   "execution_count": 162,
   "metadata": {},
   "outputs": [
    {
     "data": {
      "text/html": [
       "<div>\n",
       "<style scoped>\n",
       "    .dataframe tbody tr th:only-of-type {\n",
       "        vertical-align: middle;\n",
       "    }\n",
       "\n",
       "    .dataframe tbody tr th {\n",
       "        vertical-align: top;\n",
       "    }\n",
       "\n",
       "    .dataframe thead th {\n",
       "        text-align: right;\n",
       "    }\n",
       "</style>\n",
       "<table border=\"1\" class=\"dataframe\">\n",
       "  <thead>\n",
       "    <tr style=\"text-align: right;\">\n",
       "      <th></th>\n",
       "      <th>index</th>\n",
       "      <th>r</th>\n",
       "      <th>p</th>\n",
       "    </tr>\n",
       "  </thead>\n",
       "  <tbody>\n",
       "    <tr>\n",
       "      <th>0</th>\n",
       "      <td>aqi_morn</td>\n",
       "      <td>1.000000</td>\n",
       "      <td>0.000000</td>\n",
       "    </tr>\n",
       "    <tr>\n",
       "      <th>1</th>\n",
       "      <td>heightroof</td>\n",
       "      <td>-0.177138</td>\n",
       "      <td>0.002885</td>\n",
       "    </tr>\n",
       "    <tr>\n",
       "      <th>2</th>\n",
       "      <td>groundelev</td>\n",
       "      <td>0.179451</td>\n",
       "      <td>0.002534</td>\n",
       "    </tr>\n",
       "  </tbody>\n",
       "</table>\n",
       "</div>"
      ],
      "text/plain": [
       "        index         r         p\n",
       "0    aqi_morn  1.000000  0.000000\n",
       "1  heightroof -0.177138  0.002885\n",
       "2  groundelev  0.179451  0.002534"
      ]
     },
     "execution_count": 162,
     "metadata": {},
     "output_type": "execute_result"
    }
   ],
   "source": [
    "corrs.head(3)"
   ]
  },
  {
   "cell_type": "code",
   "execution_count": 163,
   "metadata": {},
   "outputs": [],
   "source": [
    "corrs_morn = corrs"
   ]
  },
  {
   "cell_type": "code",
   "execution_count": 164,
   "metadata": {},
   "outputs": [
    {
     "data": {
      "text/html": [
       "<div>\n",
       "<style scoped>\n",
       "    .dataframe tbody tr th:only-of-type {\n",
       "        vertical-align: middle;\n",
       "    }\n",
       "\n",
       "    .dataframe tbody tr th {\n",
       "        vertical-align: top;\n",
       "    }\n",
       "\n",
       "    .dataframe thead th {\n",
       "        text-align: right;\n",
       "    }\n",
       "</style>\n",
       "<table border=\"1\" class=\"dataframe\">\n",
       "  <thead>\n",
       "    <tr style=\"text-align: right;\">\n",
       "      <th></th>\n",
       "      <th>index</th>\n",
       "      <th>r</th>\n",
       "      <th>p</th>\n",
       "    </tr>\n",
       "  </thead>\n",
       "  <tbody>\n",
       "    <tr>\n",
       "      <th>0</th>\n",
       "      <td>aqi_morn</td>\n",
       "      <td>1.000000</td>\n",
       "      <td>0.000000</td>\n",
       "    </tr>\n",
       "    <tr>\n",
       "      <th>1</th>\n",
       "      <td>heightroof</td>\n",
       "      <td>-0.177138</td>\n",
       "      <td>0.002885</td>\n",
       "    </tr>\n",
       "    <tr>\n",
       "      <th>2</th>\n",
       "      <td>groundelev</td>\n",
       "      <td>0.179451</td>\n",
       "      <td>0.002534</td>\n",
       "    </tr>\n",
       "  </tbody>\n",
       "</table>\n",
       "</div>"
      ],
      "text/plain": [
       "        index         r         p\n",
       "0    aqi_morn  1.000000  0.000000\n",
       "1  heightroof -0.177138  0.002885\n",
       "2  groundelev  0.179451  0.002534"
      ]
     },
     "execution_count": 164,
     "metadata": {},
     "output_type": "execute_result"
    }
   ],
   "source": [
    "corrs_morn.head(3)"
   ]
  },
  {
   "cell_type": "code",
   "execution_count": 165,
   "metadata": {},
   "outputs": [],
   "source": [
    "corrs_morn.to_csv('corrs_morn.csv')"
   ]
  },
  {
   "cell_type": "code",
   "execution_count": null,
   "metadata": {},
   "outputs": [],
   "source": []
  },
  {
   "cell_type": "markdown",
   "metadata": {},
   "source": [
    "Noon Correlation"
   ]
  },
  {
   "cell_type": "code",
   "execution_count": 166,
   "metadata": {},
   "outputs": [],
   "source": [
    "tempn = noon_aqi.merge(temp, on='region_id')"
   ]
  },
  {
   "cell_type": "code",
   "execution_count": 167,
   "metadata": {},
   "outputs": [
    {
     "data": {
      "text/html": [
       "<div>\n",
       "<style scoped>\n",
       "    .dataframe tbody tr th:only-of-type {\n",
       "        vertical-align: middle;\n",
       "    }\n",
       "\n",
       "    .dataframe tbody tr th {\n",
       "        vertical-align: top;\n",
       "    }\n",
       "\n",
       "    .dataframe thead th {\n",
       "        text-align: right;\n",
       "    }\n",
       "</style>\n",
       "<table border=\"1\" class=\"dataframe\">\n",
       "  <thead>\n",
       "    <tr style=\"text-align: right;\">\n",
       "      <th></th>\n",
       "      <th>region_id</th>\n",
       "      <th>aqi_noon</th>\n",
       "      <th>heightroof</th>\n",
       "      <th>groundelev</th>\n",
       "      <th>ld01</th>\n",
       "      <th>ld02</th>\n",
       "      <th>ld03</th>\n",
       "      <th>ld04</th>\n",
       "      <th>ld05</th>\n",
       "      <th>ld06</th>\n",
       "      <th>...</th>\n",
       "      <th>volume</th>\n",
       "      <th>assessland</th>\n",
       "      <th>assesstot</th>\n",
       "      <th>respct</th>\n",
       "      <th>offpct</th>\n",
       "      <th>retpct</th>\n",
       "      <th>facpct</th>\n",
       "      <th>strpct</th>\n",
       "      <th>totalemission</th>\n",
       "      <th>directemission</th>\n",
       "    </tr>\n",
       "  </thead>\n",
       "  <tbody>\n",
       "    <tr>\n",
       "      <th>0</th>\n",
       "      <td>36061011202</td>\n",
       "      <td>63.000000</td>\n",
       "      <td>295.038846</td>\n",
       "      <td>47.961538</td>\n",
       "      <td>0.0</td>\n",
       "      <td>0.0</td>\n",
       "      <td>35171.0</td>\n",
       "      <td>32535.0</td>\n",
       "      <td>342262.0</td>\n",
       "      <td>0.0</td>\n",
       "      <td>...</td>\n",
       "      <td>1.421244e+08</td>\n",
       "      <td>1001.239221</td>\n",
       "      <td>4947.380983</td>\n",
       "      <td>0.083092</td>\n",
       "      <td>0.756442</td>\n",
       "      <td>0.079605</td>\n",
       "      <td>0.0</td>\n",
       "      <td>0.001150</td>\n",
       "      <td>58787.0</td>\n",
       "      <td>2196.0</td>\n",
       "    </tr>\n",
       "    <tr>\n",
       "      <th>1</th>\n",
       "      <td>36061004400</td>\n",
       "      <td>66.666667</td>\n",
       "      <td>58.000000</td>\n",
       "      <td>9.000000</td>\n",
       "      <td>0.0</td>\n",
       "      <td>0.0</td>\n",
       "      <td>0.0</td>\n",
       "      <td>0.0</td>\n",
       "      <td>0.0</td>\n",
       "      <td>0.0</td>\n",
       "      <td>...</td>\n",
       "      <td>2.238177e+06</td>\n",
       "      <td>0.000000</td>\n",
       "      <td>0.000000</td>\n",
       "      <td>0.000000</td>\n",
       "      <td>0.000000</td>\n",
       "      <td>0.000000</td>\n",
       "      <td>0.0</td>\n",
       "      <td>0.000000</td>\n",
       "      <td>1234.7</td>\n",
       "      <td>86.3</td>\n",
       "    </tr>\n",
       "    <tr>\n",
       "      <th>2</th>\n",
       "      <td>36061003900</td>\n",
       "      <td>65.000000</td>\n",
       "      <td>118.596244</td>\n",
       "      <td>12.000000</td>\n",
       "      <td>0.0</td>\n",
       "      <td>16004.0</td>\n",
       "      <td>232931.0</td>\n",
       "      <td>487120.0</td>\n",
       "      <td>242669.0</td>\n",
       "      <td>0.0</td>\n",
       "      <td>...</td>\n",
       "      <td>9.170093e+07</td>\n",
       "      <td>102.095235</td>\n",
       "      <td>1062.013714</td>\n",
       "      <td>0.624222</td>\n",
       "      <td>0.281913</td>\n",
       "      <td>0.032668</td>\n",
       "      <td>0.0</td>\n",
       "      <td>0.005671</td>\n",
       "      <td>32562.6</td>\n",
       "      <td>12887.6</td>\n",
       "    </tr>\n",
       "  </tbody>\n",
       "</table>\n",
       "<p>3 rows × 27 columns</p>\n",
       "</div>"
      ],
      "text/plain": [
       "     region_id   aqi_noon  heightroof  groundelev  ld01     ld02      ld03  \\\n",
       "0  36061011202  63.000000  295.038846   47.961538   0.0      0.0   35171.0   \n",
       "1  36061004400  66.666667   58.000000    9.000000   0.0      0.0       0.0   \n",
       "2  36061003900  65.000000  118.596244   12.000000   0.0  16004.0  232931.0   \n",
       "\n",
       "       ld04      ld05  ld06  ...        volume   assessland    assesstot  \\\n",
       "0   32535.0  342262.0   0.0  ...  1.421244e+08  1001.239221  4947.380983   \n",
       "1       0.0       0.0   0.0  ...  2.238177e+06     0.000000     0.000000   \n",
       "2  487120.0  242669.0   0.0  ...  9.170093e+07   102.095235  1062.013714   \n",
       "\n",
       "     respct    offpct    retpct  facpct    strpct  totalemission  \\\n",
       "0  0.083092  0.756442  0.079605     0.0  0.001150        58787.0   \n",
       "1  0.000000  0.000000  0.000000     0.0  0.000000         1234.7   \n",
       "2  0.624222  0.281913  0.032668     0.0  0.005671        32562.6   \n",
       "\n",
       "   directemission  \n",
       "0          2196.0  \n",
       "1            86.3  \n",
       "2         12887.6  \n",
       "\n",
       "[3 rows x 27 columns]"
      ]
     },
     "execution_count": 167,
     "metadata": {},
     "output_type": "execute_result"
    }
   ],
   "source": [
    "tempn.head(3)"
   ]
  },
  {
   "cell_type": "code",
   "execution_count": 168,
   "metadata": {},
   "outputs": [],
   "source": [
    "corrs = tempn.drop(['region_id'], axis=1).apply(lambda x: pearsonr(x, tempn['aqi_noon']))\n",
    "corrs = corrs.reset_index()\n",
    "corrs[['r', 'p']] = pd.DataFrame(corrs[0].tolist(), \n",
    "                                 index=corrs.index)\n",
    "corrs.drop([0], axis=1, inplace=True)"
   ]
  },
  {
   "cell_type": "code",
   "execution_count": 169,
   "metadata": {},
   "outputs": [
    {
     "data": {
      "text/html": [
       "<div>\n",
       "<style scoped>\n",
       "    .dataframe tbody tr th:only-of-type {\n",
       "        vertical-align: middle;\n",
       "    }\n",
       "\n",
       "    .dataframe tbody tr th {\n",
       "        vertical-align: top;\n",
       "    }\n",
       "\n",
       "    .dataframe thead th {\n",
       "        text-align: right;\n",
       "    }\n",
       "</style>\n",
       "<table border=\"1\" class=\"dataframe\">\n",
       "  <thead>\n",
       "    <tr style=\"text-align: right;\">\n",
       "      <th></th>\n",
       "      <th>index</th>\n",
       "      <th>r</th>\n",
       "      <th>p</th>\n",
       "    </tr>\n",
       "  </thead>\n",
       "  <tbody>\n",
       "    <tr>\n",
       "      <th>4</th>\n",
       "      <td>ld02</td>\n",
       "      <td>0.312347</td>\n",
       "      <td>8.946326e-08</td>\n",
       "    </tr>\n",
       "    <tr>\n",
       "      <th>2</th>\n",
       "      <td>groundelev</td>\n",
       "      <td>0.197524</td>\n",
       "      <td>8.709358e-04</td>\n",
       "    </tr>\n",
       "    <tr>\n",
       "      <th>14</th>\n",
       "      <td>alonepct</td>\n",
       "      <td>0.191057</td>\n",
       "      <td>1.290317e-03</td>\n",
       "    </tr>\n",
       "    <tr>\n",
       "      <th>19</th>\n",
       "      <td>respct</td>\n",
       "      <td>0.153383</td>\n",
       "      <td>1.002515e-02</td>\n",
       "    </tr>\n",
       "    <tr>\n",
       "      <th>12</th>\n",
       "      <td>ld10</td>\n",
       "      <td>0.136184</td>\n",
       "      <td>2.241132e-02</td>\n",
       "    </tr>\n",
       "    <tr>\n",
       "      <th>16</th>\n",
       "      <td>volume</td>\n",
       "      <td>-0.171550</td>\n",
       "      <td>3.922938e-03</td>\n",
       "    </tr>\n",
       "    <tr>\n",
       "      <th>20</th>\n",
       "      <td>offpct</td>\n",
       "      <td>-0.172211</td>\n",
       "      <td>3.784641e-03</td>\n",
       "    </tr>\n",
       "    <tr>\n",
       "      <th>21</th>\n",
       "      <td>retpct</td>\n",
       "      <td>-0.187481</td>\n",
       "      <td>1.595203e-03</td>\n",
       "    </tr>\n",
       "    <tr>\n",
       "      <th>7</th>\n",
       "      <td>ld05</td>\n",
       "      <td>-0.189297</td>\n",
       "      <td>1.432951e-03</td>\n",
       "    </tr>\n",
       "    <tr>\n",
       "      <th>1</th>\n",
       "      <td>heightroof</td>\n",
       "      <td>-0.236834</td>\n",
       "      <td>6.083276e-05</td>\n",
       "    </tr>\n",
       "    <tr>\n",
       "      <th>17</th>\n",
       "      <td>assessland</td>\n",
       "      <td>-0.259902</td>\n",
       "      <td>1.017537e-05</td>\n",
       "    </tr>\n",
       "    <tr>\n",
       "      <th>15</th>\n",
       "      <td>far</td>\n",
       "      <td>-0.273344</td>\n",
       "      <td>3.310803e-06</td>\n",
       "    </tr>\n",
       "    <tr>\n",
       "      <th>18</th>\n",
       "      <td>assesstot</td>\n",
       "      <td>-0.305635</td>\n",
       "      <td>1.730973e-07</td>\n",
       "    </tr>\n",
       "  </tbody>\n",
       "</table>\n",
       "</div>"
      ],
      "text/plain": [
       "         index         r             p\n",
       "4         ld02  0.312347  8.946326e-08\n",
       "2   groundelev  0.197524  8.709358e-04\n",
       "14    alonepct  0.191057  1.290317e-03\n",
       "19      respct  0.153383  1.002515e-02\n",
       "12        ld10  0.136184  2.241132e-02\n",
       "16      volume -0.171550  3.922938e-03\n",
       "20      offpct -0.172211  3.784641e-03\n",
       "21      retpct -0.187481  1.595203e-03\n",
       "7         ld05 -0.189297  1.432951e-03\n",
       "1   heightroof -0.236834  6.083276e-05\n",
       "17  assessland -0.259902  1.017537e-05\n",
       "15         far -0.273344  3.310803e-06\n",
       "18   assesstot -0.305635  1.730973e-07"
      ]
     },
     "execution_count": 169,
     "metadata": {},
     "output_type": "execute_result"
    }
   ],
   "source": [
    "corrs.loc[corrs['p'] < .05].sort_values(by='r', ascending=False)[1:20]"
   ]
  },
  {
   "cell_type": "code",
   "execution_count": 170,
   "metadata": {},
   "outputs": [],
   "source": [
    "corrs_noon = corrs"
   ]
  },
  {
   "cell_type": "code",
   "execution_count": 171,
   "metadata": {},
   "outputs": [],
   "source": [
    "corrs_noon.to_csv('corrs_noon.csv')"
   ]
  },
  {
   "cell_type": "markdown",
   "metadata": {},
   "source": [
    "Even Correlation"
   ]
  },
  {
   "cell_type": "code",
   "execution_count": 172,
   "metadata": {},
   "outputs": [],
   "source": [
    "tempe = even_aqi.merge(temp, on='region_id')"
   ]
  },
  {
   "cell_type": "code",
   "execution_count": 173,
   "metadata": {},
   "outputs": [
    {
     "data": {
      "text/html": [
       "<div>\n",
       "<style scoped>\n",
       "    .dataframe tbody tr th:only-of-type {\n",
       "        vertical-align: middle;\n",
       "    }\n",
       "\n",
       "    .dataframe tbody tr th {\n",
       "        vertical-align: top;\n",
       "    }\n",
       "\n",
       "    .dataframe thead th {\n",
       "        text-align: right;\n",
       "    }\n",
       "</style>\n",
       "<table border=\"1\" class=\"dataframe\">\n",
       "  <thead>\n",
       "    <tr style=\"text-align: right;\">\n",
       "      <th></th>\n",
       "      <th>region_id</th>\n",
       "      <th>aqi_even</th>\n",
       "      <th>heightroof</th>\n",
       "      <th>groundelev</th>\n",
       "      <th>ld01</th>\n",
       "      <th>ld02</th>\n",
       "      <th>ld03</th>\n",
       "      <th>ld04</th>\n",
       "      <th>ld05</th>\n",
       "      <th>ld06</th>\n",
       "      <th>...</th>\n",
       "      <th>volume</th>\n",
       "      <th>assessland</th>\n",
       "      <th>assesstot</th>\n",
       "      <th>respct</th>\n",
       "      <th>offpct</th>\n",
       "      <th>retpct</th>\n",
       "      <th>facpct</th>\n",
       "      <th>strpct</th>\n",
       "      <th>totalemission</th>\n",
       "      <th>directemission</th>\n",
       "    </tr>\n",
       "  </thead>\n",
       "  <tbody>\n",
       "    <tr>\n",
       "      <th>0</th>\n",
       "      <td>36061011202</td>\n",
       "      <td>66.333333</td>\n",
       "      <td>295.038846</td>\n",
       "      <td>47.961538</td>\n",
       "      <td>0.0</td>\n",
       "      <td>0.0</td>\n",
       "      <td>35171.0</td>\n",
       "      <td>32535.0</td>\n",
       "      <td>342262.0</td>\n",
       "      <td>0.0</td>\n",
       "      <td>...</td>\n",
       "      <td>1.421244e+08</td>\n",
       "      <td>1001.239221</td>\n",
       "      <td>4947.380983</td>\n",
       "      <td>0.083092</td>\n",
       "      <td>0.756442</td>\n",
       "      <td>0.079605</td>\n",
       "      <td>0.0</td>\n",
       "      <td>0.001150</td>\n",
       "      <td>58787.0</td>\n",
       "      <td>2196.0</td>\n",
       "    </tr>\n",
       "    <tr>\n",
       "      <th>1</th>\n",
       "      <td>36061004400</td>\n",
       "      <td>66.000000</td>\n",
       "      <td>58.000000</td>\n",
       "      <td>9.000000</td>\n",
       "      <td>0.0</td>\n",
       "      <td>0.0</td>\n",
       "      <td>0.0</td>\n",
       "      <td>0.0</td>\n",
       "      <td>0.0</td>\n",
       "      <td>0.0</td>\n",
       "      <td>...</td>\n",
       "      <td>2.238177e+06</td>\n",
       "      <td>0.000000</td>\n",
       "      <td>0.000000</td>\n",
       "      <td>0.000000</td>\n",
       "      <td>0.000000</td>\n",
       "      <td>0.000000</td>\n",
       "      <td>0.0</td>\n",
       "      <td>0.000000</td>\n",
       "      <td>1234.7</td>\n",
       "      <td>86.3</td>\n",
       "    </tr>\n",
       "    <tr>\n",
       "      <th>2</th>\n",
       "      <td>36061003900</td>\n",
       "      <td>67.000000</td>\n",
       "      <td>118.596244</td>\n",
       "      <td>12.000000</td>\n",
       "      <td>0.0</td>\n",
       "      <td>16004.0</td>\n",
       "      <td>232931.0</td>\n",
       "      <td>487120.0</td>\n",
       "      <td>242669.0</td>\n",
       "      <td>0.0</td>\n",
       "      <td>...</td>\n",
       "      <td>9.170093e+07</td>\n",
       "      <td>102.095235</td>\n",
       "      <td>1062.013714</td>\n",
       "      <td>0.624222</td>\n",
       "      <td>0.281913</td>\n",
       "      <td>0.032668</td>\n",
       "      <td>0.0</td>\n",
       "      <td>0.005671</td>\n",
       "      <td>32562.6</td>\n",
       "      <td>12887.6</td>\n",
       "    </tr>\n",
       "  </tbody>\n",
       "</table>\n",
       "<p>3 rows × 27 columns</p>\n",
       "</div>"
      ],
      "text/plain": [
       "     region_id   aqi_even  heightroof  groundelev  ld01     ld02      ld03  \\\n",
       "0  36061011202  66.333333  295.038846   47.961538   0.0      0.0   35171.0   \n",
       "1  36061004400  66.000000   58.000000    9.000000   0.0      0.0       0.0   \n",
       "2  36061003900  67.000000  118.596244   12.000000   0.0  16004.0  232931.0   \n",
       "\n",
       "       ld04      ld05  ld06  ...        volume   assessland    assesstot  \\\n",
       "0   32535.0  342262.0   0.0  ...  1.421244e+08  1001.239221  4947.380983   \n",
       "1       0.0       0.0   0.0  ...  2.238177e+06     0.000000     0.000000   \n",
       "2  487120.0  242669.0   0.0  ...  9.170093e+07   102.095235  1062.013714   \n",
       "\n",
       "     respct    offpct    retpct  facpct    strpct  totalemission  \\\n",
       "0  0.083092  0.756442  0.079605     0.0  0.001150        58787.0   \n",
       "1  0.000000  0.000000  0.000000     0.0  0.000000         1234.7   \n",
       "2  0.624222  0.281913  0.032668     0.0  0.005671        32562.6   \n",
       "\n",
       "   directemission  \n",
       "0          2196.0  \n",
       "1            86.3  \n",
       "2         12887.6  \n",
       "\n",
       "[3 rows x 27 columns]"
      ]
     },
     "execution_count": 173,
     "metadata": {},
     "output_type": "execute_result"
    }
   ],
   "source": [
    "tempe.head(3)"
   ]
  },
  {
   "cell_type": "code",
   "execution_count": 174,
   "metadata": {},
   "outputs": [],
   "source": [
    "corrs = tempe.drop(['region_id'], axis=1).apply(lambda x: pearsonr(x, tempe['aqi_even']))\n",
    "corrs = corrs.reset_index()\n",
    "corrs[['r', 'p']] = pd.DataFrame(corrs[0].tolist(), \n",
    "                                 index=corrs.index)\n",
    "corrs.drop([0], axis=1, inplace=True)"
   ]
  },
  {
   "cell_type": "code",
   "execution_count": 175,
   "metadata": {},
   "outputs": [
    {
     "data": {
      "text/html": [
       "<div>\n",
       "<style scoped>\n",
       "    .dataframe tbody tr th:only-of-type {\n",
       "        vertical-align: middle;\n",
       "    }\n",
       "\n",
       "    .dataframe tbody tr th {\n",
       "        vertical-align: top;\n",
       "    }\n",
       "\n",
       "    .dataframe thead th {\n",
       "        text-align: right;\n",
       "    }\n",
       "</style>\n",
       "<table border=\"1\" class=\"dataframe\">\n",
       "  <thead>\n",
       "    <tr style=\"text-align: right;\">\n",
       "      <th></th>\n",
       "      <th>index</th>\n",
       "      <th>r</th>\n",
       "      <th>p</th>\n",
       "    </tr>\n",
       "  </thead>\n",
       "  <tbody>\n",
       "    <tr>\n",
       "      <th>4</th>\n",
       "      <td>ld02</td>\n",
       "      <td>0.201615</td>\n",
       "      <td>0.000675</td>\n",
       "    </tr>\n",
       "    <tr>\n",
       "      <th>19</th>\n",
       "      <td>respct</td>\n",
       "      <td>0.183407</td>\n",
       "      <td>0.002022</td>\n",
       "    </tr>\n",
       "    <tr>\n",
       "      <th>23</th>\n",
       "      <td>strpct</td>\n",
       "      <td>-0.119418</td>\n",
       "      <td>0.045495</td>\n",
       "    </tr>\n",
       "    <tr>\n",
       "      <th>17</th>\n",
       "      <td>assessland</td>\n",
       "      <td>-0.125332</td>\n",
       "      <td>0.035740</td>\n",
       "    </tr>\n",
       "    <tr>\n",
       "      <th>18</th>\n",
       "      <td>assesstot</td>\n",
       "      <td>-0.133815</td>\n",
       "      <td>0.024881</td>\n",
       "    </tr>\n",
       "  </tbody>\n",
       "</table>\n",
       "</div>"
      ],
      "text/plain": [
       "         index         r         p\n",
       "4         ld02  0.201615  0.000675\n",
       "19      respct  0.183407  0.002022\n",
       "23      strpct -0.119418  0.045495\n",
       "17  assessland -0.125332  0.035740\n",
       "18   assesstot -0.133815  0.024881"
      ]
     },
     "execution_count": 175,
     "metadata": {},
     "output_type": "execute_result"
    }
   ],
   "source": [
    "corrs.loc[corrs['p'] < .05].sort_values(by='r', ascending=False)[1:20]"
   ]
  },
  {
   "cell_type": "code",
   "execution_count": 176,
   "metadata": {},
   "outputs": [],
   "source": [
    "corrs_even = corrs"
   ]
  },
  {
   "cell_type": "code",
   "execution_count": 177,
   "metadata": {},
   "outputs": [],
   "source": [
    "corrs_even.to_csv('corrs_even.csv')"
   ]
  },
  {
   "cell_type": "markdown",
   "metadata": {},
   "source": [
    "Night Correlation"
   ]
  },
  {
   "cell_type": "code",
   "execution_count": 178,
   "metadata": {},
   "outputs": [],
   "source": [
    "tempni = night_aqi.merge(temp, on='region_id')"
   ]
  },
  {
   "cell_type": "code",
   "execution_count": 179,
   "metadata": {},
   "outputs": [
    {
     "data": {
      "text/html": [
       "<div>\n",
       "<style scoped>\n",
       "    .dataframe tbody tr th:only-of-type {\n",
       "        vertical-align: middle;\n",
       "    }\n",
       "\n",
       "    .dataframe tbody tr th {\n",
       "        vertical-align: top;\n",
       "    }\n",
       "\n",
       "    .dataframe thead th {\n",
       "        text-align: right;\n",
       "    }\n",
       "</style>\n",
       "<table border=\"1\" class=\"dataframe\">\n",
       "  <thead>\n",
       "    <tr style=\"text-align: right;\">\n",
       "      <th></th>\n",
       "      <th>region_id</th>\n",
       "      <th>aqi_night</th>\n",
       "      <th>heightroof</th>\n",
       "      <th>groundelev</th>\n",
       "      <th>ld01</th>\n",
       "      <th>ld02</th>\n",
       "      <th>ld03</th>\n",
       "      <th>ld04</th>\n",
       "      <th>ld05</th>\n",
       "      <th>ld06</th>\n",
       "      <th>...</th>\n",
       "      <th>volume</th>\n",
       "      <th>assessland</th>\n",
       "      <th>assesstot</th>\n",
       "      <th>respct</th>\n",
       "      <th>offpct</th>\n",
       "      <th>retpct</th>\n",
       "      <th>facpct</th>\n",
       "      <th>strpct</th>\n",
       "      <th>totalemission</th>\n",
       "      <th>directemission</th>\n",
       "    </tr>\n",
       "  </thead>\n",
       "  <tbody>\n",
       "    <tr>\n",
       "      <th>0</th>\n",
       "      <td>36061011202</td>\n",
       "      <td>68.000000</td>\n",
       "      <td>295.038846</td>\n",
       "      <td>47.961538</td>\n",
       "      <td>0.0</td>\n",
       "      <td>0.0</td>\n",
       "      <td>35171.0</td>\n",
       "      <td>32535.0</td>\n",
       "      <td>342262.0</td>\n",
       "      <td>0.0</td>\n",
       "      <td>...</td>\n",
       "      <td>1.421244e+08</td>\n",
       "      <td>1001.239221</td>\n",
       "      <td>4947.380983</td>\n",
       "      <td>0.083092</td>\n",
       "      <td>0.756442</td>\n",
       "      <td>0.079605</td>\n",
       "      <td>0.0</td>\n",
       "      <td>0.001150</td>\n",
       "      <td>58787.0</td>\n",
       "      <td>2196.0</td>\n",
       "    </tr>\n",
       "    <tr>\n",
       "      <th>1</th>\n",
       "      <td>36061004400</td>\n",
       "      <td>65.666667</td>\n",
       "      <td>58.000000</td>\n",
       "      <td>9.000000</td>\n",
       "      <td>0.0</td>\n",
       "      <td>0.0</td>\n",
       "      <td>0.0</td>\n",
       "      <td>0.0</td>\n",
       "      <td>0.0</td>\n",
       "      <td>0.0</td>\n",
       "      <td>...</td>\n",
       "      <td>2.238177e+06</td>\n",
       "      <td>0.000000</td>\n",
       "      <td>0.000000</td>\n",
       "      <td>0.000000</td>\n",
       "      <td>0.000000</td>\n",
       "      <td>0.000000</td>\n",
       "      <td>0.0</td>\n",
       "      <td>0.000000</td>\n",
       "      <td>1234.7</td>\n",
       "      <td>86.3</td>\n",
       "    </tr>\n",
       "    <tr>\n",
       "      <th>2</th>\n",
       "      <td>36061003900</td>\n",
       "      <td>60.333333</td>\n",
       "      <td>118.596244</td>\n",
       "      <td>12.000000</td>\n",
       "      <td>0.0</td>\n",
       "      <td>16004.0</td>\n",
       "      <td>232931.0</td>\n",
       "      <td>487120.0</td>\n",
       "      <td>242669.0</td>\n",
       "      <td>0.0</td>\n",
       "      <td>...</td>\n",
       "      <td>9.170093e+07</td>\n",
       "      <td>102.095235</td>\n",
       "      <td>1062.013714</td>\n",
       "      <td>0.624222</td>\n",
       "      <td>0.281913</td>\n",
       "      <td>0.032668</td>\n",
       "      <td>0.0</td>\n",
       "      <td>0.005671</td>\n",
       "      <td>32562.6</td>\n",
       "      <td>12887.6</td>\n",
       "    </tr>\n",
       "  </tbody>\n",
       "</table>\n",
       "<p>3 rows × 27 columns</p>\n",
       "</div>"
      ],
      "text/plain": [
       "     region_id  aqi_night  heightroof  groundelev  ld01     ld02      ld03  \\\n",
       "0  36061011202  68.000000  295.038846   47.961538   0.0      0.0   35171.0   \n",
       "1  36061004400  65.666667   58.000000    9.000000   0.0      0.0       0.0   \n",
       "2  36061003900  60.333333  118.596244   12.000000   0.0  16004.0  232931.0   \n",
       "\n",
       "       ld04      ld05  ld06  ...        volume   assessland    assesstot  \\\n",
       "0   32535.0  342262.0   0.0  ...  1.421244e+08  1001.239221  4947.380983   \n",
       "1       0.0       0.0   0.0  ...  2.238177e+06     0.000000     0.000000   \n",
       "2  487120.0  242669.0   0.0  ...  9.170093e+07   102.095235  1062.013714   \n",
       "\n",
       "     respct    offpct    retpct  facpct    strpct  totalemission  \\\n",
       "0  0.083092  0.756442  0.079605     0.0  0.001150        58787.0   \n",
       "1  0.000000  0.000000  0.000000     0.0  0.000000         1234.7   \n",
       "2  0.624222  0.281913  0.032668     0.0  0.005671        32562.6   \n",
       "\n",
       "   directemission  \n",
       "0          2196.0  \n",
       "1            86.3  \n",
       "2         12887.6  \n",
       "\n",
       "[3 rows x 27 columns]"
      ]
     },
     "execution_count": 179,
     "metadata": {},
     "output_type": "execute_result"
    }
   ],
   "source": [
    "tempni.head(3)"
   ]
  },
  {
   "cell_type": "code",
   "execution_count": 180,
   "metadata": {},
   "outputs": [],
   "source": [
    "corrs = tempni.drop(['region_id'], axis=1).apply(lambda x: pearsonr(x, tempni['aqi_night']))\n",
    "corrs = corrs.reset_index()\n",
    "corrs[['r', 'p']] = pd.DataFrame(corrs[0].tolist(), \n",
    "                                 index=corrs.index)\n",
    "corrs.drop([0], axis=1, inplace=True)"
   ]
  },
  {
   "cell_type": "code",
   "execution_count": 181,
   "metadata": {},
   "outputs": [
    {
     "data": {
      "text/html": [
       "<div>\n",
       "<style scoped>\n",
       "    .dataframe tbody tr th:only-of-type {\n",
       "        vertical-align: middle;\n",
       "    }\n",
       "\n",
       "    .dataframe tbody tr th {\n",
       "        vertical-align: top;\n",
       "    }\n",
       "\n",
       "    .dataframe thead th {\n",
       "        text-align: right;\n",
       "    }\n",
       "</style>\n",
       "<table border=\"1\" class=\"dataframe\">\n",
       "  <thead>\n",
       "    <tr style=\"text-align: right;\">\n",
       "      <th></th>\n",
       "      <th>index</th>\n",
       "      <th>r</th>\n",
       "      <th>p</th>\n",
       "    </tr>\n",
       "  </thead>\n",
       "  <tbody>\n",
       "    <tr>\n",
       "      <th>4</th>\n",
       "      <td>ld02</td>\n",
       "      <td>0.257454</td>\n",
       "      <td>1.240341e-05</td>\n",
       "    </tr>\n",
       "    <tr>\n",
       "      <th>14</th>\n",
       "      <td>alonepct</td>\n",
       "      <td>0.212403</td>\n",
       "      <td>3.362405e-04</td>\n",
       "    </tr>\n",
       "    <tr>\n",
       "      <th>19</th>\n",
       "      <td>respct</td>\n",
       "      <td>0.177747</td>\n",
       "      <td>2.788357e-03</td>\n",
       "    </tr>\n",
       "    <tr>\n",
       "      <th>2</th>\n",
       "      <td>groundelev</td>\n",
       "      <td>0.135145</td>\n",
       "      <td>2.346651e-02</td>\n",
       "    </tr>\n",
       "    <tr>\n",
       "      <th>23</th>\n",
       "      <td>strpct</td>\n",
       "      <td>-0.121644</td>\n",
       "      <td>4.158846e-02</td>\n",
       "    </tr>\n",
       "    <tr>\n",
       "      <th>21</th>\n",
       "      <td>retpct</td>\n",
       "      <td>-0.147184</td>\n",
       "      <td>1.352213e-02</td>\n",
       "    </tr>\n",
       "    <tr>\n",
       "      <th>7</th>\n",
       "      <td>ld05</td>\n",
       "      <td>-0.175903</td>\n",
       "      <td>3.090076e-03</td>\n",
       "    </tr>\n",
       "    <tr>\n",
       "      <th>16</th>\n",
       "      <td>volume</td>\n",
       "      <td>-0.212639</td>\n",
       "      <td>3.310183e-04</td>\n",
       "    </tr>\n",
       "    <tr>\n",
       "      <th>20</th>\n",
       "      <td>offpct</td>\n",
       "      <td>-0.214907</td>\n",
       "      <td>2.845982e-04</td>\n",
       "    </tr>\n",
       "    <tr>\n",
       "      <th>17</th>\n",
       "      <td>assessland</td>\n",
       "      <td>-0.247352</td>\n",
       "      <td>2.750121e-05</td>\n",
       "    </tr>\n",
       "    <tr>\n",
       "      <th>1</th>\n",
       "      <td>heightroof</td>\n",
       "      <td>-0.252340</td>\n",
       "      <td>1.863832e-05</td>\n",
       "    </tr>\n",
       "    <tr>\n",
       "      <th>18</th>\n",
       "      <td>assesstot</td>\n",
       "      <td>-0.268325</td>\n",
       "      <td>5.071102e-06</td>\n",
       "    </tr>\n",
       "    <tr>\n",
       "      <th>15</th>\n",
       "      <td>far</td>\n",
       "      <td>-0.295291</td>\n",
       "      <td>4.636636e-07</td>\n",
       "    </tr>\n",
       "  </tbody>\n",
       "</table>\n",
       "</div>"
      ],
      "text/plain": [
       "         index         r             p\n",
       "4         ld02  0.257454  1.240341e-05\n",
       "14    alonepct  0.212403  3.362405e-04\n",
       "19      respct  0.177747  2.788357e-03\n",
       "2   groundelev  0.135145  2.346651e-02\n",
       "23      strpct -0.121644  4.158846e-02\n",
       "21      retpct -0.147184  1.352213e-02\n",
       "7         ld05 -0.175903  3.090076e-03\n",
       "16      volume -0.212639  3.310183e-04\n",
       "20      offpct -0.214907  2.845982e-04\n",
       "17  assessland -0.247352  2.750121e-05\n",
       "1   heightroof -0.252340  1.863832e-05\n",
       "18   assesstot -0.268325  5.071102e-06\n",
       "15         far -0.295291  4.636636e-07"
      ]
     },
     "execution_count": 181,
     "metadata": {},
     "output_type": "execute_result"
    }
   ],
   "source": [
    "corrs.loc[corrs['p'] < .05].sort_values(by='r', ascending=False)[1:20]"
   ]
  },
  {
   "cell_type": "code",
   "execution_count": 182,
   "metadata": {},
   "outputs": [],
   "source": [
    "corrs_night = corrs"
   ]
  },
  {
   "cell_type": "code",
   "execution_count": 183,
   "metadata": {},
   "outputs": [],
   "source": [
    "corrs_night.to_csv('corrs_night.csv')"
   ]
  },
  {
   "cell_type": "code",
   "execution_count": null,
   "metadata": {},
   "outputs": [],
   "source": []
  },
  {
   "cell_type": "markdown",
   "metadata": {},
   "source": [
    "Read File"
   ]
  },
  {
   "cell_type": "code",
   "execution_count": 4,
   "metadata": {},
   "outputs": [],
   "source": [
    "corrs_night = pd.read_csv('corrs_night.csv')"
   ]
  },
  {
   "cell_type": "code",
   "execution_count": 5,
   "metadata": {},
   "outputs": [],
   "source": [
    "temp = pd.read_csv('merged0419.csv')"
   ]
  },
  {
   "cell_type": "code",
   "execution_count": 6,
   "metadata": {},
   "outputs": [],
   "source": [
    "night_aqi = pd.read_csv('night_aqi.csv')"
   ]
  },
  {
   "cell_type": "code",
   "execution_count": null,
   "metadata": {},
   "outputs": [],
   "source": []
  },
  {
   "cell_type": "code",
   "execution_count": null,
   "metadata": {},
   "outputs": [],
   "source": []
  },
  {
   "cell_type": "markdown",
   "metadata": {},
   "source": [
    "Model Training"
   ]
  },
  {
   "cell_type": "code",
   "execution_count": 186,
   "metadata": {},
   "outputs": [],
   "source": [
    "target = 'aqi_night'\n",
    "current_cols = corrs_night.reindex(corrs.r.abs().sort_values(ascending=False).index)[2:4].values[:,0].tolist()\n",
    "sig_df = tempni[current_cols + [target]]\n",
    "\n",
    "X = sig_df.drop([target], axis=1)\n",
    "y = sig_df[target]\n",
    "hyper_params = {'tol': np.linspace(1e-4, 0.1, 4), \n",
    "                'alpha': np.linspace(0.5,2.0, 4)}\n",
    "\n",
    "reg = GridSearchCV(Lasso(), hyper_params)"
   ]
  },
  {
   "cell_type": "code",
   "execution_count": 187,
   "metadata": {},
   "outputs": [
    {
     "data": {
      "text/plain": [
       "{'rmse': 3.0685008776757807,\n",
       " 'R-squared': 0.07995085886251363,\n",
       " 'avg abs difference': 2.3772961957545498,\n",
       " 'best_params': {'alpha': 2.0, 'tol': 0.0001},\n",
       " 'cols': ['assesstot', 'ld02']}"
      ]
     },
     "execution_count": 187,
     "metadata": {},
     "output_type": "execute_result"
    }
   ],
   "source": [
    "predictions = []\n",
    "true = []\n",
    "kf = KFold(n_splits=10)\n",
    "kf.get_n_splits(X)\n",
    "for train_index, test_index in kf.split(X):\n",
    "        X_train, X_test = X.iloc[train_index], X.iloc[test_index]\n",
    "        y_train, y_test = y.iloc[train_index], y.iloc[test_index]\n",
    "\n",
    "        reg.fit(X_train, y_train)\n",
    "        preds = reg.predict(X_test)\n",
    "        predictions.append(preds)\n",
    "        true.append(y_test)\n",
    "predictions = np.array([item for sublist in predictions for item in sublist])\n",
    "true = np.array([item for sublist in true for item in sublist])\n",
    "res = {'rmse': mean_squared_error(true, predictions, squared=False),\n",
    "       'R-squared': r2_score(true, predictions),\n",
    "       'avg abs difference': np.mean(abs(predictions - true)),\n",
    "       'best_params': reg.best_params_,\n",
    "       'cols': current_cols}\n",
    "res"
   ]
  },
  {
   "cell_type": "code",
   "execution_count": null,
   "metadata": {},
   "outputs": [],
   "source": []
  }
 ],
 "metadata": {
  "kernelspec": {
   "display_name": "Python 3",
   "language": "python",
   "name": "python3"
  },
  "language_info": {
   "codemirror_mode": {
    "name": "ipython",
    "version": 3
   },
   "file_extension": ".py",
   "mimetype": "text/x-python",
   "name": "python",
   "nbconvert_exporter": "python",
   "pygments_lexer": "ipython3",
   "version": "3.7.3"
  }
 },
 "nbformat": 4,
 "nbformat_minor": 2
}
