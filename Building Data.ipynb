{
 "cells": [
  {
   "cell_type": "code",
   "execution_count": 2,
   "metadata": {},
   "outputs": [],
   "source": [
    "import os\n",
    "from os import environ\n",
    "import pandas as pd\n",
    "import numpy as np\n",
    "import geopandas as gpd\n",
    "from sodapy import Socrata\n",
    "from scipy.stats import pearsonr\n",
    "import matplotlib.pyplot as plt"
   ]
  },
  {
   "cell_type": "code",
   "execution_count": 3,
   "metadata": {},
   "outputs": [],
   "source": [
    "from sklearn.decomposition import PCA as sklearnPCA\n",
    "from sklearn.preprocessing import StandardScaler\n",
    "from sklearn import preprocessing\n",
    "from sklearn.model_selection import train_test_split, KFold, GridSearchCV\n",
    "from sklearn.linear_model import Lasso\n",
    "from sklearn.metrics import r2_score, mean_squared_error\n",
    "from sklearn.kernel_ridge import KernelRidge"
   ]
  },
  {
   "cell_type": "code",
   "execution_count": 4,
   "metadata": {},
   "outputs": [],
   "source": [
    "import warnings\n",
    "warnings.filterwarnings(\"ignore\")"
   ]
  },
  {
   "cell_type": "code",
   "execution_count": 4,
   "metadata": {},
   "outputs": [],
   "source": [
    "import os.path"
   ]
  },
  {
   "cell_type": "code",
   "execution_count": 5,
   "metadata": {},
   "outputs": [],
   "source": [
    "path = '/Users/Albert/Jupyter/Tutorial/pluto_21v1.csv'"
   ]
  },
  {
   "cell_type": "code",
   "execution_count": 6,
   "metadata": {},
   "outputs": [],
   "source": [
    "df = pd.read_csv(path, low_memory=False, \n",
    "                 dtype={'block': str, 'lot': str,\n",
    "                        'cd': str, 'ct2010': str,\n",
    "                        'cb2010': str, 'schooldist': str,\n",
    "                        'council': str, 'zipcode': str,\n",
    "                        'landuse': str, 'bbl': str})\n",
    "df['bbl'] = df['bbl'].str.replace('.00000000', '')"
   ]
  },
  {
   "cell_type": "code",
   "execution_count": 7,
   "metadata": {},
   "outputs": [
    {
     "name": "stdout",
     "output_type": "stream",
     "text": [
      "(858774, 90)\n"
     ]
    },
    {
     "data": {
      "text/html": [
       "<div>\n",
       "<style scoped>\n",
       "    .dataframe tbody tr th:only-of-type {\n",
       "        vertical-align: middle;\n",
       "    }\n",
       "\n",
       "    .dataframe tbody tr th {\n",
       "        vertical-align: top;\n",
       "    }\n",
       "\n",
       "    .dataframe thead th {\n",
       "        text-align: right;\n",
       "    }\n",
       "</style>\n",
       "<table border=\"1\" class=\"dataframe\">\n",
       "  <thead>\n",
       "    <tr style=\"text-align: right;\">\n",
       "      <th></th>\n",
       "      <th>borough</th>\n",
       "      <th>block</th>\n",
       "      <th>lot</th>\n",
       "      <th>cd</th>\n",
       "      <th>ct2010</th>\n",
       "      <th>cb2010</th>\n",
       "      <th>schooldist</th>\n",
       "      <th>council</th>\n",
       "      <th>zipcode</th>\n",
       "      <th>firecomp</th>\n",
       "      <th>...</th>\n",
       "      <th>appbbl</th>\n",
       "      <th>appdate</th>\n",
       "      <th>plutomapid</th>\n",
       "      <th>firm07_flag</th>\n",
       "      <th>pfirm15_flag</th>\n",
       "      <th>version</th>\n",
       "      <th>dcpedited</th>\n",
       "      <th>latitude</th>\n",
       "      <th>longitude</th>\n",
       "      <th>notes</th>\n",
       "    </tr>\n",
       "  </thead>\n",
       "  <tbody>\n",
       "    <tr>\n",
       "      <th>0</th>\n",
       "      <td>SI</td>\n",
       "      <td>1701</td>\n",
       "      <td>96</td>\n",
       "      <td>501</td>\n",
       "      <td>303.02</td>\n",
       "      <td>4004</td>\n",
       "      <td>31</td>\n",
       "      <td>49</td>\n",
       "      <td>10303</td>\n",
       "      <td>E166</td>\n",
       "      <td>...</td>\n",
       "      <td>5.017010e+09</td>\n",
       "      <td>01/02/1992</td>\n",
       "      <td>1</td>\n",
       "      <td>NaN</td>\n",
       "      <td>NaN</td>\n",
       "      <td>21v1</td>\n",
       "      <td>NaN</td>\n",
       "      <td>40.624031</td>\n",
       "      <td>-74.155358</td>\n",
       "      <td>NaN</td>\n",
       "    </tr>\n",
       "    <tr>\n",
       "      <th>1</th>\n",
       "      <td>MN</td>\n",
       "      <td>16</td>\n",
       "      <td>7502</td>\n",
       "      <td>101</td>\n",
       "      <td>317.04</td>\n",
       "      <td>2000</td>\n",
       "      <td>02</td>\n",
       "      <td>1</td>\n",
       "      <td>10280</td>\n",
       "      <td>E010</td>\n",
       "      <td>...</td>\n",
       "      <td>1.000162e+09</td>\n",
       "      <td>08/25/1988</td>\n",
       "      <td>1</td>\n",
       "      <td>1.0</td>\n",
       "      <td>1.0</td>\n",
       "      <td>21v1</td>\n",
       "      <td>NaN</td>\n",
       "      <td>40.710107</td>\n",
       "      <td>-74.017570</td>\n",
       "      <td>NaN</td>\n",
       "    </tr>\n",
       "    <tr>\n",
       "      <th>2</th>\n",
       "      <td>MN</td>\n",
       "      <td>348</td>\n",
       "      <td>46</td>\n",
       "      <td>103</td>\n",
       "      <td>14.02</td>\n",
       "      <td>2001</td>\n",
       "      <td>01</td>\n",
       "      <td>1</td>\n",
       "      <td>10002</td>\n",
       "      <td>L018</td>\n",
       "      <td>...</td>\n",
       "      <td>NaN</td>\n",
       "      <td>NaN</td>\n",
       "      <td>1</td>\n",
       "      <td>NaN</td>\n",
       "      <td>NaN</td>\n",
       "      <td>21v1</td>\n",
       "      <td>NaN</td>\n",
       "      <td>40.718566</td>\n",
       "      <td>-73.984816</td>\n",
       "      <td>NaN</td>\n",
       "    </tr>\n",
       "  </tbody>\n",
       "</table>\n",
       "<p>3 rows × 90 columns</p>\n",
       "</div>"
      ],
      "text/plain": [
       "  borough block   lot   cd  ct2010 cb2010 schooldist council zipcode firecomp  \\\n",
       "0      SI  1701    96  501  303.02   4004         31      49   10303     E166   \n",
       "1      MN    16  7502  101  317.04   2000         02       1   10280     E010   \n",
       "2      MN   348    46  103   14.02   2001         01       1   10002     L018   \n",
       "\n",
       "   ...        appbbl     appdate  plutomapid  firm07_flag  pfirm15_flag  \\\n",
       "0  ...  5.017010e+09  01/02/1992           1          NaN           NaN   \n",
       "1  ...  1.000162e+09  08/25/1988           1          1.0           1.0   \n",
       "2  ...           NaN         NaN           1          NaN           NaN   \n",
       "\n",
       "  version dcpedited   latitude  longitude notes  \n",
       "0    21v1       NaN  40.624031 -74.155358   NaN  \n",
       "1    21v1       NaN  40.710107 -74.017570   NaN  \n",
       "2    21v1       NaN  40.718566 -73.984816   NaN  \n",
       "\n",
       "[3 rows x 90 columns]"
      ]
     },
     "execution_count": 7,
     "metadata": {},
     "output_type": "execute_result"
    }
   ],
   "source": [
    "print(df.shape)\n",
    "df.head(3)"
   ]
  },
  {
   "cell_type": "code",
   "execution_count": 9,
   "metadata": {},
   "outputs": [],
   "source": [
    "path = \"/Users/Albert/Jupyter/Tutorial/Building Footprints.geojson\"\n",
    "bldgs = gpd.read_file(path, dtype={'shape_area': float, 'heightroof': float,\n",
    "                                  'cnstrct_yr': int, 'groundelev': int,\n",
    "                                  'shape_len': float})"
   ]
  },
  {
   "cell_type": "code",
   "execution_count": 10,
   "metadata": {},
   "outputs": [],
   "source": [
    "bldgs.rename(columns={'base_bbl': 'bbl'}, inplace=True)"
   ]
  },
  {
   "cell_type": "code",
   "execution_count": 11,
   "metadata": {},
   "outputs": [
    {
     "name": "stdout",
     "output_type": "stream",
     "text": [
      "(1139213, 15)\n"
     ]
    },
    {
     "data": {
      "text/html": [
       "<div>\n",
       "<style scoped>\n",
       "    .dataframe tbody tr th:only-of-type {\n",
       "        vertical-align: middle;\n",
       "    }\n",
       "\n",
       "    .dataframe tbody tr th {\n",
       "        vertical-align: top;\n",
       "    }\n",
       "\n",
       "    .dataframe thead th {\n",
       "        text-align: right;\n",
       "    }\n",
       "</style>\n",
       "<table border=\"1\" class=\"dataframe\">\n",
       "  <thead>\n",
       "    <tr style=\"text-align: right;\">\n",
       "      <th></th>\n",
       "      <th>name</th>\n",
       "      <th>bbl</th>\n",
       "      <th>shape_area</th>\n",
       "      <th>heightroof</th>\n",
       "      <th>mpluto_bbl</th>\n",
       "      <th>cnstrct_yr</th>\n",
       "      <th>lststatype</th>\n",
       "      <th>feat_code</th>\n",
       "      <th>groundelev</th>\n",
       "      <th>geomsource</th>\n",
       "      <th>bin</th>\n",
       "      <th>lstmoddate</th>\n",
       "      <th>doitt_id</th>\n",
       "      <th>shape_len</th>\n",
       "      <th>geometry</th>\n",
       "    </tr>\n",
       "  </thead>\n",
       "  <tbody>\n",
       "    <tr>\n",
       "      <th>0</th>\n",
       "      <td>None</td>\n",
       "      <td>3044520815</td>\n",
       "      <td>854.66243317866</td>\n",
       "      <td>21.60850812</td>\n",
       "      <td>3044520815</td>\n",
       "      <td>2009</td>\n",
       "      <td>Constructed</td>\n",
       "      <td>2100</td>\n",
       "      <td>18</td>\n",
       "      <td>Photogramm</td>\n",
       "      <td>3394646</td>\n",
       "      <td>2017-08-22T00:00:00+00:00</td>\n",
       "      <td>1212853</td>\n",
       "      <td>125.0797955584</td>\n",
       "      <td>MULTIPOLYGON (((-73.87130 40.65717, -73.87136 ...</td>\n",
       "    </tr>\n",
       "    <tr>\n",
       "      <th>1</th>\n",
       "      <td>None</td>\n",
       "      <td>4030640041</td>\n",
       "      <td>217.59424346169</td>\n",
       "      <td>10.36</td>\n",
       "      <td>4030640041</td>\n",
       "      <td>1930</td>\n",
       "      <td>Constructed</td>\n",
       "      <td>5110</td>\n",
       "      <td>122</td>\n",
       "      <td>Photogramm</td>\n",
       "      <td>4548330</td>\n",
       "      <td>2017-08-17T00:00:00+00:00</td>\n",
       "      <td>1226227</td>\n",
       "      <td>60.22585821856</td>\n",
       "      <td>MULTIPOLYGON (((-73.87671 40.71425, -73.87677 ...</td>\n",
       "    </tr>\n",
       "    <tr>\n",
       "      <th>2</th>\n",
       "      <td>None</td>\n",
       "      <td>4139430001</td>\n",
       "      <td>946.42747637737</td>\n",
       "      <td>29.81157033</td>\n",
       "      <td>4139430001</td>\n",
       "      <td>1960</td>\n",
       "      <td>Constructed</td>\n",
       "      <td>2100</td>\n",
       "      <td>10</td>\n",
       "      <td>Photogramm</td>\n",
       "      <td>4460479</td>\n",
       "      <td>2017-08-22T00:00:00+00:00</td>\n",
       "      <td>581946</td>\n",
       "      <td>123.14194057237</td>\n",
       "      <td>MULTIPOLYGON (((-73.85195 40.66235, -73.85195 ...</td>\n",
       "    </tr>\n",
       "  </tbody>\n",
       "</table>\n",
       "</div>"
      ],
      "text/plain": [
       "   name         bbl       shape_area   heightroof  mpluto_bbl cnstrct_yr  \\\n",
       "0  None  3044520815  854.66243317866  21.60850812  3044520815       2009   \n",
       "1  None  4030640041  217.59424346169        10.36  4030640041       1930   \n",
       "2  None  4139430001  946.42747637737  29.81157033  4139430001       1960   \n",
       "\n",
       "    lststatype feat_code groundelev  geomsource      bin  \\\n",
       "0  Constructed      2100         18  Photogramm  3394646   \n",
       "1  Constructed      5110        122  Photogramm  4548330   \n",
       "2  Constructed      2100         10  Photogramm  4460479   \n",
       "\n",
       "                  lstmoddate doitt_id        shape_len  \\\n",
       "0  2017-08-22T00:00:00+00:00  1212853   125.0797955584   \n",
       "1  2017-08-17T00:00:00+00:00  1226227   60.22585821856   \n",
       "2  2017-08-22T00:00:00+00:00   581946  123.14194057237   \n",
       "\n",
       "                                            geometry  \n",
       "0  MULTIPOLYGON (((-73.87130 40.65717, -73.87136 ...  \n",
       "1  MULTIPOLYGON (((-73.87671 40.71425, -73.87677 ...  \n",
       "2  MULTIPOLYGON (((-73.85195 40.66235, -73.85195 ...  "
      ]
     },
     "execution_count": 11,
     "metadata": {},
     "output_type": "execute_result"
    }
   ],
   "source": [
    "print(bldgs.shape)\n",
    "bldgs.head(3)"
   ]
  },
  {
   "cell_type": "code",
   "execution_count": 12,
   "metadata": {},
   "outputs": [],
   "source": [
    "enpath = '/Users/Albert/Jupyter/Final/bldg_energy.csv'\n",
    "energy = gpd.read_file(enpath)"
   ]
  },
  {
   "cell_type": "code",
   "execution_count": 13,
   "metadata": {},
   "outputs": [],
   "source": [
    "energy.rename(columns={'bbl_10_digits': 'bbl',\n",
    "                            'nyc_building_identification': 'bin'}, \n",
    "                   inplace=True)"
   ]
  },
  {
   "cell_type": "code",
   "execution_count": 14,
   "metadata": {},
   "outputs": [],
   "source": [
    "bcols = ['bbl', 'bin','total_ghg_emissions_metric', 'direct_ghg_emissions_metric','electricity_use_grid_purchase', 'natural_gas_use_kbtu', 'occupancy']\n",
    "temp = energy[bcols].merge(df, on='bbl')"
   ]
  },
  {
   "cell_type": "code",
   "execution_count": 18,
   "metadata": {},
   "outputs": [],
   "source": [
    "cols = ['easements', 'lotarea', 'bldgarea', 'landuse',\n",
    "        'comarea', 'resarea', 'officearea', 'retailarea',\n",
    "        'garagearea', 'strgearea', 'factryarea', 'otherarea',\n",
    "        'areasource', 'numbldgs', 'numfloors', 'unitsres',\n",
    "        'unitstotal', 'lotfront', 'lotdepth', 'bldgfront',\n",
    "        'bldgdepth','yearbuilt', 'yearalter1', 'yearalter2',\n",
    "        'borough','assessland','assesstot']"
   ]
  },
  {
   "cell_type": "code",
   "execution_count": 19,
   "metadata": {},
   "outputs": [],
   "source": [
    "temp = temp[cols+bcols]"
   ]
  },
  {
   "cell_type": "code",
   "execution_count": 20,
   "metadata": {},
   "outputs": [],
   "source": [
    "bfcols = ['shape_area', 'heightroof', 'groundelev',\n",
    "          'bin', 'shape_len', 'geometry']"
   ]
  },
  {
   "cell_type": "code",
   "execution_count": 21,
   "metadata": {},
   "outputs": [],
   "source": [
    "temp = temp.merge(bldgs[bfcols], on=['bin'])"
   ]
  },
  {
   "cell_type": "code",
   "execution_count": 22,
   "metadata": {},
   "outputs": [],
   "source": [
    "temp.drop_duplicates(inplace=True)"
   ]
  },
  {
   "cell_type": "code",
   "execution_count": 23,
   "metadata": {},
   "outputs": [],
   "source": [
    "temp.fillna({'otherarea':0,'factryarea':0,'strgearea':0,'garagearea':0,\n",
    "             'retailarea':0,'officearea':0,'resarea':0,'comarea':0},\n",
    "            inplace=True)"
   ]
  },
  {
   "cell_type": "code",
   "execution_count": 24,
   "metadata": {},
   "outputs": [],
   "source": [
    "temp.dropna(inplace=True)"
   ]
  },
  {
   "cell_type": "code",
   "execution_count": 25,
   "metadata": {},
   "outputs": [
    {
     "data": {
      "text/plain": [
       "(24248, 39)"
      ]
     },
     "execution_count": 25,
     "metadata": {},
     "output_type": "execute_result"
    }
   ],
   "source": [
    "temp.shape"
   ]
  },
  {
   "cell_type": "code",
   "execution_count": 26,
   "metadata": {},
   "outputs": [
    {
     "data": {
      "text/html": [
       "<div>\n",
       "<style scoped>\n",
       "    .dataframe tbody tr th:only-of-type {\n",
       "        vertical-align: middle;\n",
       "    }\n",
       "\n",
       "    .dataframe tbody tr th {\n",
       "        vertical-align: top;\n",
       "    }\n",
       "\n",
       "    .dataframe thead th {\n",
       "        text-align: right;\n",
       "    }\n",
       "</style>\n",
       "<table border=\"1\" class=\"dataframe\">\n",
       "  <thead>\n",
       "    <tr style=\"text-align: right;\">\n",
       "      <th></th>\n",
       "      <th>easements</th>\n",
       "      <th>lotarea</th>\n",
       "      <th>bldgarea</th>\n",
       "      <th>landuse</th>\n",
       "      <th>comarea</th>\n",
       "      <th>resarea</th>\n",
       "      <th>officearea</th>\n",
       "      <th>retailarea</th>\n",
       "      <th>garagearea</th>\n",
       "      <th>strgearea</th>\n",
       "      <th>...</th>\n",
       "      <th>total_ghg_emissions_metric</th>\n",
       "      <th>direct_ghg_emissions_metric</th>\n",
       "      <th>electricity_use_grid_purchase</th>\n",
       "      <th>natural_gas_use_kbtu</th>\n",
       "      <th>occupancy</th>\n",
       "      <th>shape_area</th>\n",
       "      <th>heightroof</th>\n",
       "      <th>groundelev</th>\n",
       "      <th>shape_len</th>\n",
       "      <th>geometry</th>\n",
       "    </tr>\n",
       "  </thead>\n",
       "  <tbody>\n",
       "    <tr>\n",
       "      <th>0</th>\n",
       "      <td>0.0</td>\n",
       "      <td>33639.0</td>\n",
       "      <td>734668.0</td>\n",
       "      <td>05</td>\n",
       "      <td>734668.0</td>\n",
       "      <td>0.0</td>\n",
       "      <td>686025.0</td>\n",
       "      <td>11510.0</td>\n",
       "      <td>0.0</td>\n",
       "      <td>0.0</td>\n",
       "      <td>...</td>\n",
       "      <td>2747.2</td>\n",
       "      <td>0</td>\n",
       "      <td>25517772.4</td>\n",
       "      <td></td>\n",
       "      <td>55</td>\n",
       "      <td>24877.9527614759</td>\n",
       "      <td>511.16</td>\n",
       "      <td>61</td>\n",
       "      <td>702.8747521918</td>\n",
       "      <td>MULTIPOLYGON (((-73.98352 40.75669, -73.98374 ...</td>\n",
       "    </tr>\n",
       "    <tr>\n",
       "      <th>1</th>\n",
       "      <td>0.0</td>\n",
       "      <td>18993.0</td>\n",
       "      <td>380000.0</td>\n",
       "      <td>05</td>\n",
       "      <td>380000.0</td>\n",
       "      <td>0.0</td>\n",
       "      <td>360000.0</td>\n",
       "      <td>20000.0</td>\n",
       "      <td>0.0</td>\n",
       "      <td>0.0</td>\n",
       "      <td>...</td>\n",
       "      <td>2752.2</td>\n",
       "      <td>0</td>\n",
       "      <td>17555048.6</td>\n",
       "      <td></td>\n",
       "      <td>100</td>\n",
       "      <td>18317.2285359523</td>\n",
       "      <td>342.32</td>\n",
       "      <td>35</td>\n",
       "      <td>597.31909526454</td>\n",
       "      <td>MULTIPOLYGON (((-73.97413 40.75047, -73.97424 ...</td>\n",
       "    </tr>\n",
       "    <tr>\n",
       "      <th>2</th>\n",
       "      <td>0.0</td>\n",
       "      <td>26100.0</td>\n",
       "      <td>646995.0</td>\n",
       "      <td>05</td>\n",
       "      <td>565001.0</td>\n",
       "      <td>0.0</td>\n",
       "      <td>565000.0</td>\n",
       "      <td>1.0</td>\n",
       "      <td>0.0</td>\n",
       "      <td>0.0</td>\n",
       "      <td>...</td>\n",
       "      <td>3038.1</td>\n",
       "      <td>50.5</td>\n",
       "      <td>25434413.5</td>\n",
       "      <td>950954.5</td>\n",
       "      <td>95</td>\n",
       "      <td>25382.2911506843</td>\n",
       "      <td>370.67</td>\n",
       "      <td>52</td>\n",
       "      <td>713.51271530925</td>\n",
       "      <td>MULTIPOLYGON (((-73.98279 40.75803, -73.98289 ...</td>\n",
       "    </tr>\n",
       "  </tbody>\n",
       "</table>\n",
       "<p>3 rows × 39 columns</p>\n",
       "</div>"
      ],
      "text/plain": [
       "   easements  lotarea  bldgarea landuse   comarea  resarea  officearea  \\\n",
       "0        0.0  33639.0  734668.0      05  734668.0      0.0    686025.0   \n",
       "1        0.0  18993.0  380000.0      05  380000.0      0.0    360000.0   \n",
       "2        0.0  26100.0  646995.0      05  565001.0      0.0    565000.0   \n",
       "\n",
       "   retailarea  garagearea  strgearea  ...  total_ghg_emissions_metric  \\\n",
       "0     11510.0         0.0        0.0  ...                      2747.2   \n",
       "1     20000.0         0.0        0.0  ...                      2752.2   \n",
       "2         1.0         0.0        0.0  ...                      3038.1   \n",
       "\n",
       "   direct_ghg_emissions_metric  electricity_use_grid_purchase  \\\n",
       "0                            0                     25517772.4   \n",
       "1                            0                     17555048.6   \n",
       "2                         50.5                     25434413.5   \n",
       "\n",
       "   natural_gas_use_kbtu  occupancy        shape_area  heightroof  groundelev  \\\n",
       "0                               55  24877.9527614759      511.16          61   \n",
       "1                              100  18317.2285359523      342.32          35   \n",
       "2              950954.5         95  25382.2911506843      370.67          52   \n",
       "\n",
       "         shape_len                                           geometry  \n",
       "0   702.8747521918  MULTIPOLYGON (((-73.98352 40.75669, -73.98374 ...  \n",
       "1  597.31909526454  MULTIPOLYGON (((-73.97413 40.75047, -73.97424 ...  \n",
       "2  713.51271530925  MULTIPOLYGON (((-73.98279 40.75803, -73.98289 ...  \n",
       "\n",
       "[3 rows x 39 columns]"
      ]
     },
     "execution_count": 26,
     "metadata": {},
     "output_type": "execute_result"
    }
   ],
   "source": [
    "temp.head(3)\n",
    "\n"
   ]
  },
  {
   "cell_type": "markdown",
   "metadata": {},
   "source": [
    "In Manhattan"
   ]
  },
  {
   "cell_type": "code",
   "execution_count": 27,
   "metadata": {},
   "outputs": [],
   "source": [
    "temp = temp[(temp['borough'] == 'MN')]"
   ]
  },
  {
   "cell_type": "code",
   "execution_count": 28,
   "metadata": {},
   "outputs": [
    {
     "data": {
      "text/plain": [
       "(9398, 39)"
      ]
     },
     "execution_count": 28,
     "metadata": {},
     "output_type": "execute_result"
    }
   ],
   "source": [
    "temp.shape"
   ]
  },
  {
   "cell_type": "code",
   "execution_count": 29,
   "metadata": {},
   "outputs": [],
   "source": [
    "\n",
    "def standalone_check(x):\n",
    "    temp = bldgs.loc[bldgs['geometry'].touches(x)]\n",
    "    check = temp.shape[0] == 0\n",
    "    return check"
   ]
  },
  {
   "cell_type": "code",
   "execution_count": 30,
   "metadata": {},
   "outputs": [],
   "source": [
    "temp['standalone'] = temp['geometry'].apply(lambda x: standalone_check(x))"
   ]
  },
  {
   "cell_type": "code",
   "execution_count": 31,
   "metadata": {},
   "outputs": [
    {
     "data": {
      "text/plain": [
       "(9398, 40)"
      ]
     },
     "execution_count": 31,
     "metadata": {},
     "output_type": "execute_result"
    }
   ],
   "source": [
    "temp.shape"
   ]
  },
  {
   "cell_type": "code",
   "execution_count": 111,
   "metadata": {},
   "outputs": [],
   "source": [
    "#archive = temp\n",
    "#archive['standalonenum']"
   ]
  },
  {
   "cell_type": "code",
   "execution_count": 36,
   "metadata": {},
   "outputs": [],
   "source": [
    "#temp['standalone']"
   ]
  },
  {
   "cell_type": "code",
   "execution_count": 37,
   "metadata": {},
   "outputs": [],
   "source": [
    "temp['standalonenum'] = temp['standalone'].astype(int)"
   ]
  },
  {
   "cell_type": "code",
   "execution_count": 53,
   "metadata": {},
   "outputs": [
    {
     "data": {
      "text/plain": [
       "(8869, 41)"
      ]
     },
     "execution_count": 53,
     "metadata": {},
     "output_type": "execute_result"
    }
   ],
   "source": [
    "temp['standalonenum']\n",
    "temp.shape\n"
   ]
  },
  {
   "cell_type": "code",
   "execution_count": 51,
   "metadata": {},
   "outputs": [],
   "source": [
    "temp = archive"
   ]
  },
  {
   "cell_type": "code",
   "execution_count": 47,
   "metadata": {},
   "outputs": [],
   "source": [
    "temp.drop_duplicates(subset='bin', inplace=True)"
   ]
  },
  {
   "cell_type": "code",
   "execution_count": 48,
   "metadata": {},
   "outputs": [],
   "source": [
    "temp.fillna({'otherarea':0,'factryarea':0,'strgearea':0,'garagearea':0,\n",
    "             'retailarea':0,'officearea':0,'resarea':0,'comarea':0},\n",
    "            inplace=True)"
   ]
  },
  {
   "cell_type": "code",
   "execution_count": 49,
   "metadata": {},
   "outputs": [],
   "source": [
    "temp.dropna(inplace=True)"
   ]
  },
  {
   "cell_type": "code",
   "execution_count": 199,
   "metadata": {},
   "outputs": [
    {
     "data": {
      "text/plain": [
       "(8869, 41)"
      ]
     },
     "execution_count": 199,
     "metadata": {},
     "output_type": "execute_result"
    }
   ],
   "source": [
    "archive.shape"
   ]
  },
  {
   "cell_type": "code",
   "execution_count": null,
   "metadata": {},
   "outputs": [],
   "source": []
  },
  {
   "cell_type": "code",
   "execution_count": null,
   "metadata": {},
   "outputs": [],
   "source": []
  },
  {
   "cell_type": "code",
   "execution_count": 55,
   "metadata": {},
   "outputs": [],
   "source": [
    "gdf = gpd.GeoDataFrame(temp, geometry='geometry', crs='EPSG: 4326')"
   ]
  },
  {
   "cell_type": "code",
   "execution_count": null,
   "metadata": {},
   "outputs": [],
   "source": []
  },
  {
   "cell_type": "code",
   "execution_count": 58,
   "metadata": {},
   "outputs": [],
   "source": [
    "test = gpd.sjoin(tracts, gdf, op='intersects')"
   ]
  },
  {
   "cell_type": "code",
   "execution_count": 59,
   "metadata": {
    "scrolled": true
   },
   "outputs": [
    {
     "data": {
      "text/html": [
       "<div>\n",
       "<style scoped>\n",
       "    .dataframe tbody tr th:only-of-type {\n",
       "        vertical-align: middle;\n",
       "    }\n",
       "\n",
       "    .dataframe tbody tr th {\n",
       "        vertical-align: top;\n",
       "    }\n",
       "\n",
       "    .dataframe thead th {\n",
       "        text-align: right;\n",
       "    }\n",
       "</style>\n",
       "<table border=\"1\" class=\"dataframe\">\n",
       "  <thead>\n",
       "    <tr style=\"text-align: right;\">\n",
       "      <th></th>\n",
       "      <th>region_id</th>\n",
       "      <th>STATEFP</th>\n",
       "      <th>COUNTYFP</th>\n",
       "      <th>TRACTCE</th>\n",
       "      <th>GEOID</th>\n",
       "      <th>NAME</th>\n",
       "      <th>NAMELSAD</th>\n",
       "      <th>MTFCC</th>\n",
       "      <th>FUNCSTAT</th>\n",
       "      <th>ALAND</th>\n",
       "      <th>...</th>\n",
       "      <th>direct_ghg_emissions_metric</th>\n",
       "      <th>electricity_use_grid_purchase</th>\n",
       "      <th>natural_gas_use_kbtu</th>\n",
       "      <th>occupancy</th>\n",
       "      <th>shape_area</th>\n",
       "      <th>heightroof</th>\n",
       "      <th>groundelev</th>\n",
       "      <th>shape_len</th>\n",
       "      <th>standalone</th>\n",
       "      <th>standalonenum</th>\n",
       "    </tr>\n",
       "  </thead>\n",
       "  <tbody>\n",
       "    <tr>\n",
       "      <th>518</th>\n",
       "      <td>36061011202</td>\n",
       "      <td>36</td>\n",
       "      <td>61</td>\n",
       "      <td>11202</td>\n",
       "      <td>36061011202</td>\n",
       "      <td>112.02</td>\n",
       "      <td>Census Tract 112.02</td>\n",
       "      <td>G5020</td>\n",
       "      <td>S</td>\n",
       "      <td>78008</td>\n",
       "      <td>...</td>\n",
       "      <td>0</td>\n",
       "      <td>19441041.2</td>\n",
       "      <td></td>\n",
       "      <td>100</td>\n",
       "      <td>19432.9821782565</td>\n",
       "      <td>285.47</td>\n",
       "      <td>50</td>\n",
       "      <td>667.41256539481</td>\n",
       "      <td>False</td>\n",
       "      <td>0</td>\n",
       "    </tr>\n",
       "    <tr>\n",
       "      <th>518</th>\n",
       "      <td>36061011202</td>\n",
       "      <td>36</td>\n",
       "      <td>61</td>\n",
       "      <td>11202</td>\n",
       "      <td>36061011202</td>\n",
       "      <td>112.02</td>\n",
       "      <td>Census Tract 112.02</td>\n",
       "      <td>G5020</td>\n",
       "      <td>S</td>\n",
       "      <td>78008</td>\n",
       "      <td>...</td>\n",
       "      <td>0</td>\n",
       "      <td>2693285.8</td>\n",
       "      <td></td>\n",
       "      <td>100</td>\n",
       "      <td>5260.02988549211</td>\n",
       "      <td>262.29</td>\n",
       "      <td>49</td>\n",
       "      <td>307.91553975476</td>\n",
       "      <td>False</td>\n",
       "      <td>0</td>\n",
       "    </tr>\n",
       "    <tr>\n",
       "      <th>518</th>\n",
       "      <td>36061011202</td>\n",
       "      <td>36</td>\n",
       "      <td>61</td>\n",
       "      <td>11202</td>\n",
       "      <td>36061011202</td>\n",
       "      <td>112.02</td>\n",
       "      <td>Census Tract 112.02</td>\n",
       "      <td>G5020</td>\n",
       "      <td>S</td>\n",
       "      <td>78008</td>\n",
       "      <td>...</td>\n",
       "      <td>0</td>\n",
       "      <td>17680208.2</td>\n",
       "      <td></td>\n",
       "      <td>95</td>\n",
       "      <td>13315.4579949596</td>\n",
       "      <td>274.09</td>\n",
       "      <td>46</td>\n",
       "      <td>485.42150448012</td>\n",
       "      <td>False</td>\n",
       "      <td>0</td>\n",
       "    </tr>\n",
       "    <tr>\n",
       "      <th>518</th>\n",
       "      <td>36061011202</td>\n",
       "      <td>36</td>\n",
       "      <td>61</td>\n",
       "      <td>11202</td>\n",
       "      <td>36061011202</td>\n",
       "      <td>112.02</td>\n",
       "      <td>Census Tract 112.02</td>\n",
       "      <td>G5020</td>\n",
       "      <td>S</td>\n",
       "      <td>78008</td>\n",
       "      <td>...</td>\n",
       "      <td>0</td>\n",
       "      <td>54631173.9</td>\n",
       "      <td></td>\n",
       "      <td>100</td>\n",
       "      <td>34355.59479662791</td>\n",
       "      <td>584.86</td>\n",
       "      <td>51</td>\n",
       "      <td>775.46029794089</td>\n",
       "      <td>False</td>\n",
       "      <td>0</td>\n",
       "    </tr>\n",
       "    <tr>\n",
       "      <th>518</th>\n",
       "      <td>36061011202</td>\n",
       "      <td>36</td>\n",
       "      <td>61</td>\n",
       "      <td>11202</td>\n",
       "      <td>36061011202</td>\n",
       "      <td>112.02</td>\n",
       "      <td>Census Tract 112.02</td>\n",
       "      <td>G5020</td>\n",
       "      <td>S</td>\n",
       "      <td>78008</td>\n",
       "      <td>...</td>\n",
       "      <td>0</td>\n",
       "      <td></td>\n",
       "      <td></td>\n",
       "      <td>100</td>\n",
       "      <td>5203.43596274268</td>\n",
       "      <td>110.94</td>\n",
       "      <td>53</td>\n",
       "      <td>301.66951959363</td>\n",
       "      <td>False</td>\n",
       "      <td>0</td>\n",
       "    </tr>\n",
       "  </tbody>\n",
       "</table>\n",
       "<p>5 rows × 55 columns</p>\n",
       "</div>"
      ],
      "text/plain": [
       "       region_id  STATEFP  COUNTYFP  TRACTCE        GEOID    NAME  \\\n",
       "518  36061011202       36        61    11202  36061011202  112.02   \n",
       "518  36061011202       36        61    11202  36061011202  112.02   \n",
       "518  36061011202       36        61    11202  36061011202  112.02   \n",
       "518  36061011202       36        61    11202  36061011202  112.02   \n",
       "518  36061011202       36        61    11202  36061011202  112.02   \n",
       "\n",
       "                NAMELSAD  MTFCC FUNCSTAT  ALAND  ...  \\\n",
       "518  Census Tract 112.02  G5020        S  78008  ...   \n",
       "518  Census Tract 112.02  G5020        S  78008  ...   \n",
       "518  Census Tract 112.02  G5020        S  78008  ...   \n",
       "518  Census Tract 112.02  G5020        S  78008  ...   \n",
       "518  Census Tract 112.02  G5020        S  78008  ...   \n",
       "\n",
       "     direct_ghg_emissions_metric  electricity_use_grid_purchase  \\\n",
       "518                            0                     19441041.2   \n",
       "518                            0                      2693285.8   \n",
       "518                            0                     17680208.2   \n",
       "518                            0                     54631173.9   \n",
       "518                            0                                  \n",
       "\n",
       "     natural_gas_use_kbtu occupancy         shape_area  heightroof  \\\n",
       "518                             100   19432.9821782565      285.47   \n",
       "518                             100   5260.02988549211      262.29   \n",
       "518                              95   13315.4579949596      274.09   \n",
       "518                             100  34355.59479662791      584.86   \n",
       "518                             100   5203.43596274268      110.94   \n",
       "\n",
       "     groundelev        shape_len standalone  standalonenum  \n",
       "518          50  667.41256539481      False              0  \n",
       "518          49  307.91553975476      False              0  \n",
       "518          46  485.42150448012      False              0  \n",
       "518          51  775.46029794089      False              0  \n",
       "518          53  301.66951959363      False              0  \n",
       "\n",
       "[5 rows x 55 columns]"
      ]
     },
     "execution_count": 59,
     "metadata": {},
     "output_type": "execute_result"
    }
   ],
   "source": [
    "test.head()\n"
   ]
  },
  {
   "cell_type": "code",
   "execution_count": null,
   "metadata": {},
   "outputs": [],
   "source": []
  },
  {
   "cell_type": "code",
   "execution_count": null,
   "metadata": {},
   "outputs": [],
   "source": []
  },
  {
   "cell_type": "code",
   "execution_count": 60,
   "metadata": {},
   "outputs": [
    {
     "data": {
      "text/plain": [
       "(8874, 55)"
      ]
     },
     "execution_count": 60,
     "metadata": {},
     "output_type": "execute_result"
    }
   ],
   "source": [
    "test.shape"
   ]
  },
  {
   "cell_type": "code",
   "execution_count": 62,
   "metadata": {},
   "outputs": [],
   "source": [
    "test.to_csv('bldgsinfoaloneMN.csv')"
   ]
  },
  {
   "cell_type": "code",
   "execution_count": null,
   "metadata": {},
   "outputs": [],
   "source": []
  },
  {
   "cell_type": "markdown",
   "metadata": {},
   "source": [
    "Export File\n"
   ]
  },
  {
   "cell_type": "code",
   "execution_count": 112,
   "metadata": {},
   "outputs": [],
   "source": [
    "test.to_csv('bldgsinfoaloneMNR.csv')"
   ]
  },
  {
   "cell_type": "code",
   "execution_count": null,
   "metadata": {},
   "outputs": [],
   "source": []
  },
  {
   "cell_type": "code",
   "execution_count": null,
   "metadata": {},
   "outputs": [],
   "source": []
  },
  {
   "cell_type": "code",
   "execution_count": null,
   "metadata": {},
   "outputs": [],
   "source": []
  },
  {
   "cell_type": "markdown",
   "metadata": {},
   "source": [
    "read file"
   ]
  },
  {
   "cell_type": "code",
   "execution_count": 1,
   "metadata": {},
   "outputs": [
    {
     "ename": "NameError",
     "evalue": "name 'pd' is not defined",
     "output_type": "error",
     "traceback": [
      "\u001b[1;31m---------------------------------------------------------------------------\u001b[0m",
      "\u001b[1;31mNameError\u001b[0m                                 Traceback (most recent call last)",
      "\u001b[1;32m<ipython-input-1-197838574dea>\u001b[0m in \u001b[0;36m<module>\u001b[1;34m\u001b[0m\n\u001b[1;32m----> 1\u001b[1;33m \u001b[0mtest\u001b[0m \u001b[1;33m=\u001b[0m \u001b[0mpd\u001b[0m\u001b[1;33m.\u001b[0m\u001b[0mread_csv\u001b[0m\u001b[1;33m(\u001b[0m\u001b[1;34m'bldginfoMNR.csv'\u001b[0m\u001b[1;33m)\u001b[0m\u001b[1;33m\u001b[0m\u001b[1;33m\u001b[0m\u001b[0m\n\u001b[0m",
      "\u001b[1;31mNameError\u001b[0m: name 'pd' is not defined"
     ]
    }
   ],
   "source": [
    "test = pd.read_csv('bldginfoMNR.csv')"
   ]
  },
  {
   "cell_type": "code",
   "execution_count": 302,
   "metadata": {},
   "outputs": [
    {
     "data": {
      "text/plain": [
       "(9405, 54)"
      ]
     },
     "execution_count": 302,
     "metadata": {},
     "output_type": "execute_result"
    }
   ],
   "source": [
    "test.shape"
   ]
  },
  {
   "cell_type": "code",
   "execution_count": null,
   "metadata": {},
   "outputs": [],
   "source": []
  },
  {
   "cell_type": "code",
   "execution_count": null,
   "metadata": {},
   "outputs": [],
   "source": []
  },
  {
   "cell_type": "markdown",
   "metadata": {},
   "source": [
    "Building Height"
   ]
  },
  {
   "cell_type": "code",
   "execution_count": 63,
   "metadata": {},
   "outputs": [],
   "source": [
    "test['heightroof'] = test['heightroof'].astype(float)"
   ]
  },
  {
   "cell_type": "code",
   "execution_count": 64,
   "metadata": {},
   "outputs": [],
   "source": [
    "height = test.groupby('region_id')['heightroof'].mean()\n"
   ]
  },
  {
   "cell_type": "code",
   "execution_count": 65,
   "metadata": {},
   "outputs": [
    {
     "data": {
      "text/plain": [
       "(285,)"
      ]
     },
     "execution_count": 65,
     "metadata": {},
     "output_type": "execute_result"
    }
   ],
   "source": [
    "height.head(3)\n",
    "height.shape"
   ]
  },
  {
   "cell_type": "markdown",
   "metadata": {},
   "source": [
    "Ground Elevation"
   ]
  },
  {
   "cell_type": "code",
   "execution_count": 66,
   "metadata": {},
   "outputs": [],
   "source": [
    "test['groundelev'] = test['groundelev'].astype(float)"
   ]
  },
  {
   "cell_type": "code",
   "execution_count": 67,
   "metadata": {},
   "outputs": [],
   "source": [
    "elev = test.groupby('region_id')['groundelev'].mean()"
   ]
  },
  {
   "cell_type": "code",
   "execution_count": 68,
   "metadata": {},
   "outputs": [
    {
     "data": {
      "text/plain": [
       "(285,)"
      ]
     },
     "execution_count": 68,
     "metadata": {},
     "output_type": "execute_result"
    }
   ],
   "source": [
    "elev.shape"
   ]
  },
  {
   "cell_type": "code",
   "execution_count": 69,
   "metadata": {},
   "outputs": [
    {
     "data": {
      "text/plain": [
       "region_id\n",
       "36005022102    95.0\n",
       "36005028900    11.0\n",
       "36047093400    27.0\n",
       "Name: groundelev, dtype: float64"
      ]
     },
     "execution_count": 69,
     "metadata": {},
     "output_type": "execute_result"
    }
   ],
   "source": [
    "elev.head(3)"
   ]
  },
  {
   "cell_type": "markdown",
   "metadata": {},
   "source": [
    "landuse"
   ]
  },
  {
   "cell_type": "code",
   "execution_count": 70,
   "metadata": {},
   "outputs": [],
   "source": [
    "test['landuse'] = test['landuse'].astype(str)"
   ]
  },
  {
   "cell_type": "code",
   "execution_count": 71,
   "metadata": {},
   "outputs": [],
   "source": [
    "landtest = test.reset_index()"
   ]
  },
  {
   "cell_type": "code",
   "execution_count": 72,
   "metadata": {},
   "outputs": [
    {
     "data": {
      "text/plain": [
       "(8874, 56)"
      ]
     },
     "execution_count": 72,
     "metadata": {},
     "output_type": "execute_result"
    }
   ],
   "source": [
    "landtest.shape"
   ]
  },
  {
   "cell_type": "code",
   "execution_count": 73,
   "metadata": {},
   "outputs": [],
   "source": [
    "#landtest.groupby('region_id').agg({'landuse':'count'})"
   ]
  },
  {
   "cell_type": "code",
   "execution_count": 74,
   "metadata": {},
   "outputs": [],
   "source": [
    "#landtest[['region_id','landuse']].values.tolist()"
   ]
  },
  {
   "cell_type": "code",
   "execution_count": 75,
   "metadata": {},
   "outputs": [],
   "source": [
    "region_list = landtest['region_id'].values.tolist()\n",
    "region_list = list(dict.fromkeys(region_list))\n",
    "land_list = ['01','02','03','04','05','06','07','08','09','10','11']\n",
    "#land_dict = {'region_id','01','02','03','04','05','06','07','08','09','10','11'}"
   ]
  },
  {
   "cell_type": "code",
   "execution_count": 76,
   "metadata": {},
   "outputs": [],
   "source": [
    "#a = landtest[landtest['region_id'].isin(land_list)].groupby('landuse')['region_id']"
   ]
  },
  {
   "cell_type": "code",
   "execution_count": 77,
   "metadata": {},
   "outputs": [],
   "source": [
    "for x in land_list:\n",
    "    name = 'ld' + x\n",
    "    landtest.loc[landtest['landuse'] == x, name ] = landtest['lotarea']"
   ]
  },
  {
   "cell_type": "code",
   "execution_count": 78,
   "metadata": {},
   "outputs": [
    {
     "data": {
      "text/html": [
       "<div>\n",
       "<style scoped>\n",
       "    .dataframe tbody tr th:only-of-type {\n",
       "        vertical-align: middle;\n",
       "    }\n",
       "\n",
       "    .dataframe tbody tr th {\n",
       "        vertical-align: top;\n",
       "    }\n",
       "\n",
       "    .dataframe thead th {\n",
       "        text-align: right;\n",
       "    }\n",
       "</style>\n",
       "<table border=\"1\" class=\"dataframe\">\n",
       "  <thead>\n",
       "    <tr style=\"text-align: right;\">\n",
       "      <th></th>\n",
       "      <th>index</th>\n",
       "      <th>region_id</th>\n",
       "      <th>STATEFP</th>\n",
       "      <th>COUNTYFP</th>\n",
       "      <th>TRACTCE</th>\n",
       "      <th>GEOID</th>\n",
       "      <th>NAME</th>\n",
       "      <th>NAMELSAD</th>\n",
       "      <th>MTFCC</th>\n",
       "      <th>FUNCSTAT</th>\n",
       "      <th>...</th>\n",
       "      <th>ld02</th>\n",
       "      <th>ld03</th>\n",
       "      <th>ld04</th>\n",
       "      <th>ld05</th>\n",
       "      <th>ld06</th>\n",
       "      <th>ld07</th>\n",
       "      <th>ld08</th>\n",
       "      <th>ld09</th>\n",
       "      <th>ld10</th>\n",
       "      <th>ld11</th>\n",
       "    </tr>\n",
       "  </thead>\n",
       "  <tbody>\n",
       "    <tr>\n",
       "      <th>0</th>\n",
       "      <td>518</td>\n",
       "      <td>36061011202</td>\n",
       "      <td>36</td>\n",
       "      <td>61</td>\n",
       "      <td>11202</td>\n",
       "      <td>36061011202</td>\n",
       "      <td>112.02</td>\n",
       "      <td>Census Tract 112.02</td>\n",
       "      <td>G5020</td>\n",
       "      <td>S</td>\n",
       "      <td>...</td>\n",
       "      <td>NaN</td>\n",
       "      <td>NaN</td>\n",
       "      <td>NaN</td>\n",
       "      <td>20075.0</td>\n",
       "      <td>NaN</td>\n",
       "      <td>NaN</td>\n",
       "      <td>NaN</td>\n",
       "      <td>NaN</td>\n",
       "      <td>NaN</td>\n",
       "      <td>NaN</td>\n",
       "    </tr>\n",
       "    <tr>\n",
       "      <th>1</th>\n",
       "      <td>518</td>\n",
       "      <td>36061011202</td>\n",
       "      <td>36</td>\n",
       "      <td>61</td>\n",
       "      <td>11202</td>\n",
       "      <td>36061011202</td>\n",
       "      <td>112.02</td>\n",
       "      <td>Census Tract 112.02</td>\n",
       "      <td>G5020</td>\n",
       "      <td>S</td>\n",
       "      <td>...</td>\n",
       "      <td>NaN</td>\n",
       "      <td>NaN</td>\n",
       "      <td>NaN</td>\n",
       "      <td>5021.0</td>\n",
       "      <td>NaN</td>\n",
       "      <td>NaN</td>\n",
       "      <td>NaN</td>\n",
       "      <td>NaN</td>\n",
       "      <td>NaN</td>\n",
       "      <td>NaN</td>\n",
       "    </tr>\n",
       "    <tr>\n",
       "      <th>2</th>\n",
       "      <td>518</td>\n",
       "      <td>36061011202</td>\n",
       "      <td>36</td>\n",
       "      <td>61</td>\n",
       "      <td>11202</td>\n",
       "      <td>36061011202</td>\n",
       "      <td>112.02</td>\n",
       "      <td>Census Tract 112.02</td>\n",
       "      <td>G5020</td>\n",
       "      <td>S</td>\n",
       "      <td>...</td>\n",
       "      <td>NaN</td>\n",
       "      <td>NaN</td>\n",
       "      <td>NaN</td>\n",
       "      <td>13500.0</td>\n",
       "      <td>NaN</td>\n",
       "      <td>NaN</td>\n",
       "      <td>NaN</td>\n",
       "      <td>NaN</td>\n",
       "      <td>NaN</td>\n",
       "      <td>NaN</td>\n",
       "    </tr>\n",
       "  </tbody>\n",
       "</table>\n",
       "<p>3 rows × 67 columns</p>\n",
       "</div>"
      ],
      "text/plain": [
       "   index    region_id  STATEFP  COUNTYFP  TRACTCE        GEOID    NAME  \\\n",
       "0    518  36061011202       36        61    11202  36061011202  112.02   \n",
       "1    518  36061011202       36        61    11202  36061011202  112.02   \n",
       "2    518  36061011202       36        61    11202  36061011202  112.02   \n",
       "\n",
       "              NAMELSAD  MTFCC FUNCSTAT  ...  ld02  ld03  ld04     ld05 ld06  \\\n",
       "0  Census Tract 112.02  G5020        S  ...   NaN   NaN   NaN  20075.0  NaN   \n",
       "1  Census Tract 112.02  G5020        S  ...   NaN   NaN   NaN   5021.0  NaN   \n",
       "2  Census Tract 112.02  G5020        S  ...   NaN   NaN   NaN  13500.0  NaN   \n",
       "\n",
       "   ld07  ld08  ld09  ld10 ld11  \n",
       "0   NaN   NaN   NaN   NaN  NaN  \n",
       "1   NaN   NaN   NaN   NaN  NaN  \n",
       "2   NaN   NaN   NaN   NaN  NaN  \n",
       "\n",
       "[3 rows x 67 columns]"
      ]
     },
     "execution_count": 78,
     "metadata": {},
     "output_type": "execute_result"
    }
   ],
   "source": [
    "landtest.shape\n",
    "landtest.head(3)"
   ]
  },
  {
   "cell_type": "code",
   "execution_count": 79,
   "metadata": {},
   "outputs": [],
   "source": [
    "landuse = pd.DataFrame()\n",
    "for x in land_list:\n",
    "    name = 'ld' + x\n",
    "    landuse[name] = landtest.groupby('region_id')[name].sum()"
   ]
  },
  {
   "cell_type": "code",
   "execution_count": 80,
   "metadata": {},
   "outputs": [
    {
     "data": {
      "text/plain": [
       "(285, 11)"
      ]
     },
     "execution_count": 80,
     "metadata": {},
     "output_type": "execute_result"
    }
   ],
   "source": [
    "landuse.shape\n"
   ]
  },
  {
   "cell_type": "code",
   "execution_count": 81,
   "metadata": {
    "scrolled": true
   },
   "outputs": [
    {
     "data": {
      "text/html": [
       "<div>\n",
       "<style scoped>\n",
       "    .dataframe tbody tr th:only-of-type {\n",
       "        vertical-align: middle;\n",
       "    }\n",
       "\n",
       "    .dataframe tbody tr th {\n",
       "        vertical-align: top;\n",
       "    }\n",
       "\n",
       "    .dataframe thead th {\n",
       "        text-align: right;\n",
       "    }\n",
       "</style>\n",
       "<table border=\"1\" class=\"dataframe\">\n",
       "  <thead>\n",
       "    <tr style=\"text-align: right;\">\n",
       "      <th></th>\n",
       "      <th>ld01</th>\n",
       "      <th>ld02</th>\n",
       "      <th>ld03</th>\n",
       "      <th>ld04</th>\n",
       "      <th>ld05</th>\n",
       "      <th>ld06</th>\n",
       "      <th>ld07</th>\n",
       "      <th>ld08</th>\n",
       "      <th>ld09</th>\n",
       "      <th>ld10</th>\n",
       "      <th>ld11</th>\n",
       "    </tr>\n",
       "    <tr>\n",
       "      <th>region_id</th>\n",
       "      <th></th>\n",
       "      <th></th>\n",
       "      <th></th>\n",
       "      <th></th>\n",
       "      <th></th>\n",
       "      <th></th>\n",
       "      <th></th>\n",
       "      <th></th>\n",
       "      <th></th>\n",
       "      <th></th>\n",
       "      <th></th>\n",
       "    </tr>\n",
       "  </thead>\n",
       "  <tbody>\n",
       "    <tr>\n",
       "      <th>36005022102</th>\n",
       "      <td>0.0</td>\n",
       "      <td>0.0</td>\n",
       "      <td>4983.0</td>\n",
       "      <td>0.0</td>\n",
       "      <td>0.0</td>\n",
       "      <td>0.0</td>\n",
       "      <td>0.0</td>\n",
       "      <td>0.0</td>\n",
       "      <td>0.0</td>\n",
       "      <td>0.0</td>\n",
       "      <td>0.0</td>\n",
       "    </tr>\n",
       "    <tr>\n",
       "      <th>36005028900</th>\n",
       "      <td>0.0</td>\n",
       "      <td>0.0</td>\n",
       "      <td>0.0</td>\n",
       "      <td>0.0</td>\n",
       "      <td>0.0</td>\n",
       "      <td>185000.0</td>\n",
       "      <td>0.0</td>\n",
       "      <td>0.0</td>\n",
       "      <td>0.0</td>\n",
       "      <td>0.0</td>\n",
       "      <td>0.0</td>\n",
       "    </tr>\n",
       "    <tr>\n",
       "      <th>36047093400</th>\n",
       "      <td>0.0</td>\n",
       "      <td>0.0</td>\n",
       "      <td>7550.0</td>\n",
       "      <td>0.0</td>\n",
       "      <td>0.0</td>\n",
       "      <td>0.0</td>\n",
       "      <td>0.0</td>\n",
       "      <td>0.0</td>\n",
       "      <td>0.0</td>\n",
       "      <td>0.0</td>\n",
       "      <td>0.0</td>\n",
       "    </tr>\n",
       "    <tr>\n",
       "      <th>36061000201</th>\n",
       "      <td>0.0</td>\n",
       "      <td>0.0</td>\n",
       "      <td>0.0</td>\n",
       "      <td>0.0</td>\n",
       "      <td>0.0</td>\n",
       "      <td>0.0</td>\n",
       "      <td>568800.0</td>\n",
       "      <td>178466.0</td>\n",
       "      <td>0.0</td>\n",
       "      <td>0.0</td>\n",
       "      <td>0.0</td>\n",
       "    </tr>\n",
       "    <tr>\n",
       "      <th>36061000202</th>\n",
       "      <td>0.0</td>\n",
       "      <td>0.0</td>\n",
       "      <td>352765.0</td>\n",
       "      <td>22750.0</td>\n",
       "      <td>34515.0</td>\n",
       "      <td>0.0</td>\n",
       "      <td>568800.0</td>\n",
       "      <td>71361.0</td>\n",
       "      <td>0.0</td>\n",
       "      <td>0.0</td>\n",
       "      <td>0.0</td>\n",
       "    </tr>\n",
       "  </tbody>\n",
       "</table>\n",
       "</div>"
      ],
      "text/plain": [
       "             ld01  ld02      ld03     ld04     ld05      ld06      ld07  \\\n",
       "region_id                                                                 \n",
       "36005022102   0.0   0.0    4983.0      0.0      0.0       0.0       0.0   \n",
       "36005028900   0.0   0.0       0.0      0.0      0.0  185000.0       0.0   \n",
       "36047093400   0.0   0.0    7550.0      0.0      0.0       0.0       0.0   \n",
       "36061000201   0.0   0.0       0.0      0.0      0.0       0.0  568800.0   \n",
       "36061000202   0.0   0.0  352765.0  22750.0  34515.0       0.0  568800.0   \n",
       "\n",
       "                 ld08  ld09  ld10  ld11  \n",
       "region_id                                \n",
       "36005022102       0.0   0.0   0.0   0.0  \n",
       "36005028900       0.0   0.0   0.0   0.0  \n",
       "36047093400       0.0   0.0   0.0   0.0  \n",
       "36061000201  178466.0   0.0   0.0   0.0  \n",
       "36061000202   71361.0   0.0   0.0   0.0  "
      ]
     },
     "execution_count": 81,
     "metadata": {},
     "output_type": "execute_result"
    }
   ],
   "source": [
    "landuse.head()"
   ]
  },
  {
   "cell_type": "code",
   "execution_count": 82,
   "metadata": {},
   "outputs": [],
   "source": [
    "#landuse = landuse.set_index('region_id')\n",
    "landpct = landuse.div(landuse.sum(axis=1), axis=0)"
   ]
  },
  {
   "cell_type": "code",
   "execution_count": 83,
   "metadata": {},
   "outputs": [
    {
     "data": {
      "text/html": [
       "<div>\n",
       "<style scoped>\n",
       "    .dataframe tbody tr th:only-of-type {\n",
       "        vertical-align: middle;\n",
       "    }\n",
       "\n",
       "    .dataframe tbody tr th {\n",
       "        vertical-align: top;\n",
       "    }\n",
       "\n",
       "    .dataframe thead th {\n",
       "        text-align: right;\n",
       "    }\n",
       "</style>\n",
       "<table border=\"1\" class=\"dataframe\">\n",
       "  <thead>\n",
       "    <tr style=\"text-align: right;\">\n",
       "      <th></th>\n",
       "      <th>ld01</th>\n",
       "      <th>ld02</th>\n",
       "      <th>ld03</th>\n",
       "      <th>ld04</th>\n",
       "      <th>ld05</th>\n",
       "      <th>ld06</th>\n",
       "      <th>ld07</th>\n",
       "      <th>ld08</th>\n",
       "      <th>ld09</th>\n",
       "      <th>ld10</th>\n",
       "      <th>ld11</th>\n",
       "    </tr>\n",
       "    <tr>\n",
       "      <th>region_id</th>\n",
       "      <th></th>\n",
       "      <th></th>\n",
       "      <th></th>\n",
       "      <th></th>\n",
       "      <th></th>\n",
       "      <th></th>\n",
       "      <th></th>\n",
       "      <th></th>\n",
       "      <th></th>\n",
       "      <th></th>\n",
       "      <th></th>\n",
       "    </tr>\n",
       "  </thead>\n",
       "  <tbody>\n",
       "    <tr>\n",
       "      <th>36005022102</th>\n",
       "      <td>0.0</td>\n",
       "      <td>0.0</td>\n",
       "      <td>1.000000</td>\n",
       "      <td>0.000000</td>\n",
       "      <td>0.000000</td>\n",
       "      <td>0.0</td>\n",
       "      <td>0.000000</td>\n",
       "      <td>0.000000</td>\n",
       "      <td>0.0</td>\n",
       "      <td>0.0</td>\n",
       "      <td>0.0</td>\n",
       "    </tr>\n",
       "    <tr>\n",
       "      <th>36005028900</th>\n",
       "      <td>0.0</td>\n",
       "      <td>0.0</td>\n",
       "      <td>0.000000</td>\n",
       "      <td>0.000000</td>\n",
       "      <td>0.000000</td>\n",
       "      <td>1.0</td>\n",
       "      <td>0.000000</td>\n",
       "      <td>0.000000</td>\n",
       "      <td>0.0</td>\n",
       "      <td>0.0</td>\n",
       "      <td>0.0</td>\n",
       "    </tr>\n",
       "    <tr>\n",
       "      <th>36047093400</th>\n",
       "      <td>0.0</td>\n",
       "      <td>0.0</td>\n",
       "      <td>1.000000</td>\n",
       "      <td>0.000000</td>\n",
       "      <td>0.000000</td>\n",
       "      <td>0.0</td>\n",
       "      <td>0.000000</td>\n",
       "      <td>0.000000</td>\n",
       "      <td>0.0</td>\n",
       "      <td>0.0</td>\n",
       "      <td>0.0</td>\n",
       "    </tr>\n",
       "    <tr>\n",
       "      <th>36061000201</th>\n",
       "      <td>0.0</td>\n",
       "      <td>0.0</td>\n",
       "      <td>0.000000</td>\n",
       "      <td>0.000000</td>\n",
       "      <td>0.000000</td>\n",
       "      <td>0.0</td>\n",
       "      <td>0.761175</td>\n",
       "      <td>0.238825</td>\n",
       "      <td>0.0</td>\n",
       "      <td>0.0</td>\n",
       "      <td>0.0</td>\n",
       "    </tr>\n",
       "    <tr>\n",
       "      <th>36061000202</th>\n",
       "      <td>0.0</td>\n",
       "      <td>0.0</td>\n",
       "      <td>0.335906</td>\n",
       "      <td>0.021663</td>\n",
       "      <td>0.032865</td>\n",
       "      <td>0.0</td>\n",
       "      <td>0.541616</td>\n",
       "      <td>0.067950</td>\n",
       "      <td>0.0</td>\n",
       "      <td>0.0</td>\n",
       "      <td>0.0</td>\n",
       "    </tr>\n",
       "  </tbody>\n",
       "</table>\n",
       "</div>"
      ],
      "text/plain": [
       "             ld01  ld02      ld03      ld04      ld05  ld06      ld07  \\\n",
       "region_id                                                               \n",
       "36005022102   0.0   0.0  1.000000  0.000000  0.000000   0.0  0.000000   \n",
       "36005028900   0.0   0.0  0.000000  0.000000  0.000000   1.0  0.000000   \n",
       "36047093400   0.0   0.0  1.000000  0.000000  0.000000   0.0  0.000000   \n",
       "36061000201   0.0   0.0  0.000000  0.000000  0.000000   0.0  0.761175   \n",
       "36061000202   0.0   0.0  0.335906  0.021663  0.032865   0.0  0.541616   \n",
       "\n",
       "                 ld08  ld09  ld10  ld11  \n",
       "region_id                                \n",
       "36005022102  0.000000   0.0   0.0   0.0  \n",
       "36005028900  0.000000   0.0   0.0   0.0  \n",
       "36047093400  0.000000   0.0   0.0   0.0  \n",
       "36061000201  0.238825   0.0   0.0   0.0  \n",
       "36061000202  0.067950   0.0   0.0   0.0  "
      ]
     },
     "execution_count": 83,
     "metadata": {},
     "output_type": "execute_result"
    }
   ],
   "source": [
    "landpct.head()"
   ]
  },
  {
   "cell_type": "code",
   "execution_count": null,
   "metadata": {},
   "outputs": [],
   "source": []
  },
  {
   "cell_type": "markdown",
   "metadata": {},
   "source": [
    "standalone"
   ]
  },
  {
   "cell_type": "code",
   "execution_count": 84,
   "metadata": {},
   "outputs": [],
   "source": [
    "standalone = pd.DataFrame()"
   ]
  },
  {
   "cell_type": "code",
   "execution_count": 85,
   "metadata": {},
   "outputs": [],
   "source": [
    "test['standalone_area'] = test['standalonenum'] * test['lotarea']"
   ]
  },
  {
   "cell_type": "code",
   "execution_count": 86,
   "metadata": {},
   "outputs": [],
   "source": [
    "standalone['alonepct'] = test.groupby('region_id')['standalone_area'].sum()/test.groupby('region_id')['lotarea'].sum()"
   ]
  },
  {
   "cell_type": "code",
   "execution_count": 89,
   "metadata": {},
   "outputs": [
    {
     "data": {
      "text/html": [
       "<div>\n",
       "<style scoped>\n",
       "    .dataframe tbody tr th:only-of-type {\n",
       "        vertical-align: middle;\n",
       "    }\n",
       "\n",
       "    .dataframe tbody tr th {\n",
       "        vertical-align: top;\n",
       "    }\n",
       "\n",
       "    .dataframe thead th {\n",
       "        text-align: right;\n",
       "    }\n",
       "</style>\n",
       "<table border=\"1\" class=\"dataframe\">\n",
       "  <thead>\n",
       "    <tr style=\"text-align: right;\">\n",
       "      <th></th>\n",
       "      <th>alonepct</th>\n",
       "    </tr>\n",
       "    <tr>\n",
       "      <th>region_id</th>\n",
       "      <th></th>\n",
       "    </tr>\n",
       "  </thead>\n",
       "  <tbody>\n",
       "    <tr>\n",
       "      <th>36005022102</th>\n",
       "      <td>0.0</td>\n",
       "    </tr>\n",
       "    <tr>\n",
       "      <th>36005028900</th>\n",
       "      <td>1.0</td>\n",
       "    </tr>\n",
       "    <tr>\n",
       "      <th>36047093400</th>\n",
       "      <td>0.0</td>\n",
       "    </tr>\n",
       "  </tbody>\n",
       "</table>\n",
       "</div>"
      ],
      "text/plain": [
       "             alonepct\n",
       "region_id            \n",
       "36005022102       0.0\n",
       "36005028900       1.0\n",
       "36047093400       0.0"
      ]
     },
     "execution_count": 89,
     "metadata": {},
     "output_type": "execute_result"
    }
   ],
   "source": [
    "standalone.head(3)"
   ]
  },
  {
   "cell_type": "code",
   "execution_count": null,
   "metadata": {},
   "outputs": [],
   "source": []
  },
  {
   "cell_type": "markdown",
   "metadata": {},
   "source": [
    "tract FAR"
   ]
  },
  {
   "cell_type": "code",
   "execution_count": 90,
   "metadata": {},
   "outputs": [],
   "source": [
    "far = pd.DataFrame()"
   ]
  },
  {
   "cell_type": "code",
   "execution_count": 91,
   "metadata": {},
   "outputs": [],
   "source": [
    "far['far'] = test.groupby('region_id')['bldgarea'].sum()/test.groupby('region_id')['lotarea'].sum()"
   ]
  },
  {
   "cell_type": "code",
   "execution_count": 92,
   "metadata": {},
   "outputs": [
    {
     "data": {
      "text/html": [
       "<div>\n",
       "<style scoped>\n",
       "    .dataframe tbody tr th:only-of-type {\n",
       "        vertical-align: middle;\n",
       "    }\n",
       "\n",
       "    .dataframe tbody tr th {\n",
       "        vertical-align: top;\n",
       "    }\n",
       "\n",
       "    .dataframe thead th {\n",
       "        text-align: right;\n",
       "    }\n",
       "</style>\n",
       "<table border=\"1\" class=\"dataframe\">\n",
       "  <thead>\n",
       "    <tr style=\"text-align: right;\">\n",
       "      <th></th>\n",
       "      <th>far</th>\n",
       "    </tr>\n",
       "    <tr>\n",
       "      <th>region_id</th>\n",
       "      <th></th>\n",
       "    </tr>\n",
       "  </thead>\n",
       "  <tbody>\n",
       "    <tr>\n",
       "      <th>36005022102</th>\n",
       "      <td>8.244431</td>\n",
       "    </tr>\n",
       "    <tr>\n",
       "      <th>36005028900</th>\n",
       "      <td>1.712432</td>\n",
       "    </tr>\n",
       "    <tr>\n",
       "      <th>36047093400</th>\n",
       "      <td>6.580132</td>\n",
       "    </tr>\n",
       "  </tbody>\n",
       "</table>\n",
       "</div>"
      ],
      "text/plain": [
       "                  far\n",
       "region_id            \n",
       "36005022102  8.244431\n",
       "36005028900  1.712432\n",
       "36047093400  6.580132"
      ]
     },
     "execution_count": 92,
     "metadata": {},
     "output_type": "execute_result"
    }
   ],
   "source": [
    "far.head(3)"
   ]
  },
  {
   "cell_type": "code",
   "execution_count": null,
   "metadata": {},
   "outputs": [],
   "source": []
  },
  {
   "cell_type": "markdown",
   "metadata": {},
   "source": [
    "Volume"
   ]
  },
  {
   "cell_type": "code",
   "execution_count": 93,
   "metadata": {},
   "outputs": [],
   "source": [
    "test['shape_area'] = test['shape_area'].astype(float)"
   ]
  },
  {
   "cell_type": "code",
   "execution_count": 94,
   "metadata": {},
   "outputs": [],
   "source": [
    "test['volume'] = test['shape_area'] * test['heightroof']"
   ]
  },
  {
   "cell_type": "code",
   "execution_count": 95,
   "metadata": {},
   "outputs": [],
   "source": [
    "vol = test.groupby('region_id')['volume'].sum()"
   ]
  },
  {
   "cell_type": "code",
   "execution_count": 96,
   "metadata": {},
   "outputs": [
    {
     "data": {
      "text/plain": [
       "region_id\n",
       "36005022102    8.015595e+05\n",
       "36005028900    4.531667e+06\n",
       "36047093400    1.804140e+04\n",
       "36061000201    1.029213e+07\n",
       "36061000202    2.064477e+07\n",
       "Name: volume, dtype: float64"
      ]
     },
     "execution_count": 96,
     "metadata": {},
     "output_type": "execute_result"
    }
   ],
   "source": [
    "vol.head()"
   ]
  },
  {
   "cell_type": "code",
   "execution_count": null,
   "metadata": {},
   "outputs": [],
   "source": []
  },
  {
   "cell_type": "markdown",
   "metadata": {},
   "source": [
    "Pct\n"
   ]
  },
  {
   "cell_type": "code",
   "execution_count": 97,
   "metadata": {},
   "outputs": [],
   "source": [
    "test['resarea'] = test['resarea'].astype(float)\n",
    "test['officearea'] = test['officearea'].astype(float)\n",
    "test['retailarea'] = test['retailarea'].astype(float)\n",
    "test['factryarea'] = test['factryarea'].astype(float)\n",
    "test['strgearea'] = test['strgearea'].astype(float)"
   ]
  },
  {
   "cell_type": "code",
   "execution_count": 98,
   "metadata": {},
   "outputs": [
    {
     "data": {
      "text/html": [
       "<div>\n",
       "<style scoped>\n",
       "    .dataframe tbody tr th:only-of-type {\n",
       "        vertical-align: middle;\n",
       "    }\n",
       "\n",
       "    .dataframe tbody tr th {\n",
       "        vertical-align: top;\n",
       "    }\n",
       "\n",
       "    .dataframe thead th {\n",
       "        text-align: right;\n",
       "    }\n",
       "</style>\n",
       "<table border=\"1\" class=\"dataframe\">\n",
       "  <thead>\n",
       "    <tr style=\"text-align: right;\">\n",
       "      <th></th>\n",
       "      <th>region_id</th>\n",
       "      <th>STATEFP</th>\n",
       "      <th>COUNTYFP</th>\n",
       "      <th>TRACTCE</th>\n",
       "      <th>GEOID</th>\n",
       "      <th>NAME</th>\n",
       "      <th>NAMELSAD</th>\n",
       "      <th>MTFCC</th>\n",
       "      <th>FUNCSTAT</th>\n",
       "      <th>ALAND</th>\n",
       "      <th>...</th>\n",
       "      <th>natural_gas_use_kbtu</th>\n",
       "      <th>occupancy</th>\n",
       "      <th>shape_area</th>\n",
       "      <th>heightroof</th>\n",
       "      <th>groundelev</th>\n",
       "      <th>shape_len</th>\n",
       "      <th>standalone</th>\n",
       "      <th>standalonenum</th>\n",
       "      <th>standalone_area</th>\n",
       "      <th>volume</th>\n",
       "    </tr>\n",
       "  </thead>\n",
       "  <tbody>\n",
       "    <tr>\n",
       "      <th>518</th>\n",
       "      <td>36061011202</td>\n",
       "      <td>36</td>\n",
       "      <td>61</td>\n",
       "      <td>11202</td>\n",
       "      <td>36061011202</td>\n",
       "      <td>112.02</td>\n",
       "      <td>Census Tract 112.02</td>\n",
       "      <td>G5020</td>\n",
       "      <td>S</td>\n",
       "      <td>78008</td>\n",
       "      <td>...</td>\n",
       "      <td></td>\n",
       "      <td>100</td>\n",
       "      <td>19432.982178</td>\n",
       "      <td>285.47</td>\n",
       "      <td>50.0</td>\n",
       "      <td>667.41256539481</td>\n",
       "      <td>False</td>\n",
       "      <td>0</td>\n",
       "      <td>0.0</td>\n",
       "      <td>5.547533e+06</td>\n",
       "    </tr>\n",
       "    <tr>\n",
       "      <th>518</th>\n",
       "      <td>36061011202</td>\n",
       "      <td>36</td>\n",
       "      <td>61</td>\n",
       "      <td>11202</td>\n",
       "      <td>36061011202</td>\n",
       "      <td>112.02</td>\n",
       "      <td>Census Tract 112.02</td>\n",
       "      <td>G5020</td>\n",
       "      <td>S</td>\n",
       "      <td>78008</td>\n",
       "      <td>...</td>\n",
       "      <td></td>\n",
       "      <td>100</td>\n",
       "      <td>5260.029885</td>\n",
       "      <td>262.29</td>\n",
       "      <td>49.0</td>\n",
       "      <td>307.91553975476</td>\n",
       "      <td>False</td>\n",
       "      <td>0</td>\n",
       "      <td>0.0</td>\n",
       "      <td>1.379653e+06</td>\n",
       "    </tr>\n",
       "    <tr>\n",
       "      <th>518</th>\n",
       "      <td>36061011202</td>\n",
       "      <td>36</td>\n",
       "      <td>61</td>\n",
       "      <td>11202</td>\n",
       "      <td>36061011202</td>\n",
       "      <td>112.02</td>\n",
       "      <td>Census Tract 112.02</td>\n",
       "      <td>G5020</td>\n",
       "      <td>S</td>\n",
       "      <td>78008</td>\n",
       "      <td>...</td>\n",
       "      <td></td>\n",
       "      <td>95</td>\n",
       "      <td>13315.457995</td>\n",
       "      <td>274.09</td>\n",
       "      <td>46.0</td>\n",
       "      <td>485.42150448012</td>\n",
       "      <td>False</td>\n",
       "      <td>0</td>\n",
       "      <td>0.0</td>\n",
       "      <td>3.649634e+06</td>\n",
       "    </tr>\n",
       "    <tr>\n",
       "      <th>518</th>\n",
       "      <td>36061011202</td>\n",
       "      <td>36</td>\n",
       "      <td>61</td>\n",
       "      <td>11202</td>\n",
       "      <td>36061011202</td>\n",
       "      <td>112.02</td>\n",
       "      <td>Census Tract 112.02</td>\n",
       "      <td>G5020</td>\n",
       "      <td>S</td>\n",
       "      <td>78008</td>\n",
       "      <td>...</td>\n",
       "      <td></td>\n",
       "      <td>100</td>\n",
       "      <td>34355.594797</td>\n",
       "      <td>584.86</td>\n",
       "      <td>51.0</td>\n",
       "      <td>775.46029794089</td>\n",
       "      <td>False</td>\n",
       "      <td>0</td>\n",
       "      <td>0.0</td>\n",
       "      <td>2.009321e+07</td>\n",
       "    </tr>\n",
       "    <tr>\n",
       "      <th>518</th>\n",
       "      <td>36061011202</td>\n",
       "      <td>36</td>\n",
       "      <td>61</td>\n",
       "      <td>11202</td>\n",
       "      <td>36061011202</td>\n",
       "      <td>112.02</td>\n",
       "      <td>Census Tract 112.02</td>\n",
       "      <td>G5020</td>\n",
       "      <td>S</td>\n",
       "      <td>78008</td>\n",
       "      <td>...</td>\n",
       "      <td></td>\n",
       "      <td>100</td>\n",
       "      <td>5203.435963</td>\n",
       "      <td>110.94</td>\n",
       "      <td>53.0</td>\n",
       "      <td>301.66951959363</td>\n",
       "      <td>False</td>\n",
       "      <td>0</td>\n",
       "      <td>0.0</td>\n",
       "      <td>5.772692e+05</td>\n",
       "    </tr>\n",
       "  </tbody>\n",
       "</table>\n",
       "<p>5 rows × 57 columns</p>\n",
       "</div>"
      ],
      "text/plain": [
       "       region_id  STATEFP  COUNTYFP  TRACTCE        GEOID    NAME  \\\n",
       "518  36061011202       36        61    11202  36061011202  112.02   \n",
       "518  36061011202       36        61    11202  36061011202  112.02   \n",
       "518  36061011202       36        61    11202  36061011202  112.02   \n",
       "518  36061011202       36        61    11202  36061011202  112.02   \n",
       "518  36061011202       36        61    11202  36061011202  112.02   \n",
       "\n",
       "                NAMELSAD  MTFCC FUNCSTAT  ALAND  ...  natural_gas_use_kbtu  \\\n",
       "518  Census Tract 112.02  G5020        S  78008  ...                         \n",
       "518  Census Tract 112.02  G5020        S  78008  ...                         \n",
       "518  Census Tract 112.02  G5020        S  78008  ...                         \n",
       "518  Census Tract 112.02  G5020        S  78008  ...                         \n",
       "518  Census Tract 112.02  G5020        S  78008  ...                         \n",
       "\n",
       "     occupancy    shape_area heightroof  groundelev        shape_len  \\\n",
       "518        100  19432.982178     285.47        50.0  667.41256539481   \n",
       "518        100   5260.029885     262.29        49.0  307.91553975476   \n",
       "518         95  13315.457995     274.09        46.0  485.42150448012   \n",
       "518        100  34355.594797     584.86        51.0  775.46029794089   \n",
       "518        100   5203.435963     110.94        53.0  301.66951959363   \n",
       "\n",
       "     standalone  standalonenum standalone_area        volume  \n",
       "518       False              0             0.0  5.547533e+06  \n",
       "518       False              0             0.0  1.379653e+06  \n",
       "518       False              0             0.0  3.649634e+06  \n",
       "518       False              0             0.0  2.009321e+07  \n",
       "518       False              0             0.0  5.772692e+05  \n",
       "\n",
       "[5 rows x 57 columns]"
      ]
     },
     "execution_count": 98,
     "metadata": {},
     "output_type": "execute_result"
    }
   ],
   "source": [
    "test.head(5)"
   ]
  },
  {
   "cell_type": "code",
   "execution_count": 99,
   "metadata": {},
   "outputs": [],
   "source": [
    "pct = pd.DataFrame()"
   ]
  },
  {
   "cell_type": "code",
   "execution_count": 100,
   "metadata": {},
   "outputs": [],
   "source": [
    "pct['respct'] = test.groupby('region_id')['resarea'].sum()/test.groupby('region_id')['bldgarea'].sum()\n",
    "pct['offpct'] = test.groupby('region_id')['officearea'].sum()/test.groupby('region_id')['bldgarea'].sum()\n",
    "pct['retpct'] = test.groupby('region_id')['retailarea'].sum()/test.groupby('region_id')['bldgarea'].sum()\n",
    "pct['facpct'] = test.groupby('region_id')['factryarea'].sum()/test.groupby('region_id')['bldgarea'].sum()\n",
    "pct['strpct'] = test.groupby('region_id')['strgearea'].sum()/test.groupby('region_id')['bldgarea'].sum()"
   ]
  },
  {
   "cell_type": "code",
   "execution_count": 101,
   "metadata": {},
   "outputs": [
    {
     "data": {
      "text/html": [
       "<div>\n",
       "<style scoped>\n",
       "    .dataframe tbody tr th:only-of-type {\n",
       "        vertical-align: middle;\n",
       "    }\n",
       "\n",
       "    .dataframe tbody tr th {\n",
       "        vertical-align: top;\n",
       "    }\n",
       "\n",
       "    .dataframe thead th {\n",
       "        text-align: right;\n",
       "    }\n",
       "</style>\n",
       "<table border=\"1\" class=\"dataframe\">\n",
       "  <thead>\n",
       "    <tr style=\"text-align: right;\">\n",
       "      <th></th>\n",
       "      <th>respct</th>\n",
       "      <th>offpct</th>\n",
       "      <th>retpct</th>\n",
       "      <th>facpct</th>\n",
       "      <th>strpct</th>\n",
       "    </tr>\n",
       "    <tr>\n",
       "      <th>region_id</th>\n",
       "      <th></th>\n",
       "      <th></th>\n",
       "      <th></th>\n",
       "      <th></th>\n",
       "      <th></th>\n",
       "    </tr>\n",
       "  </thead>\n",
       "  <tbody>\n",
       "    <tr>\n",
       "      <th>36005022102</th>\n",
       "      <td>1.000000</td>\n",
       "      <td>0.000000</td>\n",
       "      <td>0.000000</td>\n",
       "      <td>0.0</td>\n",
       "      <td>0.000000</td>\n",
       "    </tr>\n",
       "    <tr>\n",
       "      <th>36005028900</th>\n",
       "      <td>0.000000</td>\n",
       "      <td>0.000000</td>\n",
       "      <td>0.005682</td>\n",
       "      <td>0.0</td>\n",
       "      <td>0.994318</td>\n",
       "    </tr>\n",
       "    <tr>\n",
       "      <th>36047093400</th>\n",
       "      <td>1.000000</td>\n",
       "      <td>0.000000</td>\n",
       "      <td>0.000000</td>\n",
       "      <td>0.0</td>\n",
       "      <td>0.000000</td>\n",
       "    </tr>\n",
       "    <tr>\n",
       "      <th>36061000201</th>\n",
       "      <td>0.000000</td>\n",
       "      <td>0.000000</td>\n",
       "      <td>0.000000</td>\n",
       "      <td>0.0</td>\n",
       "      <td>0.000000</td>\n",
       "    </tr>\n",
       "    <tr>\n",
       "      <th>36061000202</th>\n",
       "      <td>0.655314</td>\n",
       "      <td>0.010778</td>\n",
       "      <td>0.023757</td>\n",
       "      <td>0.0</td>\n",
       "      <td>0.000000</td>\n",
       "    </tr>\n",
       "    <tr>\n",
       "      <th>36061000600</th>\n",
       "      <td>0.348652</td>\n",
       "      <td>0.002078</td>\n",
       "      <td>0.009456</td>\n",
       "      <td>0.0</td>\n",
       "      <td>0.000255</td>\n",
       "    </tr>\n",
       "    <tr>\n",
       "      <th>36061000700</th>\n",
       "      <td>0.261048</td>\n",
       "      <td>0.644106</td>\n",
       "      <td>0.026864</td>\n",
       "      <td>0.0</td>\n",
       "      <td>0.014710</td>\n",
       "    </tr>\n",
       "    <tr>\n",
       "      <th>36061000800</th>\n",
       "      <td>0.702616</td>\n",
       "      <td>0.023114</td>\n",
       "      <td>0.041920</td>\n",
       "      <td>0.0</td>\n",
       "      <td>0.121130</td>\n",
       "    </tr>\n",
       "    <tr>\n",
       "      <th>36061000900</th>\n",
       "      <td>0.036028</td>\n",
       "      <td>0.895791</td>\n",
       "      <td>0.018778</td>\n",
       "      <td>0.0</td>\n",
       "      <td>0.002063</td>\n",
       "    </tr>\n",
       "    <tr>\n",
       "      <th>36061001002</th>\n",
       "      <td>0.000000</td>\n",
       "      <td>0.000000</td>\n",
       "      <td>0.000000</td>\n",
       "      <td>0.0</td>\n",
       "      <td>0.000000</td>\n",
       "    </tr>\n",
       "  </tbody>\n",
       "</table>\n",
       "</div>"
      ],
      "text/plain": [
       "               respct    offpct    retpct  facpct    strpct\n",
       "region_id                                                  \n",
       "36005022102  1.000000  0.000000  0.000000     0.0  0.000000\n",
       "36005028900  0.000000  0.000000  0.005682     0.0  0.994318\n",
       "36047093400  1.000000  0.000000  0.000000     0.0  0.000000\n",
       "36061000201  0.000000  0.000000  0.000000     0.0  0.000000\n",
       "36061000202  0.655314  0.010778  0.023757     0.0  0.000000\n",
       "36061000600  0.348652  0.002078  0.009456     0.0  0.000255\n",
       "36061000700  0.261048  0.644106  0.026864     0.0  0.014710\n",
       "36061000800  0.702616  0.023114  0.041920     0.0  0.121130\n",
       "36061000900  0.036028  0.895791  0.018778     0.0  0.002063\n",
       "36061001002  0.000000  0.000000  0.000000     0.0  0.000000"
      ]
     },
     "execution_count": 101,
     "metadata": {},
     "output_type": "execute_result"
    }
   ],
   "source": [
    "pct.head(10)"
   ]
  },
  {
   "cell_type": "code",
   "execution_count": 102,
   "metadata": {},
   "outputs": [],
   "source": [
    "pct.fillna({'respct':0, 'offpct':0, 'retpct':0, 'facpct':0, 'strpct':0}, inplace=True)"
   ]
  },
  {
   "cell_type": "code",
   "execution_count": null,
   "metadata": {},
   "outputs": [],
   "source": []
  },
  {
   "cell_type": "code",
   "execution_count": null,
   "metadata": {},
   "outputs": [],
   "source": []
  },
  {
   "cell_type": "markdown",
   "metadata": {},
   "source": [
    "Assess Value"
   ]
  },
  {
   "cell_type": "code",
   "execution_count": 200,
   "metadata": {},
   "outputs": [],
   "source": [
    "assland = pd.DataFrame()\n"
   ]
  },
  {
   "cell_type": "code",
   "execution_count": 201,
   "metadata": {},
   "outputs": [],
   "source": [
    "assland['assessland'] = test.groupby('region_id')['assessland'].sum()/test.groupby('region_id')['lotarea'].sum()"
   ]
  },
  {
   "cell_type": "code",
   "execution_count": 202,
   "metadata": {},
   "outputs": [],
   "source": [
    "assland['assesstot'] = test.groupby('region_id')['assesstot'].sum()/test.groupby('region_id')['lotarea'].sum()"
   ]
  },
  {
   "cell_type": "code",
   "execution_count": 204,
   "metadata": {},
   "outputs": [
    {
     "data": {
      "text/html": [
       "<div>\n",
       "<style scoped>\n",
       "    .dataframe tbody tr th:only-of-type {\n",
       "        vertical-align: middle;\n",
       "    }\n",
       "\n",
       "    .dataframe tbody tr th {\n",
       "        vertical-align: top;\n",
       "    }\n",
       "\n",
       "    .dataframe thead th {\n",
       "        text-align: right;\n",
       "    }\n",
       "</style>\n",
       "<table border=\"1\" class=\"dataframe\">\n",
       "  <thead>\n",
       "    <tr style=\"text-align: right;\">\n",
       "      <th></th>\n",
       "      <th>assessland</th>\n",
       "      <th>assesstot</th>\n",
       "    </tr>\n",
       "    <tr>\n",
       "      <th>region_id</th>\n",
       "      <th></th>\n",
       "      <th></th>\n",
       "    </tr>\n",
       "  </thead>\n",
       "  <tbody>\n",
       "    <tr>\n",
       "      <th>36005022102</th>\n",
       "      <td>12.010837</td>\n",
       "      <td>353.732691</td>\n",
       "    </tr>\n",
       "    <tr>\n",
       "      <th>36005028900</th>\n",
       "      <td>13.378378</td>\n",
       "      <td>76.118108</td>\n",
       "    </tr>\n",
       "    <tr>\n",
       "      <th>36047093400</th>\n",
       "      <td>203.841060</td>\n",
       "      <td>440.642384</td>\n",
       "    </tr>\n",
       "    <tr>\n",
       "      <th>36061000201</th>\n",
       "      <td>19.926639</td>\n",
       "      <td>69.719150</td>\n",
       "    </tr>\n",
       "    <tr>\n",
       "      <th>36061000202</th>\n",
       "      <td>27.117210</td>\n",
       "      <td>93.806650</td>\n",
       "    </tr>\n",
       "  </tbody>\n",
       "</table>\n",
       "</div>"
      ],
      "text/plain": [
       "             assessland   assesstot\n",
       "region_id                          \n",
       "36005022102   12.010837  353.732691\n",
       "36005028900   13.378378   76.118108\n",
       "36047093400  203.841060  440.642384\n",
       "36061000201   19.926639   69.719150\n",
       "36061000202   27.117210   93.806650"
      ]
     },
     "execution_count": 204,
     "metadata": {},
     "output_type": "execute_result"
    }
   ],
   "source": [
    "assland.head()"
   ]
  },
  {
   "cell_type": "code",
   "execution_count": 205,
   "metadata": {},
   "outputs": [
    {
     "data": {
      "text/plain": [
       "(285, 2)"
      ]
     },
     "execution_count": 205,
     "metadata": {},
     "output_type": "execute_result"
    }
   ],
   "source": [
    "assland.shape"
   ]
  },
  {
   "cell_type": "markdown",
   "metadata": {},
   "source": [
    "Emission"
   ]
  },
  {
   "cell_type": "code",
   "execution_count": 117,
   "metadata": {},
   "outputs": [],
   "source": [
    "test.fillna({'total_ghg_emissions_metric':0, 'direct_ghg_emissions_metric':0}, inplace=True)"
   ]
  },
  {
   "cell_type": "code",
   "execution_count": 118,
   "metadata": {},
   "outputs": [],
   "source": [
    "test.dropna(inplace=True)"
   ]
  },
  {
   "cell_type": "code",
   "execution_count": 119,
   "metadata": {},
   "outputs": [
    {
     "data": {
      "text/plain": [
       "(8874, 57)"
      ]
     },
     "execution_count": 119,
     "metadata": {},
     "output_type": "execute_result"
    }
   ],
   "source": [
    "test.shape"
   ]
  },
  {
   "cell_type": "code",
   "execution_count": 127,
   "metadata": {},
   "outputs": [],
   "source": [
    "import re"
   ]
  },
  {
   "cell_type": "code",
   "execution_count": 138,
   "metadata": {},
   "outputs": [],
   "source": [
    "total_list = test['total_ghg_emissions_metric'].values.tolist()"
   ]
  },
  {
   "cell_type": "code",
   "execution_count": 139,
   "metadata": {},
   "outputs": [],
   "source": [
    "direct_list = test['direct_ghg_emissions_metric'].values.tolist()"
   ]
  },
  {
   "cell_type": "code",
   "execution_count": 149,
   "metadata": {},
   "outputs": [],
   "source": [
    "region = test['region_id'].values.tolist()"
   ]
  },
  {
   "cell_type": "code",
   "execution_count": 168,
   "metadata": {},
   "outputs": [],
   "source": [
    "Lt = []\n",
    "Ld = []\n",
    "for x in total_list:\n",
    "    try:\n",
    "        Lt.append(float(x))\n",
    "    except:\n",
    "        Lt.append(0)\n",
    "for y in direct_list:\n",
    "    try:\n",
    "        Ld.append(float(y))\n",
    "    except:\n",
    "        Ld.append(0)"
   ]
  },
  {
   "cell_type": "code",
   "execution_count": 170,
   "metadata": {},
   "outputs": [],
   "source": [
    "emis = pd.DataFrame(list(zip(region, Lt, Ld)), columns = ['region_id','totalemission','directemission'])"
   ]
  },
  {
   "cell_type": "code",
   "execution_count": 171,
   "metadata": {},
   "outputs": [
    {
     "data": {
      "text/html": [
       "<div>\n",
       "<style scoped>\n",
       "    .dataframe tbody tr th:only-of-type {\n",
       "        vertical-align: middle;\n",
       "    }\n",
       "\n",
       "    .dataframe tbody tr th {\n",
       "        vertical-align: top;\n",
       "    }\n",
       "\n",
       "    .dataframe thead th {\n",
       "        text-align: right;\n",
       "    }\n",
       "</style>\n",
       "<table border=\"1\" class=\"dataframe\">\n",
       "  <thead>\n",
       "    <tr style=\"text-align: right;\">\n",
       "      <th></th>\n",
       "      <th>region_id</th>\n",
       "      <th>totalemission</th>\n",
       "      <th>directemission</th>\n",
       "    </tr>\n",
       "  </thead>\n",
       "  <tbody>\n",
       "    <tr>\n",
       "      <th>0</th>\n",
       "      <td>36061011202</td>\n",
       "      <td>2781.8</td>\n",
       "      <td>0.0</td>\n",
       "    </tr>\n",
       "    <tr>\n",
       "      <th>1</th>\n",
       "      <td>36061011202</td>\n",
       "      <td>228.1</td>\n",
       "      <td>0.0</td>\n",
       "    </tr>\n",
       "    <tr>\n",
       "      <th>2</th>\n",
       "      <td>36061011202</td>\n",
       "      <td>2253.6</td>\n",
       "      <td>0.0</td>\n",
       "    </tr>\n",
       "    <tr>\n",
       "      <th>3</th>\n",
       "      <td>36061011202</td>\n",
       "      <td>1923.4</td>\n",
       "      <td>0.0</td>\n",
       "    </tr>\n",
       "    <tr>\n",
       "      <th>4</th>\n",
       "      <td>36061011202</td>\n",
       "      <td>0.0</td>\n",
       "      <td>0.0</td>\n",
       "    </tr>\n",
       "    <tr>\n",
       "      <th>5</th>\n",
       "      <td>36061011202</td>\n",
       "      <td>262.3</td>\n",
       "      <td>34.8</td>\n",
       "    </tr>\n",
       "  </tbody>\n",
       "</table>\n",
       "</div>"
      ],
      "text/plain": [
       "     region_id  totalemission  directemission\n",
       "0  36061011202         2781.8             0.0\n",
       "1  36061011202          228.1             0.0\n",
       "2  36061011202         2253.6             0.0\n",
       "3  36061011202         1923.4             0.0\n",
       "4  36061011202            0.0             0.0\n",
       "5  36061011202          262.3            34.8"
      ]
     },
     "execution_count": 171,
     "metadata": {},
     "output_type": "execute_result"
    }
   ],
   "source": [
    "emis.head(6)"
   ]
  },
  {
   "cell_type": "code",
   "execution_count": 172,
   "metadata": {},
   "outputs": [
    {
     "data": {
      "text/plain": [
       "(8874, 3)"
      ]
     },
     "execution_count": 172,
     "metadata": {},
     "output_type": "execute_result"
    }
   ],
   "source": [
    "emis.shape"
   ]
  },
  {
   "cell_type": "code",
   "execution_count": 173,
   "metadata": {},
   "outputs": [],
   "source": [
    "emis.dropna(inplace=True)"
   ]
  },
  {
   "cell_type": "code",
   "execution_count": null,
   "metadata": {},
   "outputs": [],
   "source": []
  },
  {
   "cell_type": "code",
   "execution_count": null,
   "metadata": {},
   "outputs": [],
   "source": []
  },
  {
   "cell_type": "code",
   "execution_count": null,
   "metadata": {},
   "outputs": [],
   "source": []
  },
  {
   "cell_type": "code",
   "execution_count": 175,
   "metadata": {},
   "outputs": [],
   "source": [
    "emission = emis.groupby('region_id').agg({'totalemission':'sum'})"
   ]
  },
  {
   "cell_type": "code",
   "execution_count": 174,
   "metadata": {},
   "outputs": [],
   "source": [
    "demission = emis.groupby('region_id').agg({'directemission':'sum'})"
   ]
  },
  {
   "cell_type": "code",
   "execution_count": 252,
   "metadata": {},
   "outputs": [],
   "source": [
    "#emission = emission.reset_index()\n"
   ]
  },
  {
   "cell_type": "code",
   "execution_count": 256,
   "metadata": {},
   "outputs": [],
   "source": [
    "#demission = demission.reset_index()"
   ]
  },
  {
   "cell_type": "code",
   "execution_count": 282,
   "metadata": {},
   "outputs": [],
   "source": [
    "#emission['region_id'] = emission['region_id'].astype(str)\n",
    "#demission['region_id'] = demission['region_id'].astype(str)"
   ]
  },
  {
   "cell_type": "code",
   "execution_count": 176,
   "metadata": {},
   "outputs": [
    {
     "data": {
      "text/html": [
       "<div>\n",
       "<style scoped>\n",
       "    .dataframe tbody tr th:only-of-type {\n",
       "        vertical-align: middle;\n",
       "    }\n",
       "\n",
       "    .dataframe tbody tr th {\n",
       "        vertical-align: top;\n",
       "    }\n",
       "\n",
       "    .dataframe thead th {\n",
       "        text-align: right;\n",
       "    }\n",
       "</style>\n",
       "<table border=\"1\" class=\"dataframe\">\n",
       "  <thead>\n",
       "    <tr style=\"text-align: right;\">\n",
       "      <th></th>\n",
       "      <th>totalemission</th>\n",
       "    </tr>\n",
       "    <tr>\n",
       "      <th>region_id</th>\n",
       "      <th></th>\n",
       "    </tr>\n",
       "  </thead>\n",
       "  <tbody>\n",
       "    <tr>\n",
       "      <th>36005022102</th>\n",
       "      <td>0.0</td>\n",
       "    </tr>\n",
       "    <tr>\n",
       "      <th>36005028900</th>\n",
       "      <td>514.8</td>\n",
       "    </tr>\n",
       "    <tr>\n",
       "      <th>36047093400</th>\n",
       "      <td>224.2</td>\n",
       "    </tr>\n",
       "    <tr>\n",
       "      <th>36061000201</th>\n",
       "      <td>2178.8</td>\n",
       "    </tr>\n",
       "    <tr>\n",
       "      <th>36061000202</th>\n",
       "      <td>9633.6</td>\n",
       "    </tr>\n",
       "  </tbody>\n",
       "</table>\n",
       "</div>"
      ],
      "text/plain": [
       "             totalemission\n",
       "region_id                 \n",
       "36005022102            0.0\n",
       "36005028900          514.8\n",
       "36047093400          224.2\n",
       "36061000201         2178.8\n",
       "36061000202         9633.6"
      ]
     },
     "execution_count": 176,
     "metadata": {},
     "output_type": "execute_result"
    }
   ],
   "source": [
    "emission.head()"
   ]
  },
  {
   "cell_type": "code",
   "execution_count": 177,
   "metadata": {},
   "outputs": [
    {
     "data": {
      "text/plain": [
       "(285, 1)"
      ]
     },
     "execution_count": 177,
     "metadata": {},
     "output_type": "execute_result"
    }
   ],
   "source": [
    "emission.shape"
   ]
  },
  {
   "cell_type": "code",
   "execution_count": null,
   "metadata": {},
   "outputs": [],
   "source": []
  },
  {
   "cell_type": "markdown",
   "metadata": {},
   "source": [
    "Data Merging\n"
   ]
  },
  {
   "cell_type": "code",
   "execution_count": 206,
   "metadata": {},
   "outputs": [],
   "source": [
    "temp1 = pd.concat([height,elev,landuse,standalone,far,vol,assland,pct,emission,demission], axis=1)"
   ]
  },
  {
   "cell_type": "code",
   "execution_count": 207,
   "metadata": {},
   "outputs": [
    {
     "data": {
      "text/html": [
       "<div>\n",
       "<style scoped>\n",
       "    .dataframe tbody tr th:only-of-type {\n",
       "        vertical-align: middle;\n",
       "    }\n",
       "\n",
       "    .dataframe tbody tr th {\n",
       "        vertical-align: top;\n",
       "    }\n",
       "\n",
       "    .dataframe thead th {\n",
       "        text-align: right;\n",
       "    }\n",
       "</style>\n",
       "<table border=\"1\" class=\"dataframe\">\n",
       "  <thead>\n",
       "    <tr style=\"text-align: right;\">\n",
       "      <th></th>\n",
       "      <th>heightroof</th>\n",
       "      <th>groundelev</th>\n",
       "      <th>ld01</th>\n",
       "      <th>ld02</th>\n",
       "      <th>ld03</th>\n",
       "      <th>ld04</th>\n",
       "      <th>ld05</th>\n",
       "      <th>ld06</th>\n",
       "      <th>ld07</th>\n",
       "      <th>ld08</th>\n",
       "      <th>...</th>\n",
       "      <th>volume</th>\n",
       "      <th>assessland</th>\n",
       "      <th>assesstot</th>\n",
       "      <th>respct</th>\n",
       "      <th>offpct</th>\n",
       "      <th>retpct</th>\n",
       "      <th>facpct</th>\n",
       "      <th>strpct</th>\n",
       "      <th>totalemission</th>\n",
       "      <th>directemission</th>\n",
       "    </tr>\n",
       "    <tr>\n",
       "      <th>region_id</th>\n",
       "      <th></th>\n",
       "      <th></th>\n",
       "      <th></th>\n",
       "      <th></th>\n",
       "      <th></th>\n",
       "      <th></th>\n",
       "      <th></th>\n",
       "      <th></th>\n",
       "      <th></th>\n",
       "      <th></th>\n",
       "      <th></th>\n",
       "      <th></th>\n",
       "      <th></th>\n",
       "      <th></th>\n",
       "      <th></th>\n",
       "      <th></th>\n",
       "      <th></th>\n",
       "      <th></th>\n",
       "      <th></th>\n",
       "      <th></th>\n",
       "      <th></th>\n",
       "    </tr>\n",
       "  </thead>\n",
       "  <tbody>\n",
       "    <tr>\n",
       "      <th>36005022102</th>\n",
       "      <td>72.280000</td>\n",
       "      <td>95.000000</td>\n",
       "      <td>0.0</td>\n",
       "      <td>0.0</td>\n",
       "      <td>4983.0</td>\n",
       "      <td>0.0</td>\n",
       "      <td>0.0</td>\n",
       "      <td>0.0</td>\n",
       "      <td>0.0</td>\n",
       "      <td>0.0</td>\n",
       "      <td>...</td>\n",
       "      <td>8.015595e+05</td>\n",
       "      <td>12.010837</td>\n",
       "      <td>353.732691</td>\n",
       "      <td>1.000000</td>\n",
       "      <td>0.000000</td>\n",
       "      <td>0.000000</td>\n",
       "      <td>0.0</td>\n",
       "      <td>0.000000</td>\n",
       "      <td>0.0</td>\n",
       "      <td>0.0</td>\n",
       "    </tr>\n",
       "    <tr>\n",
       "      <th>36005028900</th>\n",
       "      <td>88.653462</td>\n",
       "      <td>11.000000</td>\n",
       "      <td>0.0</td>\n",
       "      <td>0.0</td>\n",
       "      <td>0.0</td>\n",
       "      <td>0.0</td>\n",
       "      <td>0.0</td>\n",
       "      <td>185000.0</td>\n",
       "      <td>0.0</td>\n",
       "      <td>0.0</td>\n",
       "      <td>...</td>\n",
       "      <td>4.531667e+06</td>\n",
       "      <td>13.378378</td>\n",
       "      <td>76.118108</td>\n",
       "      <td>0.000000</td>\n",
       "      <td>0.000000</td>\n",
       "      <td>0.005682</td>\n",
       "      <td>0.0</td>\n",
       "      <td>0.994318</td>\n",
       "      <td>514.8</td>\n",
       "      <td>177.7</td>\n",
       "    </tr>\n",
       "    <tr>\n",
       "      <th>36047093400</th>\n",
       "      <td>18.200000</td>\n",
       "      <td>27.000000</td>\n",
       "      <td>0.0</td>\n",
       "      <td>0.0</td>\n",
       "      <td>7550.0</td>\n",
       "      <td>0.0</td>\n",
       "      <td>0.0</td>\n",
       "      <td>0.0</td>\n",
       "      <td>0.0</td>\n",
       "      <td>0.0</td>\n",
       "      <td>...</td>\n",
       "      <td>1.804140e+04</td>\n",
       "      <td>203.841060</td>\n",
       "      <td>440.642384</td>\n",
       "      <td>1.000000</td>\n",
       "      <td>0.000000</td>\n",
       "      <td>0.000000</td>\n",
       "      <td>0.0</td>\n",
       "      <td>0.000000</td>\n",
       "      <td>224.2</td>\n",
       "      <td>136.1</td>\n",
       "    </tr>\n",
       "    <tr>\n",
       "      <th>36061000201</th>\n",
       "      <td>44.240000</td>\n",
       "      <td>19.333333</td>\n",
       "      <td>0.0</td>\n",
       "      <td>0.0</td>\n",
       "      <td>0.0</td>\n",
       "      <td>0.0</td>\n",
       "      <td>0.0</td>\n",
       "      <td>0.0</td>\n",
       "      <td>568800.0</td>\n",
       "      <td>178466.0</td>\n",
       "      <td>...</td>\n",
       "      <td>1.029213e+07</td>\n",
       "      <td>19.926639</td>\n",
       "      <td>69.719150</td>\n",
       "      <td>0.000000</td>\n",
       "      <td>0.000000</td>\n",
       "      <td>0.000000</td>\n",
       "      <td>0.0</td>\n",
       "      <td>0.000000</td>\n",
       "      <td>2178.8</td>\n",
       "      <td>978.0</td>\n",
       "    </tr>\n",
       "    <tr>\n",
       "      <th>36061000202</th>\n",
       "      <td>118.234759</td>\n",
       "      <td>21.285714</td>\n",
       "      <td>0.0</td>\n",
       "      <td>0.0</td>\n",
       "      <td>352765.0</td>\n",
       "      <td>22750.0</td>\n",
       "      <td>34515.0</td>\n",
       "      <td>0.0</td>\n",
       "      <td>568800.0</td>\n",
       "      <td>71361.0</td>\n",
       "      <td>...</td>\n",
       "      <td>2.064477e+07</td>\n",
       "      <td>27.117210</td>\n",
       "      <td>93.806650</td>\n",
       "      <td>0.655314</td>\n",
       "      <td>0.010778</td>\n",
       "      <td>0.023757</td>\n",
       "      <td>0.0</td>\n",
       "      <td>0.000000</td>\n",
       "      <td>9633.6</td>\n",
       "      <td>2148.1</td>\n",
       "    </tr>\n",
       "  </tbody>\n",
       "</table>\n",
       "<p>5 rows × 25 columns</p>\n",
       "</div>"
      ],
      "text/plain": [
       "             heightroof  groundelev  ld01  ld02      ld03     ld04     ld05  \\\n",
       "region_id                                                                     \n",
       "36005022102   72.280000   95.000000   0.0   0.0    4983.0      0.0      0.0   \n",
       "36005028900   88.653462   11.000000   0.0   0.0       0.0      0.0      0.0   \n",
       "36047093400   18.200000   27.000000   0.0   0.0    7550.0      0.0      0.0   \n",
       "36061000201   44.240000   19.333333   0.0   0.0       0.0      0.0      0.0   \n",
       "36061000202  118.234759   21.285714   0.0   0.0  352765.0  22750.0  34515.0   \n",
       "\n",
       "                 ld06      ld07      ld08  ...        volume  assessland  \\\n",
       "region_id                                  ...                             \n",
       "36005022102       0.0       0.0       0.0  ...  8.015595e+05   12.010837   \n",
       "36005028900  185000.0       0.0       0.0  ...  4.531667e+06   13.378378   \n",
       "36047093400       0.0       0.0       0.0  ...  1.804140e+04  203.841060   \n",
       "36061000201       0.0  568800.0  178466.0  ...  1.029213e+07   19.926639   \n",
       "36061000202       0.0  568800.0   71361.0  ...  2.064477e+07   27.117210   \n",
       "\n",
       "              assesstot    respct    offpct    retpct  facpct    strpct  \\\n",
       "region_id                                                                 \n",
       "36005022102  353.732691  1.000000  0.000000  0.000000     0.0  0.000000   \n",
       "36005028900   76.118108  0.000000  0.000000  0.005682     0.0  0.994318   \n",
       "36047093400  440.642384  1.000000  0.000000  0.000000     0.0  0.000000   \n",
       "36061000201   69.719150  0.000000  0.000000  0.000000     0.0  0.000000   \n",
       "36061000202   93.806650  0.655314  0.010778  0.023757     0.0  0.000000   \n",
       "\n",
       "             totalemission  directemission  \n",
       "region_id                                   \n",
       "36005022102            0.0             0.0  \n",
       "36005028900          514.8           177.7  \n",
       "36047093400          224.2           136.1  \n",
       "36061000201         2178.8           978.0  \n",
       "36061000202         9633.6          2148.1  \n",
       "\n",
       "[5 rows x 25 columns]"
      ]
     },
     "execution_count": 207,
     "metadata": {},
     "output_type": "execute_result"
    }
   ],
   "source": [
    "temp1.head()"
   ]
  },
  {
   "cell_type": "code",
   "execution_count": 208,
   "metadata": {},
   "outputs": [
    {
     "data": {
      "text/plain": [
       "(285, 25)"
      ]
     },
     "execution_count": 208,
     "metadata": {},
     "output_type": "execute_result"
    }
   ],
   "source": [
    "temp1.shape"
   ]
  },
  {
   "cell_type": "code",
   "execution_count": 209,
   "metadata": {},
   "outputs": [],
   "source": [
    "temp1.to_csv('merged0419.csv')"
   ]
  },
  {
   "cell_type": "code",
   "execution_count": null,
   "metadata": {},
   "outputs": [],
   "source": []
  },
  {
   "cell_type": "code",
   "execution_count": 57,
   "metadata": {},
   "outputs": [],
   "source": [
    "census_tract_path = '/Users/Albert/Jupyter/us_tracts/us_tract.shp'\n",
    "tracts = gpd.read_file(census_tract_path)"
   ]
  },
  {
   "cell_type": "code",
   "execution_count": null,
   "metadata": {},
   "outputs": [],
   "source": []
  },
  {
   "cell_type": "markdown",
   "metadata": {},
   "source": [
    "Morning Air"
   ]
  },
  {
   "cell_type": "code",
   "execution_count": 178,
   "metadata": {},
   "outputs": [],
   "source": [
    "airqm = pd.read_csv('/Users/Albert/Jupyter/ManhattanAirMorning6.csv')"
   ]
  },
  {
   "cell_type": "code",
   "execution_count": 181,
   "metadata": {},
   "outputs": [
    {
     "data": {
      "text/plain": [
       "(288, 8)"
      ]
     },
     "execution_count": 181,
     "metadata": {},
     "output_type": "execute_result"
    }
   ],
   "source": [
    "airqm.head()\n",
    "airqm.shape"
   ]
  },
  {
   "cell_type": "code",
   "execution_count": 186,
   "metadata": {},
   "outputs": [],
   "source": [
    "airqm['region_id'] = airqm['region_id'].astype(str)"
   ]
  },
  {
   "cell_type": "code",
   "execution_count": 187,
   "metadata": {},
   "outputs": [],
   "source": [
    "tempm = airqm.merge(temp1, on= 'region_id')"
   ]
  },
  {
   "cell_type": "code",
   "execution_count": 188,
   "metadata": {},
   "outputs": [
    {
     "data": {
      "text/html": [
       "<div>\n",
       "<style scoped>\n",
       "    .dataframe tbody tr th:only-of-type {\n",
       "        vertical-align: middle;\n",
       "    }\n",
       "\n",
       "    .dataframe tbody tr th {\n",
       "        vertical-align: top;\n",
       "    }\n",
       "\n",
       "    .dataframe thead th {\n",
       "        text-align: right;\n",
       "    }\n",
       "</style>\n",
       "<table border=\"1\" class=\"dataframe\">\n",
       "  <thead>\n",
       "    <tr style=\"text-align: right;\">\n",
       "      <th></th>\n",
       "      <th>Unnamed: 0</th>\n",
       "      <th>aqi</th>\n",
       "      <th>category</th>\n",
       "      <th>color</th>\n",
       "      <th>pollutant</th>\n",
       "      <th>lat</th>\n",
       "      <th>lng</th>\n",
       "      <th>region_id</th>\n",
       "      <th>heightroof</th>\n",
       "      <th>groundelev</th>\n",
       "      <th>...</th>\n",
       "      <th>volume</th>\n",
       "      <th>assessland</th>\n",
       "      <th>assesstot</th>\n",
       "      <th>respct</th>\n",
       "      <th>offpct</th>\n",
       "      <th>retpct</th>\n",
       "      <th>facpct</th>\n",
       "      <th>strpct</th>\n",
       "      <th>totalemission</th>\n",
       "      <th>directemission</th>\n",
       "    </tr>\n",
       "  </thead>\n",
       "  <tbody>\n",
       "    <tr>\n",
       "      <th>0</th>\n",
       "      <td>1</td>\n",
       "      <td>73</td>\n",
       "      <td>Good air quality</td>\n",
       "      <td>#76CA33</td>\n",
       "      <td>pm10</td>\n",
       "      <td>40.762604</td>\n",
       "      <td>-73.972131</td>\n",
       "      <td>36061011202</td>\n",
       "      <td>295.038846</td>\n",
       "      <td>47.961538</td>\n",
       "      <td>...</td>\n",
       "      <td>1.421244e+08</td>\n",
       "      <td>410476041.0</td>\n",
       "      <td>2.028268e+09</td>\n",
       "      <td>0.083092</td>\n",
       "      <td>0.756442</td>\n",
       "      <td>0.079605</td>\n",
       "      <td>0.0</td>\n",
       "      <td>0.001150</td>\n",
       "      <td>58787.0</td>\n",
       "      <td>2196.0</td>\n",
       "    </tr>\n",
       "    <tr>\n",
       "      <th>1</th>\n",
       "      <td>2</td>\n",
       "      <td>76</td>\n",
       "      <td>Good air quality</td>\n",
       "      <td>#69C534</td>\n",
       "      <td>no2</td>\n",
       "      <td>40.728956</td>\n",
       "      <td>-73.971355</td>\n",
       "      <td>36061004400</td>\n",
       "      <td>58.000000</td>\n",
       "      <td>9.000000</td>\n",
       "      <td>...</td>\n",
       "      <td>2.238177e+06</td>\n",
       "      <td>0.0</td>\n",
       "      <td>0.000000e+00</td>\n",
       "      <td>0.000000</td>\n",
       "      <td>0.000000</td>\n",
       "      <td>0.000000</td>\n",
       "      <td>0.0</td>\n",
       "      <td>0.000000</td>\n",
       "      <td>1234.7</td>\n",
       "      <td>86.3</td>\n",
       "    </tr>\n",
       "    <tr>\n",
       "      <th>2</th>\n",
       "      <td>3</td>\n",
       "      <td>72</td>\n",
       "      <td>Good air quality</td>\n",
       "      <td>#7BCB33</td>\n",
       "      <td>pm10</td>\n",
       "      <td>40.721711</td>\n",
       "      <td>-74.014607</td>\n",
       "      <td>36061003900</td>\n",
       "      <td>118.596244</td>\n",
       "      <td>12.000000</td>\n",
       "      <td>...</td>\n",
       "      <td>9.170093e+07</td>\n",
       "      <td>101331767.0</td>\n",
       "      <td>1.054072e+09</td>\n",
       "      <td>0.624222</td>\n",
       "      <td>0.281913</td>\n",
       "      <td>0.032668</td>\n",
       "      <td>0.0</td>\n",
       "      <td>0.005671</td>\n",
       "      <td>32562.6</td>\n",
       "      <td>12887.6</td>\n",
       "    </tr>\n",
       "    <tr>\n",
       "      <th>3</th>\n",
       "      <td>5</td>\n",
       "      <td>71</td>\n",
       "      <td>Good air quality</td>\n",
       "      <td>#7FCD33</td>\n",
       "      <td>pm10</td>\n",
       "      <td>40.753648</td>\n",
       "      <td>-73.974742</td>\n",
       "      <td>36061009200</td>\n",
       "      <td>321.222680</td>\n",
       "      <td>44.818182</td>\n",
       "      <td>...</td>\n",
       "      <td>3.138490e+08</td>\n",
       "      <td>461018701.0</td>\n",
       "      <td>2.437429e+09</td>\n",
       "      <td>0.068227</td>\n",
       "      <td>0.741460</td>\n",
       "      <td>0.028592</td>\n",
       "      <td>0.0</td>\n",
       "      <td>0.000004</td>\n",
       "      <td>111021.8</td>\n",
       "      <td>5119.3</td>\n",
       "    </tr>\n",
       "    <tr>\n",
       "      <th>4</th>\n",
       "      <td>6</td>\n",
       "      <td>81</td>\n",
       "      <td>Excellent air quality</td>\n",
       "      <td>#53BD35</td>\n",
       "      <td>no2</td>\n",
       "      <td>40.853979</td>\n",
       "      <td>-73.937385</td>\n",
       "      <td>36061027300</td>\n",
       "      <td>68.850818</td>\n",
       "      <td>221.470588</td>\n",
       "      <td>...</td>\n",
       "      <td>3.786648e+07</td>\n",
       "      <td>18041852.0</td>\n",
       "      <td>1.517801e+08</td>\n",
       "      <td>0.927501</td>\n",
       "      <td>0.003371</td>\n",
       "      <td>0.011865</td>\n",
       "      <td>0.0</td>\n",
       "      <td>0.000000</td>\n",
       "      <td>23743.0</td>\n",
       "      <td>19159.6</td>\n",
       "    </tr>\n",
       "  </tbody>\n",
       "</table>\n",
       "<p>5 rows × 33 columns</p>\n",
       "</div>"
      ],
      "text/plain": [
       "   Unnamed: 0  aqi               category    color pollutant        lat  \\\n",
       "0           1   73       Good air quality  #76CA33      pm10  40.762604   \n",
       "1           2   76       Good air quality  #69C534       no2  40.728956   \n",
       "2           3   72       Good air quality  #7BCB33      pm10  40.721711   \n",
       "3           5   71       Good air quality  #7FCD33      pm10  40.753648   \n",
       "4           6   81  Excellent air quality  #53BD35       no2  40.853979   \n",
       "\n",
       "         lng    region_id  heightroof  groundelev  ...        volume  \\\n",
       "0 -73.972131  36061011202  295.038846   47.961538  ...  1.421244e+08   \n",
       "1 -73.971355  36061004400   58.000000    9.000000  ...  2.238177e+06   \n",
       "2 -74.014607  36061003900  118.596244   12.000000  ...  9.170093e+07   \n",
       "3 -73.974742  36061009200  321.222680   44.818182  ...  3.138490e+08   \n",
       "4 -73.937385  36061027300   68.850818  221.470588  ...  3.786648e+07   \n",
       "\n",
       "    assessland     assesstot    respct    offpct    retpct  facpct    strpct  \\\n",
       "0  410476041.0  2.028268e+09  0.083092  0.756442  0.079605     0.0  0.001150   \n",
       "1          0.0  0.000000e+00  0.000000  0.000000  0.000000     0.0  0.000000   \n",
       "2  101331767.0  1.054072e+09  0.624222  0.281913  0.032668     0.0  0.005671   \n",
       "3  461018701.0  2.437429e+09  0.068227  0.741460  0.028592     0.0  0.000004   \n",
       "4   18041852.0  1.517801e+08  0.927501  0.003371  0.011865     0.0  0.000000   \n",
       "\n",
       "   totalemission  directemission  \n",
       "0        58787.0          2196.0  \n",
       "1         1234.7            86.3  \n",
       "2        32562.6         12887.6  \n",
       "3       111021.8          5119.3  \n",
       "4        23743.0         19159.6  \n",
       "\n",
       "[5 rows x 33 columns]"
      ]
     },
     "execution_count": 188,
     "metadata": {},
     "output_type": "execute_result"
    }
   ],
   "source": [
    "tempm.head()"
   ]
  },
  {
   "cell_type": "code",
   "execution_count": 189,
   "metadata": {},
   "outputs": [
    {
     "data": {
      "text/plain": [
       "(281, 33)"
      ]
     },
     "execution_count": 189,
     "metadata": {},
     "output_type": "execute_result"
    }
   ],
   "source": [
    "tempm.shape"
   ]
  },
  {
   "cell_type": "code",
   "execution_count": null,
   "metadata": {},
   "outputs": [],
   "source": []
  },
  {
   "cell_type": "markdown",
   "metadata": {},
   "source": [
    "Correlation"
   ]
  },
  {
   "cell_type": "code",
   "execution_count": null,
   "metadata": {},
   "outputs": [],
   "source": []
  },
  {
   "cell_type": "code",
   "execution_count": 192,
   "metadata": {},
   "outputs": [],
   "source": [
    "corrs = tempm.drop(['Unnamed: 0', 'category', 'color', 'pollutant','lat','lng','region_id'], axis=1).apply(lambda x: pearsonr(x, tempm['aqi']))\n",
    "corrs = corrs.reset_index()\n"
   ]
  },
  {
   "cell_type": "code",
   "execution_count": 194,
   "metadata": {},
   "outputs": [],
   "source": [
    "corrs[['r', 'p']] = pd.DataFrame(corrs[0].tolist(), \n",
    "                                 index=corrs.index)\n",
    "corrs.drop([0], axis=1, inplace=True)"
   ]
  },
  {
   "cell_type": "code",
   "execution_count": 195,
   "metadata": {},
   "outputs": [
    {
     "data": {
      "text/html": [
       "<div>\n",
       "<style scoped>\n",
       "    .dataframe tbody tr th:only-of-type {\n",
       "        vertical-align: middle;\n",
       "    }\n",
       "\n",
       "    .dataframe tbody tr th {\n",
       "        vertical-align: top;\n",
       "    }\n",
       "\n",
       "    .dataframe thead th {\n",
       "        text-align: right;\n",
       "    }\n",
       "</style>\n",
       "<table border=\"1\" class=\"dataframe\">\n",
       "  <thead>\n",
       "    <tr style=\"text-align: right;\">\n",
       "      <th></th>\n",
       "      <th>index</th>\n",
       "      <th>r</th>\n",
       "      <th>p</th>\n",
       "    </tr>\n",
       "  </thead>\n",
       "  <tbody>\n",
       "    <tr>\n",
       "      <th>0</th>\n",
       "      <td>aqi</td>\n",
       "      <td>1.000000</td>\n",
       "      <td>0.000000</td>\n",
       "    </tr>\n",
       "    <tr>\n",
       "      <th>1</th>\n",
       "      <td>heightroof</td>\n",
       "      <td>-0.146242</td>\n",
       "      <td>0.014138</td>\n",
       "    </tr>\n",
       "    <tr>\n",
       "      <th>2</th>\n",
       "      <td>groundelev</td>\n",
       "      <td>0.136972</td>\n",
       "      <td>0.021638</td>\n",
       "    </tr>\n",
       "    <tr>\n",
       "      <th>3</th>\n",
       "      <td>ld01</td>\n",
       "      <td>NaN</td>\n",
       "      <td>1.000000</td>\n",
       "    </tr>\n",
       "    <tr>\n",
       "      <th>4</th>\n",
       "      <td>ld02</td>\n",
       "      <td>0.144022</td>\n",
       "      <td>0.015688</td>\n",
       "    </tr>\n",
       "  </tbody>\n",
       "</table>\n",
       "</div>"
      ],
      "text/plain": [
       "        index         r         p\n",
       "0         aqi  1.000000  0.000000\n",
       "1  heightroof -0.146242  0.014138\n",
       "2  groundelev  0.136972  0.021638\n",
       "3        ld01       NaN  1.000000\n",
       "4        ld02  0.144022  0.015688"
      ]
     },
     "execution_count": 195,
     "metadata": {},
     "output_type": "execute_result"
    }
   ],
   "source": [
    "corrs.head()"
   ]
  },
  {
   "cell_type": "code",
   "execution_count": 196,
   "metadata": {},
   "outputs": [
    {
     "data": {
      "text/plain": [
       "(26, 3)"
      ]
     },
     "execution_count": 196,
     "metadata": {},
     "output_type": "execute_result"
    }
   ],
   "source": [
    "corrs.shape"
   ]
  },
  {
   "cell_type": "code",
   "execution_count": 197,
   "metadata": {},
   "outputs": [],
   "source": [
    "corrs.to_csv('corrsmorning.csv')"
   ]
  },
  {
   "cell_type": "code",
   "execution_count": 198,
   "metadata": {},
   "outputs": [
    {
     "data": {
      "text/html": [
       "<div>\n",
       "<style scoped>\n",
       "    .dataframe tbody tr th:only-of-type {\n",
       "        vertical-align: middle;\n",
       "    }\n",
       "\n",
       "    .dataframe tbody tr th {\n",
       "        vertical-align: top;\n",
       "    }\n",
       "\n",
       "    .dataframe thead th {\n",
       "        text-align: right;\n",
       "    }\n",
       "</style>\n",
       "<table border=\"1\" class=\"dataframe\">\n",
       "  <thead>\n",
       "    <tr style=\"text-align: right;\">\n",
       "      <th></th>\n",
       "      <th>index</th>\n",
       "      <th>r</th>\n",
       "      <th>p</th>\n",
       "    </tr>\n",
       "  </thead>\n",
       "  <tbody>\n",
       "    <tr>\n",
       "      <th>14</th>\n",
       "      <td>alonepct</td>\n",
       "      <td>0.203190</td>\n",
       "      <td>0.000611</td>\n",
       "    </tr>\n",
       "    <tr>\n",
       "      <th>4</th>\n",
       "      <td>ld02</td>\n",
       "      <td>0.144022</td>\n",
       "      <td>0.015688</td>\n",
       "    </tr>\n",
       "    <tr>\n",
       "      <th>2</th>\n",
       "      <td>groundelev</td>\n",
       "      <td>0.136972</td>\n",
       "      <td>0.021638</td>\n",
       "    </tr>\n",
       "    <tr>\n",
       "      <th>19</th>\n",
       "      <td>respct</td>\n",
       "      <td>0.126493</td>\n",
       "      <td>0.034050</td>\n",
       "    </tr>\n",
       "    <tr>\n",
       "      <th>1</th>\n",
       "      <td>heightroof</td>\n",
       "      <td>-0.146242</td>\n",
       "      <td>0.014138</td>\n",
       "    </tr>\n",
       "    <tr>\n",
       "      <th>16</th>\n",
       "      <td>volume</td>\n",
       "      <td>-0.149103</td>\n",
       "      <td>0.012339</td>\n",
       "    </tr>\n",
       "    <tr>\n",
       "      <th>7</th>\n",
       "      <td>ld05</td>\n",
       "      <td>-0.180641</td>\n",
       "      <td>0.002369</td>\n",
       "    </tr>\n",
       "    <tr>\n",
       "      <th>21</th>\n",
       "      <td>retpct</td>\n",
       "      <td>-0.198120</td>\n",
       "      <td>0.000839</td>\n",
       "    </tr>\n",
       "    <tr>\n",
       "      <th>15</th>\n",
       "      <td>far</td>\n",
       "      <td>-0.211233</td>\n",
       "      <td>0.000363</td>\n",
       "    </tr>\n",
       "    <tr>\n",
       "      <th>20</th>\n",
       "      <td>offpct</td>\n",
       "      <td>-0.215562</td>\n",
       "      <td>0.000272</td>\n",
       "    </tr>\n",
       "  </tbody>\n",
       "</table>\n",
       "</div>"
      ],
      "text/plain": [
       "         index         r         p\n",
       "14    alonepct  0.203190  0.000611\n",
       "4         ld02  0.144022  0.015688\n",
       "2   groundelev  0.136972  0.021638\n",
       "19      respct  0.126493  0.034050\n",
       "1   heightroof -0.146242  0.014138\n",
       "16      volume -0.149103  0.012339\n",
       "7         ld05 -0.180641  0.002369\n",
       "21      retpct -0.198120  0.000839\n",
       "15         far -0.211233  0.000363\n",
       "20      offpct -0.215562  0.000272"
      ]
     },
     "execution_count": 198,
     "metadata": {},
     "output_type": "execute_result"
    }
   ],
   "source": [
    "corrs.loc[corrs['p'] < .05].sort_values(by='r', ascending=False)[1:20]"
   ]
  },
  {
   "cell_type": "code",
   "execution_count": null,
   "metadata": {},
   "outputs": [],
   "source": []
  }
 ],
 "metadata": {
  "kernelspec": {
   "display_name": "Python 3",
   "language": "python",
   "name": "python3"
  },
  "language_info": {
   "codemirror_mode": {
    "name": "ipython",
    "version": 3
   },
   "file_extension": ".py",
   "mimetype": "text/x-python",
   "name": "python",
   "nbconvert_exporter": "python",
   "pygments_lexer": "ipython3",
   "version": "3.7.3"
  }
 },
 "nbformat": 4,
 "nbformat_minor": 2
}
